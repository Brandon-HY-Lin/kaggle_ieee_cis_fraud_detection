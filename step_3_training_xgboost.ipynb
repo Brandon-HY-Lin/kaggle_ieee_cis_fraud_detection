{
 "cells": [
  {
   "cell_type": "markdown",
   "metadata": {},
   "source": [
    "# Train using XGBoost"
   ]
  },
  {
   "cell_type": "code",
   "execution_count": 1,
   "metadata": {},
   "outputs": [],
   "source": [
    "import pandas as pd\n",
    "import numpy as np\n",
    "\n",
    "from sklearn import preprocessing\n",
    "from tqdm import tqdm"
   ]
  },
  {
   "cell_type": "markdown",
   "metadata": {},
   "source": [
    "# Read Datasets"
   ]
  },
  {
   "cell_type": "code",
   "execution_count": 2,
   "metadata": {},
   "outputs": [
    {
     "name": "stdout",
     "output_type": "stream",
     "text": [
      "CPU times: user 21.6 s, sys: 2.53 s, total: 24.1 s\n",
      "Wall time: 23.3 s\n"
     ]
    }
   ],
   "source": [
    "%time train = pd.read_csv('./datasets/train_transaction.csv')"
   ]
  },
  {
   "cell_type": "code",
   "execution_count": 3,
   "metadata": {},
   "outputs": [
    {
     "name": "stdout",
     "output_type": "stream",
     "text": [
      "CPU times: user 597 ms, sys: 11.6 ms, total: 609 ms\n",
      "Wall time: 599 ms\n"
     ]
    }
   ],
   "source": [
    "%time train_identity = pd.read_csv('./datasets/train_identity.csv')"
   ]
  },
  {
   "cell_type": "markdown",
   "metadata": {},
   "source": [
    "# Encode\n",
    "- Special decoding of R_emaildomain and P_emaildomain\n",
    "    - Combine these 2 features and fit them."
   ]
  },
  {
   "cell_type": "code",
   "execution_count": 4,
   "metadata": {},
   "outputs": [
    {
     "name": "stdout",
     "output_type": "stream",
     "text": [
      "['ProductCD', 'card4', 'card6', 'P_emaildomain', 'R_emaildomain', 'M1', 'M2', 'M3', 'M4', 'M5', 'M6', 'M7', 'M8', 'M9']\n"
     ]
    }
   ],
   "source": [
    "def get_string_features(df):\n",
    "    \"\"\"\n",
    "    Get features with numpy.dtype of 'object'\n",
    "    \"\"\"\n",
    "    string_features = []\n",
    "    for feature in df.columns:\n",
    "        if df[feature].dtype == np.dtype('object'):\n",
    "            string_features.append(feature)\n",
    "            \n",
    "    return string_features\n",
    "\n",
    "\n",
    "string_features = get_string_features(train)\n",
    "print(string_features)"
   ]
  },
  {
   "cell_type": "markdown",
   "metadata": {},
   "source": [
    "# Encode String Features of Transaction File"
   ]
  },
  {
   "cell_type": "code",
   "execution_count": 5,
   "metadata": {},
   "outputs": [],
   "source": [
    "import pdb\n",
    "\n",
    "def gen_encoder(series, encode_nan=False):\n",
    "    \"\"\"\n",
    "    Args:\n",
    "        series (pandas.Series):\n",
    "        \n",
    "    Return:\n",
    "        encoder (sklearn.preprocessing.LabelEncoder):\n",
    "    \"\"\"\n",
    "    \n",
    "    encoder = preprocessing.LabelEncoder()\n",
    "    \n",
    "    if encode_nan:\n",
    "        encoder.fit(series)\n",
    "    else:\n",
    "        encoder.fit(series[series.notnull()])\n",
    "    \n",
    "    return encoder\n",
    "\n",
    "\n",
    "def get_string_features(df):\n",
    "    \"\"\"\n",
    "    Args:\n",
    "        df (pandas.DataFrame):\n",
    "    \n",
    "    Return:\n",
    "        string_features (list of str):\n",
    "    \"\"\"\n",
    "    string_features = []\n",
    "    \n",
    "    for col in df.columns:\n",
    "        if df[col].dtype is np.dtype('object'):\n",
    "            string_features.append(col)\n",
    "            \n",
    "    return string_features\n",
    "    \n",
    "\n",
    "def generate_encoders(df, feature_names):\n",
    "    encoder_dict = {}\n",
    "    \n",
    "    # fit \n",
    "    for feature in feature_names:\n",
    "        \n",
    "        # P_emaildomain and R_emaildomain needs to be encoded together.\n",
    "        if feature is not 'P_emaildomain' and \\\n",
    "            feature is not 'R_emaildomain':\n",
    "            \n",
    "#             pdb.set_trace()\n",
    "            \n",
    "            # encode labels\n",
    "            encoder = gen_encoder(df[feature], encode_nan=False)\n",
    "            \n",
    "            # record encoder\n",
    "            encoder_dict[feature] = encoder\n",
    "    \n",
    "    \n",
    "    # Combine P_emaildomain and R_emaildomain\n",
    "    encoder = gen_encoder(pd.concat([df['P_emaildomain'], df['R_emaildomain']],ignore_index=True),\n",
    "                         encode_nan=False)\n",
    "    \n",
    "    encoder_dict['P_emaildomain'] = encoder\n",
    "    encoder_dict['R_emaildomain'] = encoder\n",
    "    \n",
    "    return encoder_dict\n",
    "    \n",
    "\n",
    "def encode_feature(series, encoder):\n",
    "    \"\"\"\n",
    "    Args:\n",
    "        series (pandas.Series):\n",
    "        encoder (sklearn.preprocessing.LabelEncoder):\n",
    "    \n",
    "    Return:\n",
    "        series_encoded (pandas.Series):\n",
    "    \"\"\"\n",
    "    \n",
    "    return pd.Series(\n",
    "                    encoder.transform(series[series.notnull()]),\n",
    "                    index=series[series.notnull()].index)\n",
    "\n",
    "\n",
    "def encode_string_features(df, encoder_dict):\n",
    "    \"\"\"\n",
    "    Args:\n",
    "        df (pandas.DataFrame):\n",
    "        encoder_dict (dict): encoders w.r.t. string features.\n",
    "    \"\"\"\n",
    "    \n",
    "    for feature, encoder in encoder_dict.items():\n",
    "        # get encoder\n",
    "        encoder = encoder_dict[feature]\n",
    "\n",
    "        # Start encoding\n",
    "        new_feature_name = '{}_encoded'.format(feature)\n",
    "        new_index = df.columns.get_loc(feature) + 1\n",
    "        \n",
    "        df.insert(new_index, \n",
    "                  new_feature_name, \n",
    "                  encode_feature(df[feature], encoder))\n",
    "            \n",
    "            \n",
    "encoder_dict = generate_encoders(train, string_features)"
   ]
  },
  {
   "cell_type": "code",
   "execution_count": 6,
   "metadata": {},
   "outputs": [
    {
     "name": "stdout",
     "output_type": "stream",
     "text": [
      "CPU times: user 3.11 s, sys: 11.7 ms, total: 3.13 s\n",
      "Wall time: 2.73 s\n"
     ]
    }
   ],
   "source": [
    "%time encode_string_features(train, encoder_dict)"
   ]
  },
  {
   "cell_type": "markdown",
   "metadata": {},
   "source": [
    "### Drop old string features before training"
   ]
  },
  {
   "cell_type": "code",
   "execution_count": 7,
   "metadata": {},
   "outputs": [],
   "source": [
    "train = train.drop(columns=string_features)"
   ]
  },
  {
   "cell_type": "markdown",
   "metadata": {},
   "source": [
    "# Encode String Features of Identity File"
   ]
  },
  {
   "cell_type": "code",
   "execution_count": 8,
   "metadata": {},
   "outputs": [
    {
     "name": "stdout",
     "output_type": "stream",
     "text": [
      "Extract features: id_30\n",
      "CPU times: user 364 ms, sys: 0 ns, total: 364 ms\n",
      "Wall time: 364 ms\n",
      "Extract features: id_30\n",
      "CPU times: user 312 ms, sys: 0 ns, total: 312 ms\n",
      "Wall time: 312 ms\n",
      "Extract features: id_31\n",
      "CPU times: user 18.1 s, sys: 197 ms, total: 18.3 s\n",
      "Wall time: 17.9 s\n",
      "Extract features: id_31\n",
      "CPU times: user 17.7 s, sys: 145 ms, total: 17.8 s\n",
      "Wall time: 17.7 s\n",
      "Extract features: id_31\n",
      "CPU times: user 18 s, sys: 211 ms, total: 18.2 s\n",
      "Wall time: 17.9 s\n",
      "Extract features: id_33\n",
      "CPU times: user 62.6 ms, sys: 0 ns, total: 62.6 ms\n",
      "Wall time: 62.4 ms\n",
      "Extract features: id_33\n",
      "CPU times: user 62.9 ms, sys: 0 ns, total: 62.9 ms\n",
      "Wall time: 62.8 ms\n",
      "Extract features: DeviceInfo\n",
      "CPU times: user 3.2 s, sys: 0 ns, total: 3.2 s\n",
      "Wall time: 3.2 s\n"
     ]
    }
   ],
   "source": [
    "import re\n",
    "\n",
    "def get_os(info):\n",
    "    version = get_os_version(info)\n",
    "    \n",
    "    if version is np.nan or version is None:\n",
    "        return info\n",
    "    \n",
    "    return info.strip(version).strip()\n",
    "\n",
    "\n",
    "def get_os_version(info):\n",
    "    \n",
    "    results = re.findall('\\d+\\.\\d\\.*\\d*', info)\n",
    "    if len(results) > 0:\n",
    "        return results[0]\n",
    "    \n",
    "    results = re.findall('\\d+\\_\\d+\\_*\\d*', info)\n",
    "    if len(results) > 0:\n",
    "        return results[0]\n",
    "    \n",
    "    results = re.findall('\\d+', info)\n",
    "    if len(results) > 0:\n",
    "        return results[0]\n",
    "    \n",
    "    return np.nan\n",
    "\n",
    "\n",
    "def split_browser_info(info):\n",
    "    \n",
    "    if info is np.nan:\n",
    "        return pd.Series([np.nan, np.nan, np.nan])\n",
    "    \n",
    "    known_developers = ['android browser',\n",
    "                       'chrome',\n",
    "                       'edge',\n",
    "                        'firefox',\n",
    "                        'google search application',\n",
    "                        'google',\n",
    "                        'Generic/Android',\n",
    "                       'ie',\n",
    "                        'line',\n",
    "                        'Microsoft',\n",
    "                        'opera',\n",
    "                        'samsung',\n",
    "                       'safari',\n",
    "                        'ZTE/Blade',\n",
    "                       'other']\n",
    "    \n",
    "    developer = np.nan\n",
    "    version = np.nan\n",
    "    \n",
    "    # Grep version\n",
    "    results = re.findall('\\d+\\.\\d+', info)\n",
    "    if len(results) > 0:\n",
    "        str_version = results[0]\n",
    "        version = float(str_version)\n",
    "        info = info.replace(str_version, '')\n",
    "        \n",
    "    # Grep Developer\n",
    "    for d in known_developers:\n",
    "        if d in info:\n",
    "            developer = d\n",
    "            info = info.replace(d, '')\n",
    "    \n",
    "    # Remove 'for'\n",
    "    if 'for' in info:\n",
    "        info = info.replace('for', '')\n",
    "    \n",
    "    # remove consecutive whitespaces and keep only 1 whitespace.\n",
    "    info = ' '.join(info.split())\n",
    "    if len(info.strip()) == 0:\n",
    "        info = np.nan\n",
    "    \n",
    "    if developer is np.nan:\n",
    "        developer = info\n",
    "        info = np.nan\n",
    "        \n",
    "    return pd.Series([developer, version, info])\n",
    "\n",
    "\n",
    "def get_manufacture(device_info, return_nan=True):\n",
    "    \n",
    "    if device_info is None:\n",
    "        return device_info\n",
    "    \n",
    "    starts_dict = {'0P': 'HTC',\n",
    "                   '2P': 'HTC',\n",
    "                   '40': 'ALCATEL',\n",
    "                   '50': 'ALCATEL',\n",
    "                   '60': 'ALCATEL',\n",
    "                   '70': 'ALCATEL',\n",
    "                   '80': 'ALCATEL',\n",
    "                   '90': 'ALCATEL',\n",
    "                   'Android': 'os-Android', #############\n",
    "                   'ASUS': 'ASUS',\n",
    "                   'Aquaris': 'Aquaris',\n",
    "                   'ALCATEL': 'ALCATEL',\n",
    "                   'AX': 'Bmobile', # Mexico\n",
    "                   'B1-': 'Acer',\n",
    "                   'B3-': 'Acer',\n",
    "                   'BB': 'BlackBerry',\n",
    "                   'BLADE': 'ZTE',\n",
    "                   'BLN': 'HUAWEI',\n",
    "                   'BLU': 'BLU', # American\n",
    "                   'BND': 'HUAWEI',\n",
    "                   'Build/': 'factory-image', ###############\n",
    "                   'BV': 'Blackview',\n",
    "                   'C1': 'sony',\n",
    "                   'C2': 'sony',\n",
    "                   'C6': 'sony',\n",
    "                   'D2': 'sony',\n",
    "                   'D5': 'sony',\n",
    "                   'D6': 'sony',\n",
    "                   'E2': 'sony',\n",
    "                   'E501': 'Hyundai',\n",
    "                   'E53': 'sony',\n",
    "                   'E55': 'sony',\n",
    "                   'E56': 'sony',\n",
    "                   'E58': 'sony',\n",
    "                   'E6': 'sony',\n",
    "                   'E8': 'sony',\n",
    "                   'en-': 'encoding',  ####################\n",
    "                   'es-': 'encoding',  ####################\n",
    "                   'F3': 'sony',\n",
    "                   'F5': 'sony',\n",
    "                   'F80': 'F2-mobile',\n",
    "                   'F81': 'sony',\n",
    "                   'F83': 'sony',\n",
    "                   'H1': 'sony',\n",
    "                   'H3': 'sony',\n",
    "                   'H5': 'sony',\n",
    "                   'IdeaTab': 'Lenovo',\n",
    "                   'G255': 'Hyundai',\n",
    "                   'G527': 'HUAWEI',\n",
    "                   'G620': 'HUAWEI',\n",
    "                   'G630': 'HUAWEI',\n",
    "                   'G814': 'sony',\n",
    "                   'G8341': 'sony',\n",
    "                   'G3': 'sony',\n",
    "                   'GT-': 'samsung',\n",
    "                   'HTC': 'HTC',\n",
    "                   'HUAWEI': 'HUAWEI',\n",
    "                   'Hisense': 'Hisense',\n",
    "                   'Ilium': 'Lanix', # Italian Company\n",
    "                   'iOS': 'os-ios', ###################\n",
    "                   'iPhone': 'iPhone', #######################\n",
    "                   'iris': 'Lava',\n",
    "                   'K1': 'koobee',\n",
    "                   'K8': 'koobee',\n",
    "                   'K9': 'koobee',\n",
    "                   'Linux': 'os-linux', ######################\n",
    "                   'KF': 'Amazon',  # Kindle Fire\n",
    "                   'Lenovo': 'Lenovo',\n",
    "                   'LG': 'LG',\n",
    "                   'M431': 'Morphe',\n",
    "                   'M4': 'M4',\n",
    "                   'MacOS': 'MacOS',\n",
    "                   'Mi ': 'xiaomi',\n",
    "                   'Microsoft': 'Microsoft',  #############\n",
    "                   'Moto': 'Moto',\n",
    "                   'Nexus': 'google',\n",
    "                   'ONE': 'ONEPLUS',\n",
    "                   'P0': 'Asus',\n",
    "                   'P4': 'Polaroid',\n",
    "                   'P5': 'Polaroid',\n",
    "                   'Pixel': 'google',\n",
    "                   'Q': 'verizon',\n",
    "                   'Redmi': 'xiaomi',\n",
    "                   'RCT': 'RCA',\n",
    "                   'rv:': 'firefox user-agent', ######################\n",
    "                   'SAMSUNG': 'samsung',\n",
    "                   'SCH-': 'samsung',\n",
    "                   'SGH-': 'samsung',\n",
    "                   'SGP': 'sony',\n",
    "                   'SLA': 'HUAWEI',\n",
    "                   'SPH-': 'samsung',\n",
    "                   'SM-': 'samsung',\n",
    "                   'STV100': 'BlackBerry',\n",
    "                   'TA-': 'karbonn',\n",
    "                   'verykool': 'verykool',\n",
    "                   'VK': 'LG',\n",
    "                   'VS': 'LG',\n",
    "                   'Win': 'Windows',\n",
    "                   'XT1': 'Motorola',\n",
    "                   'Z410': 'Acer',\n",
    "                   'Z5': 'ZTE',\n",
    "                   'Z7': 'ZTE',\n",
    "                   'Z8': 'ZTE',\n",
    "                   'Z9 PLUS': 'QMobile',\n",
    "                   'Z95': 'ZTE',\n",
    "                   'Z96': 'ZTE',\n",
    "                   'Z97': 'ZTE',\n",
    "                   'Z98': 'ZTE',\n",
    "                   'ZA': 'Zonda',\n",
    "                   'ZTE': 'ZTE'}\n",
    "    \n",
    "    substring_dict = {'HUAWEI': 'HUAWEI',\n",
    "                     'Build': 'substring-build'\n",
    "                     }\n",
    "    \n",
    "    for prefix, manufacture in starts_dict.items():\n",
    "        if device_info.lower().startswith(prefix.lower()):\n",
    "            return manufacture\n",
    "        \n",
    "        \n",
    "    for substring, manufacture in substring_dict.items():\n",
    "        if substring.lower() in device_info.lower():\n",
    "            return manufacture\n",
    "\n",
    "    if return_nan:\n",
    "        return\n",
    "    else:\n",
    "        return device_info\n",
    "    \n",
    "    \n",
    "def insert_feature(feature_org, feature_new, extractor, df):\n",
    "    \"\"\"\n",
    "    Args:\n",
    "        feature_new (string):\n",
    "        feature_org (string):\n",
    "        df (pandas.DataFrame):\n",
    "    \"\"\"\n",
    "    \n",
    "    \n",
    "\n",
    "\n",
    "extractors = [\n",
    "              ['id_30', 'id_30_os', get_os],\n",
    "              ['id_30', 'id_30_os_version', get_os_version],\n",
    "              ['id_31', 'id_31_developer', lambda x: split_browser_info(x)[0]],\n",
    "              ['id_31', 'id_31_version', lambda x: split_browser_info(x)[1]],\n",
    "              ['id_31', 'id_31_annotation', lambda x: split_browser_info(x)[2]],\n",
    "              ['id_33', 'id_33_width', lambda s: float(s.split('x')[0])],\n",
    "              ['id_33', 'id_33_height', lambda s: float(s.split('x')[1])],\n",
    "              ['DeviceInfo', 'DeviceInfo_map', lambda x: get_manufacture(x, return_nan=False)]\n",
    "             ]\n",
    "\n",
    "def insert_features(extractors, df):\n",
    "    \"\"\"\n",
    "    Extract features of id_30, id_31, id_33, id_34.\n",
    "    \"\"\"\n",
    "    feature_list = []\n",
    "    \n",
    "    for feature_org, feature_new, extractor in extractors:\n",
    "        print('Extract features: {}'.format(feature_org))\n",
    "        \n",
    "        feature_list.append(feature_org)\n",
    "        \n",
    "        # get index of original feature\n",
    "        index_feature_org = df.columns.get_loc(feature_org)\n",
    "\n",
    "        # insert feature\n",
    "        %time df.insert(index_feature_org+1, \\\n",
    "                    feature_new, \\\n",
    "                     df[feature_org].map(extractor, na_action='ignore'))\n",
    "    \n",
    "    \n",
    "    return feature_list\n",
    "\n",
    "\n",
    "feature_list = insert_features(extractors, train_identity)"
   ]
  },
  {
   "cell_type": "markdown",
   "metadata": {},
   "source": [
    "### Drop Original Features"
   ]
  },
  {
   "cell_type": "code",
   "execution_count": 9,
   "metadata": {},
   "outputs": [
    {
     "data": {
      "text/plain": [
       "['id_30', 'id_30', 'id_31', 'id_31', 'id_31', 'id_33', 'id_33', 'DeviceInfo']"
      ]
     },
     "execution_count": 9,
     "metadata": {},
     "output_type": "execute_result"
    }
   ],
   "source": [
    "feature_list"
   ]
  },
  {
   "cell_type": "code",
   "execution_count": 10,
   "metadata": {},
   "outputs": [],
   "source": [
    "train_identity = train_identity.drop(columns=feature_list)"
   ]
  },
  {
   "cell_type": "markdown",
   "metadata": {},
   "source": [
    "# Check whether it has features with numpy object"
   ]
  },
  {
   "cell_type": "code",
   "execution_count": 11,
   "metadata": {},
   "outputs": [
    {
     "name": "stdout",
     "output_type": "stream",
     "text": [
      "id_12\n",
      "id_15\n",
      "id_16\n",
      "id_23\n",
      "id_27\n",
      "id_28\n",
      "id_29\n",
      "id_30_os_version\n",
      "id_30_os\n",
      "id_31_annotation\n",
      "id_31_developer\n",
      "id_34\n",
      "id_35\n",
      "id_36\n",
      "id_37\n",
      "id_38\n",
      "DeviceType\n",
      "DeviceInfo_map\n"
     ]
    }
   ],
   "source": [
    "for col in train_identity.columns:\n",
    "    if train_identity[col].dtype == np.dtype('object'):\n",
    "        print(col)"
   ]
  },
  {
   "cell_type": "markdown",
   "metadata": {},
   "source": [
    "### Encode Labels\n",
    "- Encode All Features with Object Type"
   ]
  },
  {
   "cell_type": "code",
   "execution_count": 12,
   "metadata": {},
   "outputs": [
    {
     "name": "stderr",
     "output_type": "stream",
     "text": [
      "\r",
      "  0%|          | 0/18 [00:00<?, ?it/s]"
     ]
    },
    {
     "name": "stdout",
     "output_type": "stream",
     "text": [
      "Encode id_12\n"
     ]
    },
    {
     "name": "stderr",
     "output_type": "stream",
     "text": [
      "\r",
      "  6%|▌         | 1/18 [00:08<02:22,  8.41s/it]"
     ]
    },
    {
     "name": "stdout",
     "output_type": "stream",
     "text": [
      "Encode id_15\n"
     ]
    },
    {
     "name": "stderr",
     "output_type": "stream",
     "text": [
      "\r",
      " 11%|█         | 2/18 [00:17<02:16,  8.51s/it]"
     ]
    },
    {
     "name": "stdout",
     "output_type": "stream",
     "text": [
      "Encode id_16\n"
     ]
    },
    {
     "name": "stderr",
     "output_type": "stream",
     "text": [
      "\r",
      " 17%|█▋        | 3/18 [00:24<02:03,  8.24s/it]"
     ]
    },
    {
     "name": "stdout",
     "output_type": "stream",
     "text": [
      "Encode id_23\n"
     ]
    },
    {
     "name": "stderr",
     "output_type": "stream",
     "text": [
      "\r",
      " 22%|██▏       | 4/18 [00:25<01:22,  5.87s/it]"
     ]
    },
    {
     "name": "stdout",
     "output_type": "stream",
     "text": [
      "Encode id_27\n"
     ]
    },
    {
     "name": "stderr",
     "output_type": "stream",
     "text": [
      "\r",
      " 28%|██▊       | 5/18 [00:25<00:54,  4.21s/it]"
     ]
    },
    {
     "name": "stdout",
     "output_type": "stream",
     "text": [
      "Encode id_28\n"
     ]
    },
    {
     "name": "stderr",
     "output_type": "stream",
     "text": [
      "\r",
      " 33%|███▎      | 6/18 [00:33<01:04,  5.40s/it]"
     ]
    },
    {
     "name": "stdout",
     "output_type": "stream",
     "text": [
      "Encode id_29\n"
     ]
    },
    {
     "name": "stderr",
     "output_type": "stream",
     "text": [
      "\r",
      " 39%|███▉      | 7/18 [00:41<01:08,  6.22s/it]"
     ]
    },
    {
     "name": "stdout",
     "output_type": "stream",
     "text": [
      "Encode id_30_os_version\n"
     ]
    },
    {
     "name": "stderr",
     "output_type": "stream",
     "text": [
      "\r",
      " 44%|████▍     | 8/18 [01:01<01:41, 10.18s/it]"
     ]
    },
    {
     "name": "stdout",
     "output_type": "stream",
     "text": [
      "Encode id_30_os\n"
     ]
    },
    {
     "name": "stderr",
     "output_type": "stream",
     "text": [
      "\r",
      " 50%|█████     | 9/18 [01:07<01:21,  9.10s/it]"
     ]
    },
    {
     "name": "stdout",
     "output_type": "stream",
     "text": [
      "Encode id_31_annotation\n"
     ]
    },
    {
     "name": "stderr",
     "output_type": "stream",
     "text": [
      "\r",
      " 56%|█████▌    | 10/18 [01:14<01:07,  8.48s/it]"
     ]
    },
    {
     "name": "stdout",
     "output_type": "stream",
     "text": [
      "Encode id_31_developer\n"
     ]
    },
    {
     "name": "stderr",
     "output_type": "stream",
     "text": [
      "\r",
      " 61%|██████    | 11/18 [01:40<01:35, 13.71s/it]"
     ]
    },
    {
     "name": "stdout",
     "output_type": "stream",
     "text": [
      "Encode id_34\n"
     ]
    },
    {
     "name": "stderr",
     "output_type": "stream",
     "text": [
      "\r",
      " 67%|██████▋   | 12/18 [01:45<01:06, 11.11s/it]"
     ]
    },
    {
     "name": "stdout",
     "output_type": "stream",
     "text": [
      "Encode id_35\n"
     ]
    },
    {
     "name": "stderr",
     "output_type": "stream",
     "text": [
      "\r",
      " 72%|███████▏  | 13/18 [01:53<00:50, 10.18s/it]"
     ]
    },
    {
     "name": "stdout",
     "output_type": "stream",
     "text": [
      "Encode id_36\n"
     ]
    },
    {
     "name": "stderr",
     "output_type": "stream",
     "text": [
      "\r",
      " 78%|███████▊  | 14/18 [02:01<00:38,  9.53s/it]"
     ]
    },
    {
     "name": "stdout",
     "output_type": "stream",
     "text": [
      "Encode id_37\n"
     ]
    },
    {
     "name": "stderr",
     "output_type": "stream",
     "text": [
      "\r",
      " 83%|████████▎ | 15/18 [02:09<00:27,  9.10s/it]"
     ]
    },
    {
     "name": "stdout",
     "output_type": "stream",
     "text": [
      "Encode id_38\n"
     ]
    },
    {
     "name": "stderr",
     "output_type": "stream",
     "text": [
      "\r",
      " 89%|████████▉ | 16/18 [02:18<00:17,  8.81s/it]"
     ]
    },
    {
     "name": "stdout",
     "output_type": "stream",
     "text": [
      "Encode DeviceType\n"
     ]
    },
    {
     "name": "stderr",
     "output_type": "stream",
     "text": [
      "\r",
      " 94%|█████████▍| 17/18 [02:26<00:08,  8.63s/it]"
     ]
    },
    {
     "name": "stdout",
     "output_type": "stream",
     "text": [
      "Encode DeviceInfo_map\n"
     ]
    },
    {
     "name": "stderr",
     "output_type": "stream",
     "text": [
      "\r",
      "100%|██████████| 18/18 [03:59<00:00, 34.06s/it]"
     ]
    },
    {
     "name": "stdout",
     "output_type": "stream",
     "text": [
      "CPU times: user 4min, sys: 1.05 s, total: 4min 1s\n",
      "Wall time: 3min 59s\n"
     ]
    },
    {
     "name": "stderr",
     "output_type": "stream",
     "text": [
      "\n"
     ]
    }
   ],
   "source": [
    "def transform_label(label, encoder):\n",
    "    if label in encoder.classes_:\n",
    "        return encoder.transform([label])[0]\n",
    "    else:\n",
    "        return -1\n",
    "    \n",
    "\n",
    "def encode_features(string_features, df):\n",
    "    \"\"\"\n",
    "    Encode features and insert back to datafame.\n",
    "    \"\"\"\n",
    "    encoder_dict = {}\n",
    "    \n",
    "    for feature in tqdm(string_features):\n",
    "        print('Encode {}'.format(feature))\n",
    "        # Get index for inserting encoded feature\n",
    "        index_col = df.columns.get_loc(feature)\n",
    "           \n",
    "        # Encode Feature and insert\n",
    "        encoder = preprocessing.LabelEncoder()\n",
    "        \n",
    "        encoder.fit(df[feature].dropna().unique())\n",
    "        \n",
    "        # Transform\n",
    "        df.insert(index_col+1,\n",
    "                 '{}_encoded'.format(feature),\n",
    "                  df[feature].map(lambda x: transform_label(x, encoder),\n",
    "                                                  na_action='ignore'))\n",
    "        \n",
    "        \n",
    "        encoder_dict[feature] = encoder\n",
    "        \n",
    "        \n",
    "\n",
    "string_features_identity = get_string_features(train_identity)\n",
    "%time encoders = encode_features(string_features_identity, train_identity)"
   ]
  },
  {
   "cell_type": "markdown",
   "metadata": {},
   "source": [
    "### Drop Un-encoded Features"
   ]
  },
  {
   "cell_type": "code",
   "execution_count": 13,
   "metadata": {},
   "outputs": [],
   "source": [
    "train_identity = train_identity.drop(columns=string_features_identity)"
   ]
  },
  {
   "cell_type": "markdown",
   "metadata": {},
   "source": [
    "# Merge Transaction and Identity Files"
   ]
  },
  {
   "cell_type": "code",
   "execution_count": 14,
   "metadata": {},
   "outputs": [
    {
     "name": "stdout",
     "output_type": "stream",
     "text": [
      "(590540, 394)\n",
      "(144233, 45)\n"
     ]
    }
   ],
   "source": [
    "print(train.shape)\n",
    "print(train_identity.shape)"
   ]
  },
  {
   "cell_type": "code",
   "execution_count": 15,
   "metadata": {},
   "outputs": [],
   "source": [
    "train = pd.merge(train, train_identity, on='TransactionID', how='left')"
   ]
  },
  {
   "cell_type": "code",
   "execution_count": 16,
   "metadata": {},
   "outputs": [
    {
     "data": {
      "text/plain": [
       "(590540, 438)"
      ]
     },
     "execution_count": 16,
     "metadata": {},
     "output_type": "execute_result"
    }
   ],
   "source": [
    "train.shape"
   ]
  },
  {
   "cell_type": "markdown",
   "metadata": {},
   "source": [
    "# Prepare Features and Labels for training"
   ]
  },
  {
   "cell_type": "code",
   "execution_count": 17,
   "metadata": {},
   "outputs": [
    {
     "name": "stdout",
     "output_type": "stream",
     "text": [
      "2,064,527,840\n"
     ]
    }
   ],
   "source": [
    "y = train['isFraud']\n",
    "train = train.drop(columns=['TransactionID', 'TransactionDT'])\n",
    "\n",
    "print('{:,}'.format(train.memory_usage().sum()))"
   ]
  },
  {
   "cell_type": "markdown",
   "metadata": {},
   "source": [
    "# Check whether it has string features"
   ]
  },
  {
   "cell_type": "code",
   "execution_count": 18,
   "metadata": {},
   "outputs": [],
   "source": [
    "for col in train.columns:\n",
    "    if train[col].dtype == np.dtype('object'):\n",
    "        print(col)"
   ]
  },
  {
   "cell_type": "markdown",
   "metadata": {},
   "source": [
    "# Train using XGBoost"
   ]
  },
  {
   "cell_type": "code",
   "execution_count": 19,
   "metadata": {},
   "outputs": [
    {
     "name": "stdout",
     "output_type": "stream",
     "text": [
      "4\n"
     ]
    }
   ],
   "source": [
    "import xgboost as xgb\n",
    "import sklearn\n",
    "from multiprocessing import cpu_count\n",
    "\n",
    "\n",
    "print(cpu_count())"
   ]
  },
  {
   "cell_type": "code",
   "execution_count": 20,
   "metadata": {},
   "outputs": [
    {
     "name": "stdout",
     "output_type": "stream",
     "text": [
      "CPU times: user 5min 32s, sys: 5.15 s, total: 5min 37s\n",
      "Wall time: 5min 36s\n"
     ]
    },
    {
     "data": {
      "text/plain": [
       "XGBClassifier(base_score=0.5, booster='gbtree', colsample_bylevel=1,\n",
       "       colsample_bynode=1, colsample_bytree=1, gamma=0, learning_rate=0.1,\n",
       "       max_delta_step=0, max_depth=3, min_child_weight=1, missing=None,\n",
       "       n_estimators=100, n_jobs=1, n_thread=-1, nthread=None,\n",
       "       objective='binary:logistic', random_state=0, reg_alpha=0,\n",
       "       reg_lambda=1, scale_pos_weight=1, seed=27, silent=None, subsample=1,\n",
       "       verbosity=1)"
      ]
     },
     "execution_count": 20,
     "metadata": {},
     "output_type": "execute_result"
    }
   ],
   "source": [
    "seed = 27\n",
    "model = xgb.XGBClassifier(objective='binary:logistic',\n",
    "                            n_thread=-1,\n",
    "                            seed=seed)\n",
    "\n",
    "%time model.fit(train, y, verbose=True)"
   ]
  },
  {
   "cell_type": "markdown",
   "metadata": {},
   "source": [
    "# Save Model"
   ]
  },
  {
   "cell_type": "code",
   "execution_count": 22,
   "metadata": {},
   "outputs": [],
   "source": [
    "filename_model = './models/xgboost/transaction_identity.model'\n",
    "model.save_model(filename_model)"
   ]
  },
  {
   "cell_type": "markdown",
   "metadata": {},
   "source": [
    "# Predict"
   ]
  },
  {
   "cell_type": "code",
   "execution_count": 23,
   "metadata": {},
   "outputs": [
    {
     "name": "stdout",
     "output_type": "stream",
     "text": [
      "CPU times: user 3.12 s, sys: 3.57 s, total: 6.68 s\n",
      "Wall time: 6.72 s\n",
      "CPU times: user 3.07 s, sys: 3.59 s, total: 6.66 s\n",
      "Wall time: 6.66 s\n"
     ]
    }
   ],
   "source": [
    "%time pred = model.predict(train)\n",
    "%time pred_prob = model.predict_proba(train)"
   ]
  },
  {
   "cell_type": "code",
   "execution_count": 24,
   "metadata": {},
   "outputs": [
    {
     "name": "stdout",
     "output_type": "stream",
     "text": [
      "\n",
      "Accuracy: 1.0\n",
      "              precision    recall  f1-score   support\n",
      "\n",
      "           0       1.00      1.00      1.00    569877\n",
      "           1       1.00      1.00      1.00     20663\n",
      "\n",
      "   micro avg       1.00      1.00      1.00    590540\n",
      "   macro avg       1.00      1.00      1.00    590540\n",
      "weighted avg       1.00      1.00      1.00    590540\n",
      "\n",
      "1.0\n"
     ]
    }
   ],
   "source": [
    "accuracy = sklearn.metrics.accuracy_score(y, pred)\n",
    "print()\n",
    "print('Accuracy: {}'.format(accuracy))\n",
    "\n",
    "print(sklearn.metrics.classification_report(y, pred))\n",
    "print(sklearn.metrics.roc_auc_score(y, pred))"
   ]
  },
  {
   "cell_type": "markdown",
   "metadata": {},
   "source": [
    "# Read Test Data"
   ]
  },
  {
   "cell_type": "code",
   "execution_count": 25,
   "metadata": {},
   "outputs": [],
   "source": [
    "test = pd.read_csv('./datasets/test_transaction.csv')"
   ]
  },
  {
   "cell_type": "code",
   "execution_count": 26,
   "metadata": {},
   "outputs": [],
   "source": [
    "test_identity = pd.read_csv('./datasets/test_identity.csv')"
   ]
  },
  {
   "cell_type": "code",
   "execution_count": 27,
   "metadata": {},
   "outputs": [
    {
     "name": "stdout",
     "output_type": "stream",
     "text": [
      "(506691, 393)\n",
      "(141907, 41)\n"
     ]
    }
   ],
   "source": [
    "print(test.shape)\n",
    "print(test_identity.shape)"
   ]
  },
  {
   "cell_type": "markdown",
   "metadata": {},
   "source": [
    "# Encode Features of Test Transaction"
   ]
  },
  {
   "cell_type": "code",
   "execution_count": 32,
   "metadata": {},
   "outputs": [
    {
     "name": "stdout",
     "output_type": "stream",
     "text": [
      "['ProductCD', 'card4', 'card6', 'P_emaildomain', 'R_emaildomain', 'M1', 'M2', 'M3', 'M4', 'M5', 'M6', 'M7', 'M8', 'M9']\n"
     ]
    }
   ],
   "source": [
    "string_features = get_string_features(test)\n",
    "print(string_features)"
   ]
  },
  {
   "cell_type": "code",
   "execution_count": 33,
   "metadata": {},
   "outputs": [
    {
     "name": "stdout",
     "output_type": "stream",
     "text": [
      "CPU times: user 2.5 s, sys: 0 ns, total: 2.5 s\n",
      "Wall time: 2.54 s\n"
     ]
    }
   ],
   "source": [
    "%time encode_string_features(test, encoder_dict)"
   ]
  },
  {
   "cell_type": "markdown",
   "metadata": {},
   "source": [
    "### Drop old string features before training"
   ]
  },
  {
   "cell_type": "code",
   "execution_count": 34,
   "metadata": {},
   "outputs": [],
   "source": [
    "test = test.drop(columns=string_features)"
   ]
  },
  {
   "cell_type": "markdown",
   "metadata": {},
   "source": [
    "# Extract Features in Identity File"
   ]
  },
  {
   "cell_type": "code",
   "execution_count": 35,
   "metadata": {},
   "outputs": [
    {
     "name": "stdout",
     "output_type": "stream",
     "text": [
      "Extract features: id_30\n",
      "CPU times: user 342 ms, sys: 24 µs, total: 342 ms\n",
      "Wall time: 356 ms\n",
      "Extract features: id_30\n",
      "CPU times: user 295 ms, sys: 0 ns, total: 295 ms\n",
      "Wall time: 310 ms\n",
      "Extract features: id_31\n",
      "CPU times: user 17.8 s, sys: 261 ms, total: 18.1 s\n",
      "Wall time: 17.8 s\n",
      "Extract features: id_31\n",
      "CPU times: user 17.2 s, sys: 101 ms, total: 17.3 s\n",
      "Wall time: 17.1 s\n",
      "Extract features: id_31\n",
      "CPU times: user 17.4 s, sys: 288 ms, total: 17.7 s\n",
      "Wall time: 17.3 s\n",
      "Extract features: id_33\n",
      "CPU times: user 61.2 ms, sys: 0 ns, total: 61.2 ms\n",
      "Wall time: 61 ms\n",
      "Extract features: id_33\n",
      "CPU times: user 60.9 ms, sys: 0 ns, total: 60.9 ms\n",
      "Wall time: 60.7 ms\n",
      "Extract features: DeviceInfo\n",
      "CPU times: user 3.1 s, sys: 0 ns, total: 3.1 s\n",
      "Wall time: 3.09 s\n"
     ]
    }
   ],
   "source": [
    "feature_list = insert_features(extractors, test_identity)"
   ]
  },
  {
   "cell_type": "markdown",
   "metadata": {},
   "source": [
    "# Drop Features"
   ]
  },
  {
   "cell_type": "code",
   "execution_count": 36,
   "metadata": {},
   "outputs": [],
   "source": [
    "test_identity = test_identity.drop(columns=feature_list)"
   ]
  },
  {
   "cell_type": "markdown",
   "metadata": {},
   "source": [
    "# Encode Identity Features"
   ]
  },
  {
   "cell_type": "code",
   "execution_count": null,
   "metadata": {},
   "outputs": [],
   "source": [
    "string_features_identity = get_string_features(train_identity)\n",
    "%time encoders = encode_features(string_features_identity, train_identity, encode_dict)"
   ]
  }
 ],
 "metadata": {
  "kernelspec": {
   "display_name": "Python 3",
   "language": "python",
   "name": "python3"
  },
  "language_info": {
   "codemirror_mode": {
    "name": "ipython",
    "version": 3
   },
   "file_extension": ".py",
   "mimetype": "text/x-python",
   "name": "python",
   "nbconvert_exporter": "python",
   "pygments_lexer": "ipython3",
   "version": "3.7.3"
  }
 },
 "nbformat": 4,
 "nbformat_minor": 2
}
