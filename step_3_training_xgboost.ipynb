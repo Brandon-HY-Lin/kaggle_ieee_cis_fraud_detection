{
 "cells": [
  {
   "cell_type": "markdown",
   "metadata": {},
   "source": [
    "# Train using XGBoost"
   ]
  },
  {
   "cell_type": "code",
   "execution_count": 1,
   "metadata": {},
   "outputs": [],
   "source": [
    "import pandas as pd\n",
    "import numpy as np\n",
    "\n",
    "from sklearn import preprocessing\n",
    "from tqdm import tqdm\n",
    "import pickle"
   ]
  },
  {
   "cell_type": "markdown",
   "metadata": {},
   "source": [
    "# Read Datasets"
   ]
  },
  {
   "cell_type": "code",
   "execution_count": 2,
   "metadata": {},
   "outputs": [
    {
     "name": "stdout",
     "output_type": "stream",
     "text": [
      "CPU times: user 21.2 s, sys: 2.72 s, total: 23.9 s\n",
      "Wall time: 23.2 s\n"
     ]
    }
   ],
   "source": [
    "%time train = pd.read_csv('./datasets/train_transaction.csv')"
   ]
  },
  {
   "cell_type": "code",
   "execution_count": 3,
   "metadata": {},
   "outputs": [
    {
     "name": "stdout",
     "output_type": "stream",
     "text": [
      "CPU times: user 598 ms, sys: 8.09 ms, total: 606 ms\n",
      "Wall time: 598 ms\n"
     ]
    }
   ],
   "source": [
    "%time train_identity = pd.read_csv('./datasets/train_identity.csv')"
   ]
  },
  {
   "cell_type": "markdown",
   "metadata": {},
   "source": [
    "# Encode\n",
    "- Special decoding of R_emaildomain and P_emaildomain\n",
    "    - Combine these 2 features and fit them."
   ]
  },
  {
   "cell_type": "code",
   "execution_count": 4,
   "metadata": {},
   "outputs": [
    {
     "name": "stdout",
     "output_type": "stream",
     "text": [
      "['ProductCD', 'card4', 'card6', 'P_emaildomain', 'R_emaildomain', 'M1', 'M2', 'M3', 'M4', 'M5', 'M6', 'M7', 'M8', 'M9']\n"
     ]
    }
   ],
   "source": [
    "def get_string_features(df):\n",
    "    \"\"\"\n",
    "    Get features with numpy.dtype of 'object'\n",
    "    \"\"\"\n",
    "    string_features = []\n",
    "    for feature in df.columns:\n",
    "        if df[feature].dtype == np.dtype('object'):\n",
    "            string_features.append(feature)\n",
    "            \n",
    "    return string_features\n",
    "\n",
    "\n",
    "string_features = get_string_features(train)\n",
    "print(string_features)"
   ]
  },
  {
   "cell_type": "markdown",
   "metadata": {},
   "source": [
    "# Encode String Features of Transaction File"
   ]
  },
  {
   "cell_type": "code",
   "execution_count": 5,
   "metadata": {},
   "outputs": [],
   "source": [
    "import pdb\n",
    "\n",
    "def gen_encoder(series, encode_nan=False):\n",
    "    \"\"\"\n",
    "    Args:\n",
    "        series (pandas.Series):\n",
    "        \n",
    "    Return:\n",
    "        encoder (sklearn.preprocessing.LabelEncoder):\n",
    "    \"\"\"\n",
    "    \n",
    "    encoder = preprocessing.LabelEncoder()\n",
    "    \n",
    "    if encode_nan:\n",
    "        encoder.fit(series)\n",
    "    else:\n",
    "        encoder.fit(series[series.notnull()])\n",
    "    \n",
    "    return encoder\n",
    "\n",
    "\n",
    "def get_string_features(df):\n",
    "    \"\"\"\n",
    "    Args:\n",
    "        df (pandas.DataFrame):\n",
    "    \n",
    "    Return:\n",
    "        string_features (list of str):\n",
    "    \"\"\"\n",
    "    string_features = []\n",
    "    \n",
    "    for col in df.columns:\n",
    "        if df[col].dtype is np.dtype('object'):\n",
    "            string_features.append(col)\n",
    "            \n",
    "    return string_features\n",
    "    \n",
    "\n",
    "def generate_encoders(df, feature_names):\n",
    "    encoder_dict = {}\n",
    "    \n",
    "    # fit \n",
    "    for feature in feature_names:\n",
    "        \n",
    "        # P_emaildomain and R_emaildomain needs to be encoded together.\n",
    "        if feature is not 'P_emaildomain' and \\\n",
    "            feature is not 'R_emaildomain':\n",
    "            \n",
    "#             pdb.set_trace()\n",
    "            \n",
    "            # encode labels\n",
    "            encoder = gen_encoder(df[feature], encode_nan=False)\n",
    "            \n",
    "            # record encoder\n",
    "            encoder_dict[feature] = encoder\n",
    "    \n",
    "    \n",
    "    # Combine P_emaildomain and R_emaildomain\n",
    "    encoder = gen_encoder(pd.concat([df['P_emaildomain'], df['R_emaildomain']],ignore_index=True),\n",
    "                         encode_nan=False)\n",
    "    \n",
    "    encoder_dict['P_emaildomain'] = encoder\n",
    "    encoder_dict['R_emaildomain'] = encoder\n",
    "    \n",
    "    return encoder_dict\n",
    "    \n",
    "\n",
    "def encode_feature(series, encoder):\n",
    "    \"\"\"\n",
    "    Args:\n",
    "        series (pandas.Series):\n",
    "        encoder (sklearn.preprocessing.LabelEncoder):\n",
    "    \n",
    "    Return:\n",
    "        series_encoded (pandas.Series):\n",
    "    \"\"\"\n",
    "    \n",
    "    return pd.Series(\n",
    "                    encoder.transform(series[series.notnull()]),\n",
    "                    index=series[series.notnull()].index)\n",
    "\n",
    "\n",
    "def encode_string_features(df, encoder_dict):\n",
    "    \"\"\"\n",
    "    Args:\n",
    "        df (pandas.DataFrame):\n",
    "        encoder_dict (dict): encoders w.r.t. string features.\n",
    "    \"\"\"\n",
    "    \n",
    "    for feature, encoder in encoder_dict.items():\n",
    "        # get encoder\n",
    "        encoder = encoder_dict[feature]\n",
    "\n",
    "        # Start encoding\n",
    "        new_feature_name = '{}_encoded'.format(feature)\n",
    "        new_index = df.columns.get_loc(feature) + 1\n",
    "        \n",
    "        df.insert(new_index, \n",
    "                  new_feature_name, \n",
    "                  encode_feature(df[feature], encoder))\n",
    "            \n",
    "            \n",
    "encoder_dict_transaction = generate_encoders(train, string_features)"
   ]
  },
  {
   "cell_type": "code",
   "execution_count": 6,
   "metadata": {},
   "outputs": [
    {
     "name": "stdout",
     "output_type": "stream",
     "text": [
      "CPU times: user 3.11 s, sys: 7.83 ms, total: 3.12 s\n",
      "Wall time: 2.74 s\n"
     ]
    }
   ],
   "source": [
    "%time encode_string_features(train, encoder_dict_transaction)"
   ]
  },
  {
   "cell_type": "markdown",
   "metadata": {},
   "source": [
    "### Drop old string features before training"
   ]
  },
  {
   "cell_type": "code",
   "execution_count": 7,
   "metadata": {},
   "outputs": [],
   "source": [
    "train = train.drop(columns=string_features)"
   ]
  },
  {
   "cell_type": "markdown",
   "metadata": {},
   "source": [
    "# Encode String Features of Identity File"
   ]
  },
  {
   "cell_type": "code",
   "execution_count": 8,
   "metadata": {},
   "outputs": [
    {
     "name": "stderr",
     "output_type": "stream",
     "text": [
      "\r",
      "  0%|          | 0/8 [00:00<?, ?it/s]"
     ]
    },
    {
     "name": "stdout",
     "output_type": "stream",
     "text": [
      "Extract features: id_30\n"
     ]
    },
    {
     "name": "stderr",
     "output_type": "stream",
     "text": [
      "\r",
      " 12%|█▎        | 1/8 [00:00<00:02,  2.72it/s]"
     ]
    },
    {
     "name": "stdout",
     "output_type": "stream",
     "text": [
      "CPU times: user 366 ms, sys: 489 µs, total: 366 ms\n",
      "Wall time: 366 ms\n",
      "Extract features: id_30\n"
     ]
    },
    {
     "name": "stderr",
     "output_type": "stream",
     "text": [
      "\r",
      " 25%|██▌       | 2/8 [00:00<00:02,  2.85it/s]"
     ]
    },
    {
     "name": "stdout",
     "output_type": "stream",
     "text": [
      "CPU times: user 309 ms, sys: 1.93 ms, total: 311 ms\n",
      "Wall time: 311 ms\n",
      "Extract features: id_31\n"
     ]
    },
    {
     "name": "stderr",
     "output_type": "stream",
     "text": [
      "\r",
      " 38%|███▊      | 3/8 [00:18<00:27,  5.55s/it]"
     ]
    },
    {
     "name": "stdout",
     "output_type": "stream",
     "text": [
      "CPU times: user 17.7 s, sys: 298 ms, total: 18 s\n",
      "Wall time: 17.7 s\n",
      "Extract features: id_31\n"
     ]
    },
    {
     "name": "stderr",
     "output_type": "stream",
     "text": [
      "\r",
      " 50%|█████     | 4/8 [00:36<00:36,  9.21s/it]"
     ]
    },
    {
     "name": "stdout",
     "output_type": "stream",
     "text": [
      "CPU times: user 17.8 s, sys: 180 ms, total: 18 s\n",
      "Wall time: 17.7 s\n",
      "Extract features: id_31\n"
     ]
    },
    {
     "name": "stderr",
     "output_type": "stream",
     "text": [
      " 88%|████████▊ | 7/8 [00:53<00:08,  8.23s/it]"
     ]
    },
    {
     "name": "stdout",
     "output_type": "stream",
     "text": [
      "CPU times: user 17.7 s, sys: 101 ms, total: 17.8 s\n",
      "Wall time: 17.6 s\n",
      "Extract features: id_33\n",
      "CPU times: user 63.2 ms, sys: 0 ns, total: 63.2 ms\n",
      "Wall time: 62.8 ms\n",
      "Extract features: id_33\n",
      "CPU times: user 58.9 ms, sys: 3.91 ms, total: 62.8 ms\n",
      "Wall time: 62.6 ms\n",
      "Extract features: DeviceInfo\n"
     ]
    },
    {
     "name": "stderr",
     "output_type": "stream",
     "text": [
      "\r",
      "100%|██████████| 8/8 [00:57<00:00,  6.72s/it]"
     ]
    },
    {
     "name": "stdout",
     "output_type": "stream",
     "text": [
      "CPU times: user 3.21 s, sys: 0 ns, total: 3.21 s\n",
      "Wall time: 3.21 s\n"
     ]
    },
    {
     "name": "stderr",
     "output_type": "stream",
     "text": [
      "\n"
     ]
    }
   ],
   "source": [
    "import re\n",
    "\n",
    "def get_os(info):\n",
    "    version = get_os_version(info)\n",
    "    \n",
    "    if version is np.nan or version is None:\n",
    "        return info\n",
    "    \n",
    "    return info.strip(version).strip()\n",
    "\n",
    "\n",
    "def get_os_version(info):\n",
    "    \n",
    "    results = re.findall('\\d+\\.\\d\\.*\\d*', info)\n",
    "    if len(results) > 0:\n",
    "        return results[0]\n",
    "    \n",
    "    results = re.findall('\\d+\\_\\d+\\_*\\d*', info)\n",
    "    if len(results) > 0:\n",
    "        return results[0]\n",
    "    \n",
    "    results = re.findall('\\d+', info)\n",
    "    if len(results) > 0:\n",
    "        return results[0]\n",
    "    \n",
    "    return np.nan\n",
    "\n",
    "\n",
    "def split_browser_info(info):\n",
    "    \n",
    "    if info is np.nan:\n",
    "        return pd.Series([np.nan, np.nan, np.nan])\n",
    "    \n",
    "    known_developers = ['android browser',\n",
    "                       'chrome',\n",
    "                       'edge',\n",
    "                        'firefox',\n",
    "                        'google search application',\n",
    "                        'google',\n",
    "                        'Generic/Android',\n",
    "                       'ie',\n",
    "                        'line',\n",
    "                        'Microsoft',\n",
    "                        'opera',\n",
    "                        'samsung',\n",
    "                       'safari',\n",
    "                        'ZTE/Blade',\n",
    "                       'other']\n",
    "    \n",
    "    developer = np.nan\n",
    "    version = np.nan\n",
    "    \n",
    "    # Grep version\n",
    "    results = re.findall('\\d+\\.\\d+', info)\n",
    "    if len(results) > 0:\n",
    "        str_version = results[0]\n",
    "        version = float(str_version)\n",
    "        info = info.replace(str_version, '')\n",
    "        \n",
    "    # Grep Developer\n",
    "    for d in known_developers:\n",
    "        if d in info:\n",
    "            developer = d\n",
    "            info = info.replace(d, '')\n",
    "    \n",
    "    # Remove 'for'\n",
    "    if 'for' in info:\n",
    "        info = info.replace('for', '')\n",
    "    \n",
    "    # remove consecutive whitespaces and keep only 1 whitespace.\n",
    "    info = ' '.join(info.split())\n",
    "    if len(info.strip()) == 0:\n",
    "        info = np.nan\n",
    "    \n",
    "    if developer is np.nan:\n",
    "        developer = info\n",
    "        info = np.nan\n",
    "        \n",
    "    return pd.Series([developer, version, info])\n",
    "\n",
    "\n",
    "def get_manufacture(device_info, return_nan=True):\n",
    "    \n",
    "    if device_info is None:\n",
    "        return device_info\n",
    "    \n",
    "    starts_dict = {'0P': 'HTC',\n",
    "                   '2P': 'HTC',\n",
    "                   '40': 'ALCATEL',\n",
    "                   '50': 'ALCATEL',\n",
    "                   '60': 'ALCATEL',\n",
    "                   '70': 'ALCATEL',\n",
    "                   '80': 'ALCATEL',\n",
    "                   '90': 'ALCATEL',\n",
    "                   'Android': 'os-Android', #############\n",
    "                   'ASUS': 'ASUS',\n",
    "                   'Aquaris': 'Aquaris',\n",
    "                   'ALCATEL': 'ALCATEL',\n",
    "                   'AX': 'Bmobile', # Mexico\n",
    "                   'B1-': 'Acer',\n",
    "                   'B3-': 'Acer',\n",
    "                   'BB': 'BlackBerry',\n",
    "                   'BLADE': 'ZTE',\n",
    "                   'BLN': 'HUAWEI',\n",
    "                   'BLU': 'BLU', # American\n",
    "                   'BND': 'HUAWEI',\n",
    "                   'Build/': 'factory-image', ###############\n",
    "                   'BV': 'Blackview',\n",
    "                   'C1': 'sony',\n",
    "                   'C2': 'sony',\n",
    "                   'C6': 'sony',\n",
    "                   'D2': 'sony',\n",
    "                   'D5': 'sony',\n",
    "                   'D6': 'sony',\n",
    "                   'E2': 'sony',\n",
    "                   'E501': 'Hyundai',\n",
    "                   'E53': 'sony',\n",
    "                   'E55': 'sony',\n",
    "                   'E56': 'sony',\n",
    "                   'E58': 'sony',\n",
    "                   'E6': 'sony',\n",
    "                   'E8': 'sony',\n",
    "                   'en-': 'encoding',  ####################\n",
    "                   'es-': 'encoding',  ####################\n",
    "                   'F3': 'sony',\n",
    "                   'F5': 'sony',\n",
    "                   'F80': 'F2-mobile',\n",
    "                   'F81': 'sony',\n",
    "                   'F83': 'sony',\n",
    "                   'H1': 'sony',\n",
    "                   'H3': 'sony',\n",
    "                   'H5': 'sony',\n",
    "                   'IdeaTab': 'Lenovo',\n",
    "                   'G255': 'Hyundai',\n",
    "                   'G527': 'HUAWEI',\n",
    "                   'G620': 'HUAWEI',\n",
    "                   'G630': 'HUAWEI',\n",
    "                   'G814': 'sony',\n",
    "                   'G8341': 'sony',\n",
    "                   'G3': 'sony',\n",
    "                   'GT-': 'samsung',\n",
    "                   'HTC': 'HTC',\n",
    "                   'HUAWEI': 'HUAWEI',\n",
    "                   'Hisense': 'Hisense',\n",
    "                   'Ilium': 'Lanix', # Italian Company\n",
    "                   'iOS': 'os-ios', ###################\n",
    "                   'iPhone': 'iPhone', #######################\n",
    "                   'iris': 'Lava',\n",
    "                   'K1': 'koobee',\n",
    "                   'K8': 'koobee',\n",
    "                   'K9': 'koobee',\n",
    "                   'Linux': 'os-linux', ######################\n",
    "                   'KF': 'Amazon',  # Kindle Fire\n",
    "                   'Lenovo': 'Lenovo',\n",
    "                   'LG': 'LG',\n",
    "                   'M431': 'Morphe',\n",
    "                   'M4': 'M4',\n",
    "                   'MacOS': 'MacOS',\n",
    "                   'Mi ': 'xiaomi',\n",
    "                   'Microsoft': 'Microsoft',  #############\n",
    "                   'Moto': 'Moto',\n",
    "                   'Nexus': 'google',\n",
    "                   'ONE': 'ONEPLUS',\n",
    "                   'P0': 'Asus',\n",
    "                   'P4': 'Polaroid',\n",
    "                   'P5': 'Polaroid',\n",
    "                   'Pixel': 'google',\n",
    "                   'Q': 'verizon',\n",
    "                   'Redmi': 'xiaomi',\n",
    "                   'RCT': 'RCA',\n",
    "                   'rv:': 'firefox user-agent', ######################\n",
    "                   'SAMSUNG': 'samsung',\n",
    "                   'SCH-': 'samsung',\n",
    "                   'SGH-': 'samsung',\n",
    "                   'SGP': 'sony',\n",
    "                   'SLA': 'HUAWEI',\n",
    "                   'SPH-': 'samsung',\n",
    "                   'SM-': 'samsung',\n",
    "                   'STV100': 'BlackBerry',\n",
    "                   'TA-': 'karbonn',\n",
    "                   'verykool': 'verykool',\n",
    "                   'VK': 'LG',\n",
    "                   'VS': 'LG',\n",
    "                   'Win': 'Windows',\n",
    "                   'XT1': 'Motorola',\n",
    "                   'Z410': 'Acer',\n",
    "                   'Z5': 'ZTE',\n",
    "                   'Z7': 'ZTE',\n",
    "                   'Z8': 'ZTE',\n",
    "                   'Z9 PLUS': 'QMobile',\n",
    "                   'Z95': 'ZTE',\n",
    "                   'Z96': 'ZTE',\n",
    "                   'Z97': 'ZTE',\n",
    "                   'Z98': 'ZTE',\n",
    "                   'ZA': 'Zonda',\n",
    "                   'ZTE': 'ZTE'}\n",
    "    \n",
    "    substring_dict = {'HUAWEI': 'HUAWEI',\n",
    "                     'Build': 'substring-build'\n",
    "                     }\n",
    "    \n",
    "    for prefix, manufacture in starts_dict.items():\n",
    "        if device_info.lower().startswith(prefix.lower()):\n",
    "            return manufacture\n",
    "        \n",
    "        \n",
    "    for substring, manufacture in substring_dict.items():\n",
    "        if substring.lower() in device_info.lower():\n",
    "            return manufacture\n",
    "\n",
    "    if return_nan:\n",
    "        return\n",
    "    else:\n",
    "        return device_info\n",
    "    \n",
    "    \n",
    "def insert_feature(feature_org, feature_new, extractor, df):\n",
    "    \"\"\"\n",
    "    Args:\n",
    "        feature_new (string):\n",
    "        feature_org (string):\n",
    "        df (pandas.DataFrame):\n",
    "    \"\"\"\n",
    "    \n",
    "    \n",
    "\n",
    "\n",
    "extractors = [\n",
    "              ['id_30', 'id_30_os', get_os],\n",
    "              ['id_30', 'id_30_os_version', get_os_version],\n",
    "              ['id_31', 'id_31_developer', lambda x: split_browser_info(x)[0]],\n",
    "              ['id_31', 'id_31_version', lambda x: split_browser_info(x)[1]],\n",
    "              ['id_31', 'id_31_annotation', lambda x: split_browser_info(x)[2]],\n",
    "              ['id_33', 'id_33_width', lambda s: float(s.split('x')[0])],\n",
    "              ['id_33', 'id_33_height', lambda s: float(s.split('x')[1])],\n",
    "              ['DeviceInfo', 'DeviceInfo_map', lambda x: get_manufacture(x, return_nan=False)]\n",
    "             ]\n",
    "\n",
    "def insert_features(extractors, df):\n",
    "    \"\"\"\n",
    "    Extract features of id_30, id_31, id_33, id_34.\n",
    "    \"\"\"\n",
    "    feature_list = []\n",
    "    \n",
    "    for feature_org, feature_new, extractor in tqdm(extractors):\n",
    "        print('Extract features: {}'.format(feature_org))\n",
    "        \n",
    "        feature_list.append(feature_org)\n",
    "        \n",
    "        # get index of original feature\n",
    "        index_feature_org = df.columns.get_loc(feature_org)\n",
    "\n",
    "        # insert feature\n",
    "        %time df.insert(index_feature_org+1, \\\n",
    "                    feature_new, \\\n",
    "                     df[feature_org].map(extractor, na_action='ignore'))\n",
    "    \n",
    "    \n",
    "    return feature_list\n",
    "\n",
    "\n",
    "feature_list = insert_features(extractors, train_identity)"
   ]
  },
  {
   "cell_type": "markdown",
   "metadata": {},
   "source": [
    "### Drop Original Features"
   ]
  },
  {
   "cell_type": "code",
   "execution_count": 9,
   "metadata": {},
   "outputs": [
    {
     "data": {
      "text/plain": [
       "['id_30', 'id_30', 'id_31', 'id_31', 'id_31', 'id_33', 'id_33', 'DeviceInfo']"
      ]
     },
     "execution_count": 9,
     "metadata": {},
     "output_type": "execute_result"
    }
   ],
   "source": [
    "feature_list"
   ]
  },
  {
   "cell_type": "code",
   "execution_count": 10,
   "metadata": {},
   "outputs": [],
   "source": [
    "train_identity = train_identity.drop(columns=feature_list)"
   ]
  },
  {
   "cell_type": "markdown",
   "metadata": {},
   "source": [
    "# Check whether it has features with numpy object"
   ]
  },
  {
   "cell_type": "code",
   "execution_count": 11,
   "metadata": {},
   "outputs": [
    {
     "name": "stdout",
     "output_type": "stream",
     "text": [
      "id_12\n",
      "id_15\n",
      "id_16\n",
      "id_23\n",
      "id_27\n",
      "id_28\n",
      "id_29\n",
      "id_30_os_version\n",
      "id_30_os\n",
      "id_31_annotation\n",
      "id_31_developer\n",
      "id_34\n",
      "id_35\n",
      "id_36\n",
      "id_37\n",
      "id_38\n",
      "DeviceType\n",
      "DeviceInfo_map\n"
     ]
    }
   ],
   "source": [
    "for col in train_identity.columns:\n",
    "    if train_identity[col].dtype == np.dtype('object'):\n",
    "        print(col)"
   ]
  },
  {
   "cell_type": "markdown",
   "metadata": {},
   "source": [
    "### Encode Labels\n",
    "- Encode All Features with Object Type"
   ]
  },
  {
   "cell_type": "code",
   "execution_count": 12,
   "metadata": {},
   "outputs": [
    {
     "name": "stderr",
     "output_type": "stream",
     "text": [
      "\r",
      "  0%|          | 0/18 [00:00<?, ?it/s]"
     ]
    },
    {
     "name": "stdout",
     "output_type": "stream",
     "text": [
      "Encode id_12\n"
     ]
    },
    {
     "name": "stderr",
     "output_type": "stream",
     "text": [
      "\r",
      "  6%|▌         | 1/18 [00:08<02:25,  8.55s/it]"
     ]
    },
    {
     "name": "stdout",
     "output_type": "stream",
     "text": [
      "Encode id_15\n"
     ]
    },
    {
     "name": "stderr",
     "output_type": "stream",
     "text": [
      "\r",
      " 11%|█         | 2/18 [00:17<02:17,  8.62s/it]"
     ]
    },
    {
     "name": "stdout",
     "output_type": "stream",
     "text": [
      "Encode id_16\n"
     ]
    },
    {
     "name": "stderr",
     "output_type": "stream",
     "text": [
      "\r",
      " 17%|█▋        | 3/18 [00:24<02:04,  8.32s/it]"
     ]
    },
    {
     "name": "stdout",
     "output_type": "stream",
     "text": [
      "Encode id_23\n"
     ]
    },
    {
     "name": "stderr",
     "output_type": "stream",
     "text": [
      "\r",
      " 22%|██▏       | 4/18 [00:25<01:23,  5.93s/it]"
     ]
    },
    {
     "name": "stdout",
     "output_type": "stream",
     "text": [
      "Encode id_27\n"
     ]
    },
    {
     "name": "stderr",
     "output_type": "stream",
     "text": [
      "\r",
      " 28%|██▊       | 5/18 [00:25<00:55,  4.25s/it]"
     ]
    },
    {
     "name": "stdout",
     "output_type": "stream",
     "text": [
      "Encode id_28\n"
     ]
    },
    {
     "name": "stderr",
     "output_type": "stream",
     "text": [
      "\r",
      " 33%|███▎      | 6/18 [00:33<01:05,  5.47s/it]"
     ]
    },
    {
     "name": "stdout",
     "output_type": "stream",
     "text": [
      "Encode id_29\n"
     ]
    },
    {
     "name": "stderr",
     "output_type": "stream",
     "text": [
      "\r",
      " 39%|███▉      | 7/18 [00:42<01:09,  6.30s/it]"
     ]
    },
    {
     "name": "stdout",
     "output_type": "stream",
     "text": [
      "Encode id_30_os_version\n"
     ]
    },
    {
     "name": "stderr",
     "output_type": "stream",
     "text": [
      "\r",
      " 44%|████▍     | 8/18 [01:01<01:43, 10.35s/it]"
     ]
    },
    {
     "name": "stdout",
     "output_type": "stream",
     "text": [
      "Encode id_30_os\n"
     ]
    },
    {
     "name": "stderr",
     "output_type": "stream",
     "text": [
      "\r",
      " 50%|█████     | 9/18 [01:08<01:23,  9.26s/it]"
     ]
    },
    {
     "name": "stdout",
     "output_type": "stream",
     "text": [
      "Encode id_31_annotation\n"
     ]
    },
    {
     "name": "stderr",
     "output_type": "stream",
     "text": [
      "\r",
      " 56%|█████▌    | 10/18 [01:15<01:09,  8.64s/it]"
     ]
    },
    {
     "name": "stdout",
     "output_type": "stream",
     "text": [
      "Encode id_31_developer\n"
     ]
    },
    {
     "name": "stderr",
     "output_type": "stream",
     "text": [
      "\r",
      " 61%|██████    | 11/18 [01:41<01:36, 13.78s/it]"
     ]
    },
    {
     "name": "stdout",
     "output_type": "stream",
     "text": [
      "Encode id_34\n"
     ]
    },
    {
     "name": "stderr",
     "output_type": "stream",
     "text": [
      "\r",
      " 67%|██████▋   | 12/18 [01:46<01:06, 11.15s/it]"
     ]
    },
    {
     "name": "stdout",
     "output_type": "stream",
     "text": [
      "Encode id_35\n"
     ]
    },
    {
     "name": "stderr",
     "output_type": "stream",
     "text": [
      "\r",
      " 72%|███████▏  | 13/18 [01:54<00:51, 10.26s/it]"
     ]
    },
    {
     "name": "stdout",
     "output_type": "stream",
     "text": [
      "Encode id_36\n"
     ]
    },
    {
     "name": "stderr",
     "output_type": "stream",
     "text": [
      "\r",
      " 78%|███████▊  | 14/18 [02:02<00:38,  9.62s/it]"
     ]
    },
    {
     "name": "stdout",
     "output_type": "stream",
     "text": [
      "Encode id_37\n"
     ]
    },
    {
     "name": "stderr",
     "output_type": "stream",
     "text": [
      "\r",
      " 83%|████████▎ | 15/18 [02:11<00:27,  9.19s/it]"
     ]
    },
    {
     "name": "stdout",
     "output_type": "stream",
     "text": [
      "Encode id_38\n"
     ]
    },
    {
     "name": "stderr",
     "output_type": "stream",
     "text": [
      "\r",
      " 89%|████████▉ | 16/18 [02:19<00:17,  8.87s/it]"
     ]
    },
    {
     "name": "stdout",
     "output_type": "stream",
     "text": [
      "Encode DeviceType\n"
     ]
    },
    {
     "name": "stderr",
     "output_type": "stream",
     "text": [
      "\r",
      " 94%|█████████▍| 17/18 [02:27<00:08,  8.69s/it]"
     ]
    },
    {
     "name": "stdout",
     "output_type": "stream",
     "text": [
      "Encode DeviceInfo_map\n"
     ]
    },
    {
     "name": "stderr",
     "output_type": "stream",
     "text": [
      "\r",
      "100%|██████████| 18/18 [03:59<00:00, 33.74s/it]"
     ]
    },
    {
     "name": "stdout",
     "output_type": "stream",
     "text": [
      "CPU times: user 4min, sys: 1.13 s, total: 4min 1s\n",
      "Wall time: 3min 59s\n"
     ]
    },
    {
     "name": "stderr",
     "output_type": "stream",
     "text": [
      "\n"
     ]
    }
   ],
   "source": [
    "def transform_label(label, encoder):\n",
    "    if label in encoder.classes_:\n",
    "        return encoder.transform([label])[0]\n",
    "    else:\n",
    "        return -1\n",
    "    \n",
    "\n",
    "def encode_features(string_features, df, encoder_dict=None):\n",
    "    \"\"\"\n",
    "    Encode features and insert back to datafame.\n",
    "    \"\"\"\n",
    "    if encoder_dict is None:\n",
    "        encoder_dict = {}\n",
    "        create_encoders = True\n",
    "    else:\n",
    "        create_encoders = False\n",
    "        \n",
    "    \n",
    "    for feature in tqdm(string_features):\n",
    "        print('Encode {}'.format(feature))\n",
    "        # Get index for inserting encoded feature\n",
    "        index_col = df.columns.get_loc(feature)\n",
    "           \n",
    "        if create_encoders:\n",
    "            # Encode Feature and insert\n",
    "            encoder = preprocessing.LabelEncoder()\n",
    "            encoder.fit(df[feature].dropna().unique())\n",
    "            \n",
    "            # add encoder to dictionary\n",
    "            encoder_dict[feature] = encoder\n",
    "        else:\n",
    "            encoder = encoder_dict[feature]\n",
    "            \n",
    "        \n",
    "        # Transform\n",
    "        df.insert(index_col+1,\n",
    "                 '{}_encoded'.format(feature),\n",
    "                  df[feature].map(lambda x: transform_label(x, encoder),\n",
    "                                                  na_action='ignore'))\n",
    "        \n",
    "        \n",
    "    return encoder_dict\n",
    "        \n",
    "        \n",
    "\n",
    "string_features_identity = get_string_features(train_identity)\n",
    "%time encoder_dict_identity = encode_features(string_features_identity, train_identity)"
   ]
  },
  {
   "cell_type": "markdown",
   "metadata": {},
   "source": [
    "### Drop Un-encoded Features"
   ]
  },
  {
   "cell_type": "code",
   "execution_count": 13,
   "metadata": {},
   "outputs": [],
   "source": [
    "train_identity = train_identity.drop(columns=string_features_identity)"
   ]
  },
  {
   "cell_type": "markdown",
   "metadata": {},
   "source": [
    "# Merge Transaction and Identity Files"
   ]
  },
  {
   "cell_type": "code",
   "execution_count": 14,
   "metadata": {},
   "outputs": [
    {
     "name": "stdout",
     "output_type": "stream",
     "text": [
      "(590540, 394)\n",
      "(144233, 45)\n"
     ]
    }
   ],
   "source": [
    "print(train.shape)\n",
    "print(train_identity.shape)"
   ]
  },
  {
   "cell_type": "code",
   "execution_count": 15,
   "metadata": {},
   "outputs": [],
   "source": [
    "train = pd.merge(train, train_identity, on='TransactionID', how='left')"
   ]
  },
  {
   "cell_type": "code",
   "execution_count": 16,
   "metadata": {},
   "outputs": [
    {
     "data": {
      "text/plain": [
       "(590540, 438)"
      ]
     },
     "execution_count": 16,
     "metadata": {},
     "output_type": "execute_result"
    }
   ],
   "source": [
    "train.shape"
   ]
  },
  {
   "cell_type": "markdown",
   "metadata": {},
   "source": [
    "# Prepare Features and Labels for training"
   ]
  },
  {
   "cell_type": "code",
   "execution_count": 17,
   "metadata": {
    "scrolled": true
   },
   "outputs": [
    {
     "name": "stdout",
     "output_type": "stream",
     "text": [
      "2,059,803,520\n"
     ]
    }
   ],
   "source": [
    "y = train['isFraud']\n",
    "train = train.drop(columns=['TransactionID', 'TransactionDT', 'isFraud'])\n",
    "\n",
    "print('{:,}'.format(train.memory_usage().sum()))"
   ]
  },
  {
   "cell_type": "markdown",
   "metadata": {},
   "source": [
    "# Check whether it has string features"
   ]
  },
  {
   "cell_type": "code",
   "execution_count": 18,
   "metadata": {},
   "outputs": [],
   "source": [
    "for col in train.columns:\n",
    "    if train[col].dtype == np.dtype('object'):\n",
    "        print(col)"
   ]
  },
  {
   "cell_type": "markdown",
   "metadata": {},
   "source": [
    "# Train using XGBoost"
   ]
  },
  {
   "cell_type": "code",
   "execution_count": 19,
   "metadata": {},
   "outputs": [
    {
     "name": "stdout",
     "output_type": "stream",
     "text": [
      "4\n"
     ]
    }
   ],
   "source": [
    "import xgboost as xgb\n",
    "import sklearn\n",
    "from multiprocessing import cpu_count\n",
    "\n",
    "\n",
    "print(cpu_count())"
   ]
  },
  {
   "cell_type": "code",
   "execution_count": 20,
   "metadata": {},
   "outputs": [
    {
     "name": "stdout",
     "output_type": "stream",
     "text": [
      "CPU times: user 8min 3s, sys: 5 s, total: 8min 8s\n",
      "Wall time: 8min 7s\n"
     ]
    },
    {
     "data": {
      "text/plain": [
       "XGBClassifier(base_score=0.5, booster='gbtree', colsample_bylevel=1,\n",
       "       colsample_bynode=1, colsample_bytree=1, gamma=0, learning_rate=0.1,\n",
       "       max_delta_step=0, max_depth=3, min_child_weight=1, missing=None,\n",
       "       n_estimators=100, n_jobs=1, n_thread=3, nthread=None,\n",
       "       objective='binary:logistic', random_state=0, reg_alpha=0,\n",
       "       reg_lambda=1, scale_pos_weight=1, seed=27, silent=None, subsample=1,\n",
       "       verbosity=1)"
      ]
     },
     "execution_count": 20,
     "metadata": {},
     "output_type": "execute_result"
    }
   ],
   "source": [
    "seed = 27\n",
    "model = xgb.XGBClassifier(objective='binary:logistic',\n",
    "                            n_thread=cpu_count()-1,\n",
    "                            seed=seed)\n",
    "\n",
    "%time model.fit(train, y, verbose=True)"
   ]
  },
  {
   "cell_type": "markdown",
   "metadata": {},
   "source": [
    "# Save Model"
   ]
  },
  {
   "cell_type": "code",
   "execution_count": 21,
   "metadata": {},
   "outputs": [],
   "source": [
    "filename_encoder_identity = './models/encoders_identity.pkl'\n",
    "filename_encoder_transaction = './models/encoders_transaction.pkl'\n",
    "\n",
    "with open(filename_encoder_identity, 'wb') as f:\n",
    "    pickle.dump(encoder_dict_identity, f)\n",
    "    \n",
    "with open(filename_encoder_transaction, 'wb') as f:\n",
    "    pickle.dump(encoder_dict_transaction, f)\n",
    "    \n",
    "\n"
   ]
  },
  {
   "cell_type": "code",
   "execution_count": 22,
   "metadata": {},
   "outputs": [],
   "source": [
    "filename_model = './models/xgboost/transaction_identity.pkl'\n",
    "\n",
    "with open(filename_model, 'wb') as f:\n",
    "    pickle.dump(model, f)"
   ]
  },
  {
   "cell_type": "markdown",
   "metadata": {},
   "source": [
    "# Predict"
   ]
  },
  {
   "cell_type": "code",
   "execution_count": 23,
   "metadata": {},
   "outputs": [
    {
     "name": "stdout",
     "output_type": "stream",
     "text": [
      "CPU times: user 3.94 s, sys: 3.71 s, total: 7.65 s\n",
      "Wall time: 7.65 s\n",
      "CPU times: user 4.06 s, sys: 3.6 s, total: 7.66 s\n",
      "Wall time: 7.66 s\n"
     ]
    }
   ],
   "source": [
    "%time pred = model.predict(train)\n",
    "%time pred_prob = model.predict_proba(train)"
   ]
  },
  {
   "cell_type": "code",
   "execution_count": 24,
   "metadata": {
    "scrolled": true
   },
   "outputs": [
    {
     "name": "stdout",
     "output_type": "stream",
     "text": [
      "\n",
      "Accuracy: 0.9740085345615876\n",
      "              precision    recall  f1-score   support\n",
      "\n",
      "           0       0.97      1.00      0.99    569877\n",
      "           1       0.89      0.29      0.44     20663\n",
      "\n",
      "   micro avg       0.97      0.97      0.97    590540\n",
      "   macro avg       0.93      0.65      0.71    590540\n",
      "weighted avg       0.97      0.97      0.97    590540\n",
      "\n",
      "0.6460776744403206\n"
     ]
    }
   ],
   "source": [
    "accuracy = sklearn.metrics.accuracy_score(y, pred)\n",
    "print()\n",
    "print('Accuracy: {}'.format(accuracy))\n",
    "\n",
    "print(sklearn.metrics.classification_report(y, pred))\n",
    "print(sklearn.metrics.roc_auc_score(y, pred))"
   ]
  },
  {
   "cell_type": "markdown",
   "metadata": {},
   "source": [
    "# Delete Train Datasets"
   ]
  },
  {
   "cell_type": "code",
   "execution_count": 25,
   "metadata": {},
   "outputs": [
    {
     "data": {
      "text/plain": [
       "2080"
      ]
     },
     "execution_count": 25,
     "metadata": {},
     "output_type": "execute_result"
    }
   ],
   "source": [
    "del train\n",
    "del train_identity\\\n",
    "\n",
    "import gc\n",
    "gc.collect()"
   ]
  },
  {
   "cell_type": "markdown",
   "metadata": {},
   "source": [
    "# Read Test Data"
   ]
  },
  {
   "cell_type": "code",
   "execution_count": 26,
   "metadata": {},
   "outputs": [],
   "source": [
    "test = pd.read_csv('./datasets/test_transaction.csv')"
   ]
  },
  {
   "cell_type": "code",
   "execution_count": 27,
   "metadata": {},
   "outputs": [],
   "source": [
    "test_identity = pd.read_csv('./datasets/test_identity.csv')"
   ]
  },
  {
   "cell_type": "code",
   "execution_count": 28,
   "metadata": {},
   "outputs": [
    {
     "name": "stdout",
     "output_type": "stream",
     "text": [
      "(506691, 393)\n",
      "(141907, 41)\n"
     ]
    }
   ],
   "source": [
    "print(test.shape)\n",
    "print(test_identity.shape)"
   ]
  },
  {
   "cell_type": "code",
   "execution_count": null,
   "metadata": {},
   "outputs": [],
   "source": [
    "del test_2\n",
    "gc.collect()"
   ]
  },
  {
   "cell_type": "code",
   "execution_count": 55,
   "metadata": {},
   "outputs": [],
   "source": [
    "test_2 = pd.read_csv('./datasets/test_transaction.csv')"
   ]
  },
  {
   "cell_type": "code",
   "execution_count": 57,
   "metadata": {},
   "outputs": [],
   "source": [
    "test_transaction_id = test_2['TransactionID']"
   ]
  },
  {
   "cell_type": "markdown",
   "metadata": {},
   "source": [
    "# Load Model"
   ]
  },
  {
   "cell_type": "code",
   "execution_count": 29,
   "metadata": {},
   "outputs": [],
   "source": [
    "filename_encoder_identity = './models/encoders_identity.pkl'\n",
    "filename_encoder_transaction = './models/encoders_transaction.pkl'\n",
    "filename_model = './models/xgboost/transaction_identity.pkl'\n",
    "\n",
    "with open(filename_encoder_identity, 'rb') as f:\n",
    "    encoder_dict_identity = pickle.load(f)\n",
    "    \n",
    "with open(filename_encoder_transaction, 'rb') as f:\n",
    "    encoder_dict_transaction = pickle.load(f)\n",
    "    \n",
    "    \n"
   ]
  },
  {
   "cell_type": "code",
   "execution_count": 30,
   "metadata": {},
   "outputs": [],
   "source": [
    "\n",
    "with open(filename_model, 'rb') as f:\n",
    "    model = pickle.load(f)"
   ]
  },
  {
   "cell_type": "code",
   "execution_count": 31,
   "metadata": {},
   "outputs": [
    {
     "name": "stdout",
     "output_type": "stream",
     "text": [
      "XGBClassifier(base_score=0.5, booster='gbtree', colsample_bylevel=1,\n",
      "       colsample_bynode=1, colsample_bytree=1, gamma=0, learning_rate=0.1,\n",
      "       max_delta_step=0, max_depth=3, min_child_weight=1, missing=nan,\n",
      "       n_estimators=100, n_jobs=1, n_thread=3, nthread=None,\n",
      "       objective='binary:logistic', random_state=0, reg_alpha=0,\n",
      "       reg_lambda=1, scale_pos_weight=1, seed=27, silent=None, subsample=1,\n",
      "       verbosity=1)\n"
     ]
    }
   ],
   "source": [
    "print(model)"
   ]
  },
  {
   "cell_type": "markdown",
   "metadata": {},
   "source": [
    "# Encode test_transaction"
   ]
  },
  {
   "cell_type": "code",
   "execution_count": 32,
   "metadata": {},
   "outputs": [
    {
     "name": "stdout",
     "output_type": "stream",
     "text": [
      "CPU times: user 2.49 s, sys: 0 ns, total: 2.49 s\n",
      "Wall time: 2.5 s\n"
     ]
    }
   ],
   "source": [
    "%time encode_string_features(test, encoder_dict_transaction)"
   ]
  },
  {
   "cell_type": "markdown",
   "metadata": {},
   "source": [
    "### Drop old string features before training"
   ]
  },
  {
   "cell_type": "code",
   "execution_count": 33,
   "metadata": {},
   "outputs": [
    {
     "name": "stdout",
     "output_type": "stream",
     "text": [
      "['ProductCD', 'card4', 'card6', 'P_emaildomain', 'R_emaildomain', 'M1', 'M2', 'M3', 'M4', 'M5', 'M6', 'M7', 'M8', 'M9']\n"
     ]
    }
   ],
   "source": [
    "string_features = get_string_features(test)\n",
    "print(string_features)"
   ]
  },
  {
   "cell_type": "code",
   "execution_count": 34,
   "metadata": {},
   "outputs": [],
   "source": [
    "test = test.drop(columns=string_features)"
   ]
  },
  {
   "cell_type": "markdown",
   "metadata": {},
   "source": [
    "# Extract Features in Identity File"
   ]
  },
  {
   "cell_type": "code",
   "execution_count": 35,
   "metadata": {},
   "outputs": [
    {
     "name": "stderr",
     "output_type": "stream",
     "text": [
      "\r",
      "  0%|          | 0/8 [00:00<?, ?it/s]"
     ]
    },
    {
     "name": "stdout",
     "output_type": "stream",
     "text": [
      "Extract features: id_30\n"
     ]
    },
    {
     "name": "stderr",
     "output_type": "stream",
     "text": [
      "\r",
      " 12%|█▎        | 1/8 [00:00<00:02,  2.97it/s]"
     ]
    },
    {
     "name": "stdout",
     "output_type": "stream",
     "text": [
      "CPU times: user 336 ms, sys: 0 ns, total: 336 ms\n",
      "Wall time: 335 ms\n",
      "Extract features: id_30\n"
     ]
    },
    {
     "name": "stderr",
     "output_type": "stream",
     "text": [
      "\r",
      " 25%|██▌       | 2/8 [00:00<00:01,  3.10it/s]"
     ]
    },
    {
     "name": "stdout",
     "output_type": "stream",
     "text": [
      "CPU times: user 288 ms, sys: 0 ns, total: 288 ms\n",
      "Wall time: 288 ms\n",
      "Extract features: id_31\n"
     ]
    },
    {
     "name": "stderr",
     "output_type": "stream",
     "text": [
      "\r",
      " 38%|███▊      | 3/8 [00:17<00:26,  5.39s/it]"
     ]
    },
    {
     "name": "stdout",
     "output_type": "stream",
     "text": [
      "CPU times: user 17.3 s, sys: 139 ms, total: 17.4 s\n",
      "Wall time: 17.2 s\n",
      "Extract features: id_31\n"
     ]
    },
    {
     "name": "stderr",
     "output_type": "stream",
     "text": [
      "\r",
      " 50%|█████     | 4/8 [00:35<00:36,  9.03s/it]"
     ]
    },
    {
     "name": "stdout",
     "output_type": "stream",
     "text": [
      "CPU times: user 17.6 s, sys: 238 ms, total: 17.8 s\n",
      "Wall time: 17.5 s\n",
      "Extract features: id_31\n"
     ]
    },
    {
     "name": "stderr",
     "output_type": "stream",
     "text": [
      " 88%|████████▊ | 7/8 [00:52<00:08,  8.03s/it]"
     ]
    },
    {
     "name": "stdout",
     "output_type": "stream",
     "text": [
      "CPU times: user 17.1 s, sys: 71.6 ms, total: 17.1 s\n",
      "Wall time: 17.1 s\n",
      "Extract features: id_33\n",
      "CPU times: user 57.4 ms, sys: 3.9 ms, total: 61.3 ms\n",
      "Wall time: 60.9 ms\n",
      "Extract features: id_33\n",
      "CPU times: user 61.2 ms, sys: 36 µs, total: 61.2 ms\n",
      "Wall time: 61 ms\n",
      "Extract features: DeviceInfo\n"
     ]
    },
    {
     "name": "stderr",
     "output_type": "stream",
     "text": [
      "\r",
      "100%|██████████| 8/8 [00:55<00:00,  6.55s/it]"
     ]
    },
    {
     "name": "stdout",
     "output_type": "stream",
     "text": [
      "CPU times: user 3.12 s, sys: 0 ns, total: 3.12 s\n",
      "Wall time: 3.12 s\n"
     ]
    },
    {
     "name": "stderr",
     "output_type": "stream",
     "text": [
      "\n"
     ]
    }
   ],
   "source": [
    "feature_list = insert_features(extractors, test_identity)"
   ]
  },
  {
   "cell_type": "markdown",
   "metadata": {},
   "source": [
    "# Drop Features"
   ]
  },
  {
   "cell_type": "code",
   "execution_count": 36,
   "metadata": {},
   "outputs": [],
   "source": [
    "test_identity = test_identity.drop(columns=feature_list)"
   ]
  },
  {
   "cell_type": "markdown",
   "metadata": {},
   "source": [
    "# Encode Identity Features"
   ]
  },
  {
   "cell_type": "code",
   "execution_count": 37,
   "metadata": {},
   "outputs": [
    {
     "name": "stderr",
     "output_type": "stream",
     "text": [
      "\r",
      "  0%|          | 0/18 [00:00<?, ?it/s]"
     ]
    },
    {
     "name": "stdout",
     "output_type": "stream",
     "text": [
      "Encode id_12\n"
     ]
    },
    {
     "name": "stderr",
     "output_type": "stream",
     "text": [
      "\r",
      "  6%|▌         | 1/18 [00:08<02:21,  8.33s/it]"
     ]
    },
    {
     "name": "stdout",
     "output_type": "stream",
     "text": [
      "Encode id_15\n"
     ]
    },
    {
     "name": "stderr",
     "output_type": "stream",
     "text": [
      "\r",
      " 11%|█         | 2/18 [00:16<02:14,  8.39s/it]"
     ]
    },
    {
     "name": "stdout",
     "output_type": "stream",
     "text": [
      "Encode id_16\n"
     ]
    },
    {
     "name": "stderr",
     "output_type": "stream",
     "text": [
      "\r",
      " 17%|█▋        | 3/18 [00:24<02:01,  8.11s/it]"
     ]
    },
    {
     "name": "stdout",
     "output_type": "stream",
     "text": [
      "Encode id_23\n"
     ]
    },
    {
     "name": "stderr",
     "output_type": "stream",
     "text": [
      "\r",
      " 22%|██▏       | 4/18 [00:24<01:20,  5.78s/it]"
     ]
    },
    {
     "name": "stdout",
     "output_type": "stream",
     "text": [
      "Encode id_27\n"
     ]
    },
    {
     "name": "stderr",
     "output_type": "stream",
     "text": [
      "\r",
      " 28%|██▊       | 5/18 [00:24<00:53,  4.14s/it]"
     ]
    },
    {
     "name": "stdout",
     "output_type": "stream",
     "text": [
      "Encode id_28\n"
     ]
    },
    {
     "name": "stderr",
     "output_type": "stream",
     "text": [
      "\r",
      " 33%|███▎      | 6/18 [00:33<01:04,  5.34s/it]"
     ]
    },
    {
     "name": "stdout",
     "output_type": "stream",
     "text": [
      "Encode id_29\n"
     ]
    },
    {
     "name": "stderr",
     "output_type": "stream",
     "text": [
      "\r",
      " 39%|███▉      | 7/18 [00:41<01:08,  6.18s/it]"
     ]
    },
    {
     "name": "stdout",
     "output_type": "stream",
     "text": [
      "Encode id_30_os_version\n"
     ]
    },
    {
     "name": "stderr",
     "output_type": "stream",
     "text": [
      "\r",
      " 44%|████▍     | 8/18 [00:55<01:25,  8.54s/it]"
     ]
    },
    {
     "name": "stdout",
     "output_type": "stream",
     "text": [
      "Encode id_30_os\n"
     ]
    },
    {
     "name": "stderr",
     "output_type": "stream",
     "text": [
      "\r",
      " 50%|█████     | 9/18 [01:01<01:10,  7.83s/it]"
     ]
    },
    {
     "name": "stdout",
     "output_type": "stream",
     "text": [
      "Encode id_31_annotation\n"
     ]
    },
    {
     "name": "stderr",
     "output_type": "stream",
     "text": [
      "\r",
      " 56%|█████▌    | 10/18 [01:07<00:59,  7.38s/it]"
     ]
    },
    {
     "name": "stdout",
     "output_type": "stream",
     "text": [
      "Encode id_31_developer\n"
     ]
    },
    {
     "name": "stderr",
     "output_type": "stream",
     "text": [
      "\r",
      " 61%|██████    | 11/18 [01:33<01:30, 12.99s/it]"
     ]
    },
    {
     "name": "stdout",
     "output_type": "stream",
     "text": [
      "Encode id_34\n"
     ]
    },
    {
     "name": "stderr",
     "output_type": "stream",
     "text": [
      "\r",
      " 67%|██████▋   | 12/18 [01:38<01:03, 10.52s/it]"
     ]
    },
    {
     "name": "stdout",
     "output_type": "stream",
     "text": [
      "Encode id_35\n"
     ]
    },
    {
     "name": "stderr",
     "output_type": "stream",
     "text": [
      "\r",
      " 72%|███████▏  | 13/18 [01:46<00:48,  9.77s/it]"
     ]
    },
    {
     "name": "stdout",
     "output_type": "stream",
     "text": [
      "Encode id_36\n"
     ]
    },
    {
     "name": "stderr",
     "output_type": "stream",
     "text": [
      "\r",
      " 78%|███████▊  | 14/18 [01:54<00:36,  9.23s/it]"
     ]
    },
    {
     "name": "stdout",
     "output_type": "stream",
     "text": [
      "Encode id_37\n"
     ]
    },
    {
     "name": "stderr",
     "output_type": "stream",
     "text": [
      "\r",
      " 83%|████████▎ | 15/18 [02:02<00:26,  8.85s/it]"
     ]
    },
    {
     "name": "stdout",
     "output_type": "stream",
     "text": [
      "Encode id_38\n"
     ]
    },
    {
     "name": "stderr",
     "output_type": "stream",
     "text": [
      "\r",
      " 89%|████████▉ | 16/18 [02:10<00:17,  8.59s/it]"
     ]
    },
    {
     "name": "stdout",
     "output_type": "stream",
     "text": [
      "Encode DeviceType\n"
     ]
    },
    {
     "name": "stderr",
     "output_type": "stream",
     "text": [
      "\r",
      " 94%|█████████▍| 17/18 [02:18<00:08,  8.45s/it]"
     ]
    },
    {
     "name": "stdout",
     "output_type": "stream",
     "text": [
      "Encode DeviceInfo_map\n"
     ]
    },
    {
     "name": "stderr",
     "output_type": "stream",
     "text": [
      "\r",
      "100%|██████████| 18/18 [03:54<00:00, 34.63s/it]"
     ]
    },
    {
     "name": "stdout",
     "output_type": "stream",
     "text": [
      "CPU times: user 3min 54s, sys: 820 ms, total: 3min 55s\n",
      "Wall time: 3min 54s\n"
     ]
    },
    {
     "name": "stderr",
     "output_type": "stream",
     "text": [
      "\n"
     ]
    },
    {
     "data": {
      "text/plain": [
       "{'id_12': LabelEncoder(),\n",
       " 'id_15': LabelEncoder(),\n",
       " 'id_16': LabelEncoder(),\n",
       " 'id_23': LabelEncoder(),\n",
       " 'id_27': LabelEncoder(),\n",
       " 'id_28': LabelEncoder(),\n",
       " 'id_29': LabelEncoder(),\n",
       " 'id_30_os_version': LabelEncoder(),\n",
       " 'id_30_os': LabelEncoder(),\n",
       " 'id_31_annotation': LabelEncoder(),\n",
       " 'id_31_developer': LabelEncoder(),\n",
       " 'id_34': LabelEncoder(),\n",
       " 'id_35': LabelEncoder(),\n",
       " 'id_36': LabelEncoder(),\n",
       " 'id_37': LabelEncoder(),\n",
       " 'id_38': LabelEncoder(),\n",
       " 'DeviceType': LabelEncoder(),\n",
       " 'DeviceInfo_map': LabelEncoder()}"
      ]
     },
     "execution_count": 37,
     "metadata": {},
     "output_type": "execute_result"
    }
   ],
   "source": [
    "string_features_identity = get_string_features(test_identity)\n",
    "%time encode_features(string_features_identity, test_identity, encoder_dict_identity)"
   ]
  },
  {
   "cell_type": "markdown",
   "metadata": {},
   "source": [
    "### Drop Un-encoded Features"
   ]
  },
  {
   "cell_type": "code",
   "execution_count": 38,
   "metadata": {},
   "outputs": [],
   "source": [
    "test_identity = test_identity.drop(columns=string_features_identity)"
   ]
  },
  {
   "cell_type": "markdown",
   "metadata": {},
   "source": [
    "# Merge Transaction and Identity Files"
   ]
  },
  {
   "cell_type": "code",
   "execution_count": 39,
   "metadata": {},
   "outputs": [
    {
     "name": "stdout",
     "output_type": "stream",
     "text": [
      "(506691, 393)\n",
      "(141907, 45)\n"
     ]
    }
   ],
   "source": [
    "print(test.shape)\n",
    "print(test_identity.shape)"
   ]
  },
  {
   "cell_type": "code",
   "execution_count": 40,
   "metadata": {},
   "outputs": [],
   "source": [
    "test = pd.merge(test, test_identity, on='TransactionID', how='left')"
   ]
  },
  {
   "cell_type": "code",
   "execution_count": 41,
   "metadata": {},
   "outputs": [
    {
     "data": {
      "text/plain": [
       "(506691, 437)"
      ]
     },
     "execution_count": 41,
     "metadata": {},
     "output_type": "execute_result"
    }
   ],
   "source": [
    "test.shape"
   ]
  },
  {
   "cell_type": "markdown",
   "metadata": {},
   "source": [
    "# Prepare Features and Labels for training"
   ]
  },
  {
   "cell_type": "code",
   "execution_count": 42,
   "metadata": {
    "scrolled": true
   },
   "outputs": [
    {
     "name": "stdout",
     "output_type": "stream",
     "text": [
      "1,767,338,208\n"
     ]
    }
   ],
   "source": [
    "test = test.drop(columns=['TransactionID', 'TransactionDT'])\n",
    "\n",
    "print('{:,}'.format(test.memory_usage().sum()))"
   ]
  },
  {
   "cell_type": "markdown",
   "metadata": {},
   "source": [
    "# Check whether it has string features"
   ]
  },
  {
   "cell_type": "code",
   "execution_count": 43,
   "metadata": {},
   "outputs": [],
   "source": [
    "for col in test.columns:\n",
    "    if test[col].dtype == np.dtype('object'):\n",
    "        print(col)"
   ]
  },
  {
   "cell_type": "markdown",
   "metadata": {},
   "source": [
    "# Predict"
   ]
  },
  {
   "cell_type": "code",
   "execution_count": 44,
   "metadata": {},
   "outputs": [
    {
     "name": "stdout",
     "output_type": "stream",
     "text": [
      "CPU times: user 4.81 s, sys: 3.33 s, total: 8.14 s\n",
      "Wall time: 8.14 s\n",
      "CPU times: user 4.91 s, sys: 3.58 s, total: 8.49 s\n",
      "Wall time: 8.49 s\n"
     ]
    }
   ],
   "source": [
    "%time pred_test = model.predict(test)\n",
    "%time pred_prob_test = model.predict_proba(test)"
   ]
  },
  {
   "cell_type": "code",
   "execution_count": 46,
   "metadata": {
    "scrolled": true
   },
   "outputs": [
    {
     "data": {
      "text/plain": [
       "array([[0.99471414, 0.00528584],\n",
       "       [0.98792773, 0.01207224],\n",
       "       [0.98220813, 0.01779185],\n",
       "       [0.99529856, 0.00470144],\n",
       "       [0.9920213 , 0.00797867]], dtype=float32)"
      ]
     },
     "execution_count": 46,
     "metadata": {},
     "output_type": "execute_result"
    }
   ],
   "source": [
    "pred_prob_test[:5, :]"
   ]
  },
  {
   "cell_type": "code",
   "execution_count": 48,
   "metadata": {},
   "outputs": [
    {
     "data": {
      "text/plain": [
       "array([0, 0, 0, 0, 0])"
      ]
     },
     "execution_count": 48,
     "metadata": {},
     "output_type": "execute_result"
    }
   ],
   "source": [
    "pred_test[:5]"
   ]
  },
  {
   "cell_type": "markdown",
   "metadata": {},
   "source": [
    "# Save Data"
   ]
  },
  {
   "cell_type": "code",
   "execution_count": 60,
   "metadata": {},
   "outputs": [],
   "source": [
    "test_result_df = pd.DataFrame(test_transaction_id, columns=['TransactionID'])"
   ]
  },
  {
   "cell_type": "code",
   "execution_count": 61,
   "metadata": {},
   "outputs": [],
   "source": [
    "test_result_df['isFraud'] = pred_prob_test[:, 1]"
   ]
  },
  {
   "cell_type": "code",
   "execution_count": null,
   "metadata": {},
   "outputs": [],
   "source": []
  },
  {
   "cell_type": "code",
   "execution_count": 62,
   "metadata": {},
   "outputs": [
    {
     "data": {
      "text/html": [
       "<div>\n",
       "<style scoped>\n",
       "    .dataframe tbody tr th:only-of-type {\n",
       "        vertical-align: middle;\n",
       "    }\n",
       "\n",
       "    .dataframe tbody tr th {\n",
       "        vertical-align: top;\n",
       "    }\n",
       "\n",
       "    .dataframe thead th {\n",
       "        text-align: right;\n",
       "    }\n",
       "</style>\n",
       "<table border=\"1\" class=\"dataframe\">\n",
       "  <thead>\n",
       "    <tr style=\"text-align: right;\">\n",
       "      <th></th>\n",
       "      <th>TransactionID</th>\n",
       "      <th>isFraud</th>\n",
       "    </tr>\n",
       "  </thead>\n",
       "  <tbody>\n",
       "    <tr>\n",
       "      <th>0</th>\n",
       "      <td>3663549</td>\n",
       "      <td>0.005286</td>\n",
       "    </tr>\n",
       "    <tr>\n",
       "      <th>1</th>\n",
       "      <td>3663550</td>\n",
       "      <td>0.012072</td>\n",
       "    </tr>\n",
       "    <tr>\n",
       "      <th>2</th>\n",
       "      <td>3663551</td>\n",
       "      <td>0.017792</td>\n",
       "    </tr>\n",
       "    <tr>\n",
       "      <th>3</th>\n",
       "      <td>3663552</td>\n",
       "      <td>0.004701</td>\n",
       "    </tr>\n",
       "    <tr>\n",
       "      <th>4</th>\n",
       "      <td>3663553</td>\n",
       "      <td>0.007979</td>\n",
       "    </tr>\n",
       "  </tbody>\n",
       "</table>\n",
       "</div>"
      ],
      "text/plain": [
       "   TransactionID   isFraud\n",
       "0        3663549  0.005286\n",
       "1        3663550  0.012072\n",
       "2        3663551  0.017792\n",
       "3        3663552  0.004701\n",
       "4        3663553  0.007979"
      ]
     },
     "execution_count": 62,
     "metadata": {},
     "output_type": "execute_result"
    }
   ],
   "source": [
    "test_result_df.head()"
   ]
  },
  {
   "cell_type": "code",
   "execution_count": 64,
   "metadata": {},
   "outputs": [],
   "source": [
    "filename_prediction = './prediction_test.csv'\n",
    "test_result_df.to_csv(filename_prediction, index=False)"
   ]
  },
  {
   "cell_type": "code",
   "execution_count": null,
   "metadata": {},
   "outputs": [],
   "source": []
  }
 ],
 "metadata": {
  "kernelspec": {
   "display_name": "Python 3",
   "language": "python",
   "name": "python3"
  },
  "language_info": {
   "codemirror_mode": {
    "name": "ipython",
    "version": 3
   },
   "file_extension": ".py",
   "mimetype": "text/x-python",
   "name": "python",
   "nbconvert_exporter": "python",
   "pygments_lexer": "ipython3",
   "version": "3.7.3"
  }
 },
 "nbformat": 4,
 "nbformat_minor": 2
}
