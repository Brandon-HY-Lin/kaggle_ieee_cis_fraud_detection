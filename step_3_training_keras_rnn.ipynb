{
 "cells": [
  {
   "cell_type": "markdown",
   "metadata": {},
   "source": [
    "# Train using RNN architecture"
   ]
  },
  {
   "cell_type": "code",
   "execution_count": 1,
   "metadata": {},
   "outputs": [
    {
     "name": "stderr",
     "output_type": "stream",
     "text": [
      "Using TensorFlow backend.\n"
     ]
    },
    {
     "name": "stdout",
     "output_type": "stream",
     "text": [
      "<module 'tensorflow._api.v1.version' from '/home/ec2-user/anaconda3/lib/python3.7/site-packages/tensorflow/_api/v1/version/__init__.py'>\r\n"
     ]
    }
   ],
   "source": [
    "import pandas as pd\n",
    "import numpy as np\n",
    "\n",
    "import keras\n",
    "from keras.layers import TimeDistributed, GRU, Dense, Bidirectional\n",
    "\n",
    "from sklearn.metrics import roc_auc_score\n",
    "\n",
    "!python -c 'import tensorflow as tf; print(tf.version)'"
   ]
  },
  {
   "cell_type": "markdown",
   "metadata": {},
   "source": [
    "# Read/Preprocess Data"
   ]
  },
  {
   "cell_type": "code",
   "execution_count": 2,
   "metadata": {},
   "outputs": [
    {
     "name": "stdout",
     "output_type": "stream",
     "text": [
      "CPU times: user 2.65 s, sys: 518 ms, total: 3.17 s\n",
      "Wall time: 3.44 s\n"
     ]
    }
   ],
   "source": [
    "def get_string_features(df):\n",
    "    string_features = []\n",
    "    \n",
    "    for col in df.columns:\n",
    "        if df[col].dtype == np.dtype('object'):\n",
    "            string_features.append(col)\n",
    "            \n",
    "    return string_features\n",
    "\n",
    "\n",
    "def read_data():\n",
    "    df = pd.read_csv('./datasets/kfold/transaction_fold_0_0_0.csv')\n",
    "    \n",
    "    string_features = get_string_features(df)\n",
    "    \n",
    "    df = df.drop(columns=string_features)\n",
    "    \n",
    "    return df.drop(columns=['isFraud', 'TransactionID', 'TransactionDT']), df['isFraud']\n",
    "\n",
    "    \n",
    "%time X, y = read_data()"
   ]
  },
  {
   "cell_type": "markdown",
   "metadata": {},
   "source": [
    "# Count the Min Number of Null Cells in Each Row"
   ]
  },
  {
   "cell_type": "code",
   "execution_count": 5,
   "metadata": {},
   "outputs": [
    {
     "name": "stdout",
     "output_type": "stream",
     "text": [
      "(73816, 377)\n"
     ]
    }
   ],
   "source": [
    "print(X.shape)"
   ]
  },
  {
   "cell_type": "code",
   "execution_count": 26,
   "metadata": {},
   "outputs": [
    {
     "name": "stdout",
     "output_type": "stream",
     "text": [
      "14\n"
     ]
    }
   ],
   "source": [
    "min_nan = 999\n",
    "\n",
    "for index_row in range(X.shape[0]):\n",
    "    min_nan = min(min_nan, X.iloc[index_row, :].isnull().sum())\n",
    "    \n",
    "\n",
    "print(min_nan)"
   ]
  },
  {
   "cell_type": "markdown",
   "metadata": {},
   "source": [
    "# Convert Matrix Data to Sequence Data"
   ]
  },
  {
   "cell_type": "code",
   "execution_count": 3,
   "metadata": {},
   "outputs": [],
   "source": [
    "def convert_to_sequences(df):\n",
    "    sequences = np.zeros(shape=(df.shape[0], df.shape[1], 2))\n",
    "\n",
    "    for i in range(df.shape[0]):\n",
    "        cnt_col = 0\n",
    "        \n",
    "        for j in range(df.shape[1]):\n",
    "            if not np.isnan(df.iloc[i, j]):\n",
    "                sequences[i, cnt_col, 0] = j+1\n",
    "                sequences[i, cnt_col, 1] = df.iloc[i, j]\n",
    "                \n",
    "                cnt_col += 1\n",
    "\n",
    "    return sequences\n",
    "            "
   ]
  },
  {
   "cell_type": "code",
   "execution_count": 7,
   "metadata": {},
   "outputs": [],
   "source": [
    "# tmp = convert_to_sequences(X.iloc[:10,:])"
   ]
  },
  {
   "cell_type": "code",
   "execution_count": 4,
   "metadata": {},
   "outputs": [
    {
     "name": "stdout",
     "output_type": "stream",
     "text": [
      "CPU times: user 9min 44s, sys: 278 ms, total: 9min 44s\n",
      "Wall time: 9min 44s\n"
     ]
    }
   ],
   "source": [
    "%time X = convert_to_sequences(X)"
   ]
  },
  {
   "cell_type": "code",
   "execution_count": 5,
   "metadata": {},
   "outputs": [
    {
     "data": {
      "text/plain": [
       "numpy.ndarray"
      ]
     },
     "execution_count": 5,
     "metadata": {},
     "output_type": "execute_result"
    }
   ],
   "source": [
    "type(X)"
   ]
  },
  {
   "cell_type": "code",
   "execution_count": 6,
   "metadata": {},
   "outputs": [
    {
     "data": {
      "text/plain": [
       "(73816, 377, 2)"
      ]
     },
     "execution_count": 6,
     "metadata": {},
     "output_type": "execute_result"
    }
   ],
   "source": [
    "X.shape"
   ]
  },
  {
   "cell_type": "markdown",
   "metadata": {},
   "source": [
    "# Build RNN model"
   ]
  },
  {
   "cell_type": "code",
   "execution_count": 14,
   "metadata": {},
   "outputs": [
    {
     "name": "stdout",
     "output_type": "stream",
     "text": [
      "_________________________________________________________________\n",
      "Layer (type)                 Output Shape              Param #   \n",
      "=================================================================\n",
      "input_2 (InputLayer)         (None, 377, 2)            0         \n",
      "_________________________________________________________________\n",
      "gru_2 (GRU)                  (None, 128)               50304     \n",
      "_________________________________________________________________\n",
      "dense_5 (Dense)              (None, 64)                8256      \n",
      "_________________________________________________________________\n",
      "dense_6 (Dense)              (None, 32)                2080      \n",
      "_________________________________________________________________\n",
      "dense_7 (Dense)              (None, 16)                528       \n",
      "_________________________________________________________________\n",
      "dense_8 (Dense)              (None, 1)                 17        \n",
      "=================================================================\n",
      "Total params: 61,185\n",
      "Trainable params: 61,185\n",
      "Non-trainable params: 0\n",
      "_________________________________________________________________\n"
     ]
    }
   ],
   "source": [
    "def get_model(input_dim, hidden_size=128, lr=1e-4):\n",
    "    \"\"\"\n",
    "    Args:\n",
    "        input_dim (tuple): the format of input_dim should be (batch_size, seq_length, feature_size)\n",
    "    \"\"\"\n",
    "    \n",
    "    inputs = keras.layers.Input(input_dim[1:])\n",
    "    \n",
    "    x = GRU(units=hidden_size, return_sequences=False)(inputs)\n",
    "    \n",
    "    x = Dense(64, activation='relu', kernel_initializer='uniform')(x)\n",
    "    \n",
    "    x = Dense(32, activation='relu', kernel_initializer='uniform')(x)\n",
    "    \n",
    "    x = Dense(16, activation='relu', kernel_initializer='uniform')(x)\n",
    "    \n",
    "    outputs = Dense(1, activation='sigmoid', kernel_initializer='uniform')(x)\n",
    "    \n",
    "    optimizer = keras.optimizers.Adam(lr=lr)\n",
    "    \n",
    "    model = keras.models.Model(inputs=inputs,\n",
    "                              outputs=outputs)\n",
    "    \n",
    "    model.compile(loss='binary_crossentropy',\n",
    "                  optimizer=optimizer,\n",
    "                 metrics=['accuracy'])\n",
    "    \n",
    "    return model\n",
    "\n",
    "model = get_model(input_dim=(None, X.shape[1], 2))\n",
    "\n",
    "model.summary()"
   ]
  },
  {
   "cell_type": "code",
   "execution_count": 17,
   "metadata": {},
   "outputs": [
    {
     "name": "stdout",
     "output_type": "stream",
     "text": [
      "Epoch 1/3\n",
      "73816/73816 [==============================] - 265s 4ms/step - loss: 0.1453 - acc: 0.9669\n",
      "Epoch 2/3\n",
      "73816/73816 [==============================] - 267s 4ms/step - loss: 0.1453 - acc: 0.9669\n",
      "Epoch 3/3\n",
      "73816/73816 [==============================] - 267s 4ms/step - loss: 0.1453 - acc: 0.9669\n"
     ]
    },
    {
     "data": {
      "text/plain": [
       "<keras.callbacks.History at 0x7fb85f5060f0>"
      ]
     },
     "execution_count": 17,
     "metadata": {},
     "output_type": "execute_result"
    }
   ],
   "source": [
    "\n",
    "epochs = 3\n",
    "batch_size=256\n",
    "\n",
    "model.fit(X, y,\n",
    "         epochs=epochs,\n",
    "         batch_size=batch_size)"
   ]
  },
  {
   "cell_type": "markdown",
   "metadata": {},
   "source": [
    "# Calculate ROC-AUC score"
   ]
  },
  {
   "cell_type": "code",
   "execution_count": 19,
   "metadata": {},
   "outputs": [
    {
     "name": "stdout",
     "output_type": "stream",
     "text": [
      "roc-auc score=0.4980665770006725\n"
     ]
    }
   ],
   "source": [
    "pred_prob = model.predict(X)\n",
    "\n",
    "score = roc_auc_score(y, pred_prob)\n",
    "\n",
    "print('roc-auc score={}'.format(score))"
   ]
  },
  {
   "cell_type": "code",
   "execution_count": 21,
   "metadata": {},
   "outputs": [
    {
     "data": {
      "text/plain": [
       "0.032714963"
      ]
     },
     "execution_count": 21,
     "metadata": {},
     "output_type": "execute_result"
    }
   ],
   "source": [
    "pred_prob.max()"
   ]
  },
  {
   "cell_type": "markdown",
   "metadata": {},
   "source": [
    "# Bidirectional RNN"
   ]
  },
  {
   "cell_type": "code",
   "execution_count": 7,
   "metadata": {},
   "outputs": [
    {
     "name": "stderr",
     "output_type": "stream",
     "text": [
      "WARNING: Logging before flag parsing goes to stderr.\n",
      "W0731 11:50:58.692257 140285407577792 deprecation_wrapper.py:119] From /home/ec2-user/anaconda3/lib/python3.7/site-packages/keras/backend/tensorflow_backend.py:74: The name tf.get_default_graph is deprecated. Please use tf.compat.v1.get_default_graph instead.\n",
      "\n",
      "W0731 11:50:58.710162 140285407577792 deprecation_wrapper.py:119] From /home/ec2-user/anaconda3/lib/python3.7/site-packages/keras/backend/tensorflow_backend.py:517: The name tf.placeholder is deprecated. Please use tf.compat.v1.placeholder instead.\n",
      "\n",
      "W0731 11:50:58.716286 140285407577792 deprecation_wrapper.py:119] From /home/ec2-user/anaconda3/lib/python3.7/site-packages/keras/backend/tensorflow_backend.py:4138: The name tf.random_uniform is deprecated. Please use tf.random.uniform instead.\n",
      "\n",
      "W0731 11:50:59.144444 140285407577792 deprecation_wrapper.py:119] From /home/ec2-user/anaconda3/lib/python3.7/site-packages/keras/optimizers.py:790: The name tf.train.Optimizer is deprecated. Please use tf.compat.v1.train.Optimizer instead.\n",
      "\n",
      "W0731 11:50:59.149779 140285407577792 deprecation_wrapper.py:119] From /home/ec2-user/anaconda3/lib/python3.7/site-packages/keras/backend/tensorflow_backend.py:3376: The name tf.log is deprecated. Please use tf.math.log instead.\n",
      "\n",
      "W0731 11:50:59.154056 140285407577792 deprecation.py:323] From /home/ec2-user/anaconda3/lib/python3.7/site-packages/tensorflow/python/ops/nn_impl.py:180: add_dispatch_support.<locals>.wrapper (from tensorflow.python.ops.array_ops) is deprecated and will be removed in a future version.\n",
      "Instructions for updating:\n",
      "Use tf.where in 2.0, which has the same broadcast rule as np.where\n"
     ]
    },
    {
     "name": "stdout",
     "output_type": "stream",
     "text": [
      "_________________________________________________________________\n",
      "Layer (type)                 Output Shape              Param #   \n",
      "=================================================================\n",
      "input_1 (InputLayer)         (None, 377, 2)            0         \n",
      "_________________________________________________________________\n",
      "bidirectional_1 (Bidirection (None, 512)               397824    \n",
      "_________________________________________________________________\n",
      "dense_1 (Dense)              (None, 64)                32832     \n",
      "_________________________________________________________________\n",
      "dense_2 (Dense)              (None, 32)                2080      \n",
      "_________________________________________________________________\n",
      "dense_3 (Dense)              (None, 16)                528       \n",
      "_________________________________________________________________\n",
      "dense_4 (Dense)              (None, 1)                 17        \n",
      "=================================================================\n",
      "Total params: 433,281\n",
      "Trainable params: 433,281\n",
      "Non-trainable params: 0\n",
      "_________________________________________________________________\n"
     ]
    }
   ],
   "source": [
    "def get_model(input_dim, hidden_size=256, lr=1e-3):\n",
    "    \"\"\"\n",
    "    Args:\n",
    "        input_dim (tuple): the format of input_dim should be (batch_size, seq_length, feature_size)\n",
    "    \"\"\"\n",
    "    \n",
    "    inputs = keras.layers.Input(input_dim[1:])\n",
    "    \n",
    "    x = Bidirectional(GRU(units=hidden_size, return_sequences=False))(inputs)\n",
    "    \n",
    "    x = Dense(64, activation='relu', kernel_initializer='uniform')(x)\n",
    "    \n",
    "    x = Dense(32, activation='relu', kernel_initializer='uniform')(x)\n",
    "    \n",
    "    x = Dense(16, activation='relu', kernel_initializer='uniform')(x)\n",
    "    \n",
    "    outputs = Dense(1, activation='sigmoid', kernel_initializer='uniform')(x)\n",
    "    \n",
    "    optimizer = keras.optimizers.Adam(lr=lr)\n",
    "    \n",
    "    model = keras.models.Model(inputs=inputs,\n",
    "                              outputs=outputs)\n",
    "    \n",
    "    model.compile(loss='binary_crossentropy',\n",
    "                  optimizer=optimizer,\n",
    "                 metrics=['accuracy'])\n",
    "    \n",
    "    return model\n",
    "\n",
    "model = get_model(input_dim=(None, X.shape[1], 2))\n",
    "\n",
    "model.summary()"
   ]
  },
  {
   "cell_type": "code",
   "execution_count": 8,
   "metadata": {
    "scrolled": true
   },
   "outputs": [
    {
     "name": "stderr",
     "output_type": "stream",
     "text": [
      "W0731 11:51:00.247844 140285407577792 deprecation_wrapper.py:119] From /home/ec2-user/anaconda3/lib/python3.7/site-packages/keras/backend/tensorflow_backend.py:986: The name tf.assign_add is deprecated. Please use tf.compat.v1.assign_add instead.\n",
      "\n"
     ]
    },
    {
     "name": "stdout",
     "output_type": "stream",
     "text": [
      "Epoch 1/3\n",
      "73816/73816 [==============================] - 1302s 18ms/step - loss: 0.1868 - acc: 0.9669\n",
      "Epoch 2/3\n",
      "73816/73816 [==============================] - 1293s 18ms/step - loss: 0.1280 - acc: 0.9676\n",
      "Epoch 3/3\n",
      "73816/73816 [==============================] - 1291s 17ms/step - loss: 0.1150 - acc: 0.9705\n"
     ]
    },
    {
     "data": {
      "text/plain": [
       "<keras.callbacks.History at 0x7f9673c5e7b8>"
      ]
     },
     "execution_count": 8,
     "metadata": {},
     "output_type": "execute_result"
    }
   ],
   "source": [
    "\n",
    "epochs = 3\n",
    "batch_size=256\n",
    "\n",
    "model.fit(X, y,\n",
    "         epochs=epochs,\n",
    "         batch_size=batch_size)"
   ]
  },
  {
   "cell_type": "code",
   "execution_count": 11,
   "metadata": {},
   "outputs": [
    {
     "name": "stdout",
     "output_type": "stream",
     "text": [
      "Epoch 1/1\n",
      "73816/73816 [==============================] - 1299s 18ms/step - loss: 0.1114 - acc: 0.9715\n"
     ]
    },
    {
     "data": {
      "text/plain": [
       "<keras.callbacks.History at 0x7f9671cd0da0>"
      ]
     },
     "execution_count": 11,
     "metadata": {},
     "output_type": "execute_result"
    }
   ],
   "source": [
    "epochs = 1\n",
    "batch_size=256\n",
    "\n",
    "model.fit(X, y,\n",
    "         epochs=epochs,\n",
    "         batch_size=batch_size)"
   ]
  },
  {
   "cell_type": "markdown",
   "metadata": {},
   "source": [
    "# Calculate ROC-AUC score"
   ]
  },
  {
   "cell_type": "code",
   "execution_count": 12,
   "metadata": {},
   "outputs": [
    {
     "name": "stdout",
     "output_type": "stream",
     "text": [
      "roc-auc score=0.8411770522120674\n"
     ]
    }
   ],
   "source": [
    "pred_prob = model.predict(X)\n",
    "\n",
    "score = roc_auc_score(y, pred_prob)\n",
    "\n",
    "print('roc-auc score={}'.format(score))"
   ]
  },
  {
   "cell_type": "markdown",
   "metadata": {},
   "source": [
    "# RNN model with GlobalAverage1D (many-to-many)"
   ]
  },
  {
   "cell_type": "code",
   "execution_count": 15,
   "metadata": {},
   "outputs": [
    {
     "name": "stdout",
     "output_type": "stream",
     "text": [
      "_________________________________________________________________\n",
      "Layer (type)                 Output Shape              Param #   \n",
      "=================================================================\n",
      "input_3 (InputLayer)         (None, 377, 2)            0         \n",
      "_________________________________________________________________\n",
      "bidirectional_3 (Bidirection (None, 377, 128)          25728     \n",
      "_________________________________________________________________\n",
      "global_average_pooling1d_2 ( (None, 128)               0         \n",
      "_________________________________________________________________\n",
      "dense_9 (Dense)              (None, 64)                8256      \n",
      "_________________________________________________________________\n",
      "dense_10 (Dense)             (None, 32)                2080      \n",
      "_________________________________________________________________\n",
      "dense_11 (Dense)             (None, 16)                528       \n",
      "_________________________________________________________________\n",
      "dense_12 (Dense)             (None, 1)                 17        \n",
      "=================================================================\n",
      "Total params: 36,609\n",
      "Trainable params: 36,609\n",
      "Non-trainable params: 0\n",
      "_________________________________________________________________\n"
     ]
    }
   ],
   "source": [
    "def get_model(input_dim, hidden_size=64, lr=1e-3):\n",
    "    \"\"\"\n",
    "    Args:\n",
    "        input_dim (tuple): the format of input_dim should be (batch_size, seq_length, feature_size)\n",
    "    \"\"\"\n",
    "    \n",
    "    inputs = keras.layers.Input(input_dim[1:])\n",
    "    \n",
    "    x = Bidirectional(GRU(units=hidden_size, return_sequences=True))(inputs)\n",
    "    \n",
    "    x = keras.layers.GlobalAveragePooling1D()(x)\n",
    "    \n",
    "    x = Dense(64, activation='relu', kernel_initializer='uniform')(x)\n",
    "    \n",
    "    x = Dense(32, activation='relu', kernel_initializer='uniform')(x)\n",
    "    \n",
    "    x = Dense(16, activation='relu', kernel_initializer='uniform')(x)\n",
    "    \n",
    "    outputs = Dense(1, activation='sigmoid', kernel_initializer='uniform')(x)\n",
    "    \n",
    "    optimizer = keras.optimizers.Adam(lr=lr)\n",
    "    \n",
    "    model = keras.models.Model(inputs=inputs,\n",
    "                              outputs=outputs)\n",
    "    \n",
    "    model.compile(loss='binary_crossentropy',\n",
    "                  optimizer=optimizer,\n",
    "                 metrics=['accuracy'])\n",
    "    \n",
    "    return model\n",
    "\n",
    "model = get_model(input_dim=(None, X.shape[1], 2))\n",
    "\n",
    "model.summary()"
   ]
  },
  {
   "cell_type": "code",
   "execution_count": 16,
   "metadata": {},
   "outputs": [
    {
     "name": "stdout",
     "output_type": "stream",
     "text": [
      "Epoch 1/3\n",
      "73816/73816 [==============================] - 294s 4ms/step - loss: 0.1788 - acc: 0.9655\n",
      "Epoch 2/3\n",
      "73816/73816 [==============================] - 294s 4ms/step - loss: 0.1301 - acc: 0.9672\n",
      "Epoch 3/3\n",
      "73816/73816 [==============================] - 293s 4ms/step - loss: 0.1192 - acc: 0.9695\n"
     ]
    },
    {
     "data": {
      "text/plain": [
       "<keras.callbacks.History at 0x7f9667394d68>"
      ]
     },
     "execution_count": 16,
     "metadata": {},
     "output_type": "execute_result"
    }
   ],
   "source": [
    "epochs = 3\n",
    "batch_size=128\n",
    "\n",
    "model.fit(X, y,\n",
    "         epochs=epochs,\n",
    "         batch_size=batch_size)"
   ]
  },
  {
   "cell_type": "code",
   "execution_count": 17,
   "metadata": {},
   "outputs": [
    {
     "name": "stdout",
     "output_type": "stream",
     "text": [
      "roc-auc score=0.8151643507162256\n"
     ]
    }
   ],
   "source": [
    "pred_prob = model.predict(X, batch_size=batch_size)\n",
    "\n",
    "score = roc_auc_score(y, pred_prob)\n",
    "\n",
    "print('roc-auc score={}'.format(score))"
   ]
  },
  {
   "cell_type": "code",
   "execution_count": 18,
   "metadata": {},
   "outputs": [
    {
     "name": "stdout",
     "output_type": "stream",
     "text": [
      "Epoch 1/7\n",
      "73816/73816 [==============================] - 293s 4ms/step - loss: 0.1158 - acc: 0.9707\n",
      "Epoch 2/7\n",
      "73816/73816 [==============================] - 293s 4ms/step - loss: 0.1131 - acc: 0.9710\n",
      "Epoch 3/7\n",
      "73816/73816 [==============================] - 294s 4ms/step - loss: 0.1110 - acc: 0.9716\n",
      "Epoch 4/7\n",
      "73816/73816 [==============================] - 293s 4ms/step - loss: 0.1099 - acc: 0.9720\n",
      "Epoch 5/7\n",
      "73816/73816 [==============================] - 295s 4ms/step - loss: 0.1087 - acc: 0.9723\n",
      "Epoch 6/7\n",
      "73816/73816 [==============================] - 294s 4ms/step - loss: 0.1088 - acc: 0.9725\n",
      "Epoch 7/7\n",
      "73816/73816 [==============================] - 295s 4ms/step - loss: 0.1075 - acc: 0.9726\n"
     ]
    },
    {
     "data": {
      "text/plain": [
       "<keras.callbacks.History at 0x7f966711a668>"
      ]
     },
     "execution_count": 18,
     "metadata": {},
     "output_type": "execute_result"
    }
   ],
   "source": [
    "epochs = 7\n",
    "batch_size=128\n",
    "\n",
    "model.fit(X, y,\n",
    "         epochs=epochs,\n",
    "         batch_size=batch_size)"
   ]
  },
  {
   "cell_type": "code",
   "execution_count": 19,
   "metadata": {},
   "outputs": [
    {
     "name": "stdout",
     "output_type": "stream",
     "text": [
      "roc-auc score=0.8434597712276892\n"
     ]
    }
   ],
   "source": [
    "pred_prob = model.predict(X, batch_size=batch_size)\n",
    "\n",
    "score = roc_auc_score(y, pred_prob)\n",
    "\n",
    "print('roc-auc score={}'.format(score))"
   ]
  },
  {
   "cell_type": "code",
   "execution_count": null,
   "metadata": {},
   "outputs": [],
   "source": []
  }
 ],
 "metadata": {
  "kernelspec": {
   "display_name": "Python 3",
   "language": "python",
   "name": "python3"
  },
  "language_info": {
   "codemirror_mode": {
    "name": "ipython",
    "version": 3
   },
   "file_extension": ".py",
   "mimetype": "text/x-python",
   "name": "python",
   "nbconvert_exporter": "python",
   "pygments_lexer": "ipython3",
   "version": "3.7.3"
  }
 },
 "nbformat": 4,
 "nbformat_minor": 2
}
