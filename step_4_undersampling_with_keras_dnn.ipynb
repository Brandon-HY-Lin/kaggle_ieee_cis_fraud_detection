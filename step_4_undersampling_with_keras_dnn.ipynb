{
 "cells": [
  {
   "cell_type": "markdown",
   "metadata": {},
   "source": [
    "# Resample Fruad=1 Class\n",
    "- Train using Keras DNN"
   ]
  },
  {
   "cell_type": "code",
   "execution_count": 9,
   "metadata": {},
   "outputs": [
    {
     "name": "stdout",
     "output_type": "stream",
     "text": [
      "<module 'tensorflow._api.v1.version' from '/home/ec2-user/anaconda3/lib/python3.7/site-packages/tensorflow/_api/v1/version/__init__.py'>\n",
      "2\n"
     ]
    }
   ],
   "source": [
    "import pandas as pd\n",
    "import numpy as np\n",
    "import keras\n",
    "\n",
    "from collections import Counter\n",
    "\n",
    "from sklearn.utils import resample, shuffle\n",
    "\n",
    "from keras.layers import Dense, Dropout, BatchNormalization\n",
    "\n",
    "from sklearn.metrics import roc_auc_score\n",
    "\n",
    "from multiprocessing import cpu_count\n",
    "\n",
    "from imblearn.under_sampling import NearMiss\n",
    "\n",
    "import xgboost as xgb\n",
    "\n",
    "!python -c 'import tensorflow as tf; print(tf.version)'\n",
    "print(cpu_count())"
   ]
  },
  {
   "cell_type": "markdown",
   "metadata": {},
   "source": [
    "# Read Dataset"
   ]
  },
  {
   "cell_type": "code",
   "execution_count": 2,
   "metadata": {},
   "outputs": [],
   "source": [
    "def get_string_features(df):\n",
    "    string_features = []\n",
    "    for col in df.columns:\n",
    "        if df[col].dtype == np.dtype('object'):\n",
    "            string_features.append(col)\n",
    "\n",
    "    return string_features\n",
    "\n",
    "\n",
    "def read_data(drop_string_features=True):\n",
    "    \n",
    "    df = pd.read_csv('./datasets/kfold/transaction_fold_0_0_0.csv')\n",
    "    \n",
    "    if drop_string_features:\n",
    "        string_features = get_string_features(df)\n",
    "        df = df.drop(columns=string_features)\n",
    "    \n",
    "    return df\n",
    "    \n",
    "    \n",
    "train = read_data(drop_string_features=True)"
   ]
  },
  {
   "cell_type": "code",
   "execution_count": 3,
   "metadata": {},
   "outputs": [
    {
     "data": {
      "text/plain": [
       "(73816, 380)"
      ]
     },
     "execution_count": 3,
     "metadata": {},
     "output_type": "execute_result"
    }
   ],
   "source": [
    "train.shape"
   ]
  },
  {
   "cell_type": "code",
   "execution_count": 4,
   "metadata": {},
   "outputs": [
    {
     "data": {
      "text/plain": [
       "0    71376\n",
       "1     2440\n",
       "Name: isFraud, dtype: int64"
      ]
     },
     "execution_count": 4,
     "metadata": {},
     "output_type": "execute_result"
    }
   ],
   "source": [
    "train.isFraud.value_counts()"
   ]
  },
  {
   "cell_type": "code",
   "execution_count": null,
   "metadata": {},
   "outputs": [],
   "source": []
  },
  {
   "cell_type": "markdown",
   "metadata": {},
   "source": [
    "# Undersample majority class"
   ]
  },
  {
   "cell_type": "code",
   "execution_count": 5,
   "metadata": {},
   "outputs": [],
   "source": [
    "def preprocess(df):\n",
    "    df = df.fillna(-999)\n",
    "    \n",
    "    return df.drop(columns=['TransactionID', 'TransactionDT'])\n",
    "\n",
    "\n",
    "train = preprocess(train)"
   ]
  },
  {
   "cell_type": "code",
   "execution_count": 6,
   "metadata": {},
   "outputs": [
    {
     "data": {
      "text/plain": [
       "(73816, 378)"
      ]
     },
     "execution_count": 6,
     "metadata": {},
     "output_type": "execute_result"
    }
   ],
   "source": [
    "train.shape"
   ]
  },
  {
   "cell_type": "code",
   "execution_count": 7,
   "metadata": {},
   "outputs": [
    {
     "name": "stdout",
     "output_type": "stream",
     "text": [
      "CPU times: user 31.2 s, sys: 633 ms, total: 31.8 s\n",
      "Wall time: 24.3 s\n"
     ]
    }
   ],
   "source": [
    "def undersample(df, random_state=27):\n",
    "    \"\"\"\n",
    "    Upsample minority class (isFraud=1), combine with majority class, and then shuffle them.\n",
    "    \"\"\"\n",
    "    \n",
    "    # Declare Random Under Sampler\n",
    "    rus = NearMiss(version=3, \n",
    "                   n_jobs=cpu_count(),\n",
    "                   random_state=random_state)\n",
    "    \n",
    "    return rus.fit_resample(df.drop(columns=['isFraud']),\n",
    "                           df['isFraud'])\n",
    "\n",
    "\n",
    "%time X, y = undersample(train)\n",
    "\n",
    "y = y.astype('int32')"
   ]
  },
  {
   "cell_type": "code",
   "execution_count": 8,
   "metadata": {},
   "outputs": [
    {
     "name": "stdout",
     "output_type": "stream",
     "text": [
      "(4880, 377)\n",
      "(4880,)\n"
     ]
    }
   ],
   "source": [
    "print(X.shape)\n",
    "print(y.shape)"
   ]
  },
  {
   "cell_type": "code",
   "execution_count": 10,
   "metadata": {},
   "outputs": [
    {
     "data": {
      "text/plain": [
       "Counter({0: 2440, 1: 2440})"
      ]
     },
     "execution_count": 10,
     "metadata": {},
     "output_type": "execute_result"
    }
   ],
   "source": [
    "Counter(y)"
   ]
  },
  {
   "cell_type": "markdown",
   "metadata": {},
   "source": [
    "# Build Model"
   ]
  },
  {
   "cell_type": "code",
   "execution_count": 14,
   "metadata": {},
   "outputs": [
    {
     "name": "stderr",
     "output_type": "stream",
     "text": [
      "WARNING: Logging before flag parsing goes to stderr.\n",
      "W0802 07:11:11.247573 140676939990720 deprecation_wrapper.py:119] From /home/ec2-user/anaconda3/lib/python3.7/site-packages/keras/backend/tensorflow_backend.py:74: The name tf.get_default_graph is deprecated. Please use tf.compat.v1.get_default_graph instead.\n",
      "\n",
      "W0802 07:11:11.269109 140676939990720 deprecation_wrapper.py:119] From /home/ec2-user/anaconda3/lib/python3.7/site-packages/keras/backend/tensorflow_backend.py:517: The name tf.placeholder is deprecated. Please use tf.compat.v1.placeholder instead.\n",
      "\n",
      "W0802 07:11:11.273927 140676939990720 deprecation_wrapper.py:119] From /home/ec2-user/anaconda3/lib/python3.7/site-packages/keras/backend/tensorflow_backend.py:4138: The name tf.random_uniform is deprecated. Please use tf.random.uniform instead.\n",
      "\n",
      "W0802 07:11:11.363242 140676939990720 deprecation_wrapper.py:119] From /home/ec2-user/anaconda3/lib/python3.7/site-packages/keras/backend/tensorflow_backend.py:133: The name tf.placeholder_with_default is deprecated. Please use tf.compat.v1.placeholder_with_default instead.\n",
      "\n",
      "W0802 07:11:11.385676 140676939990720 deprecation.py:506] From /home/ec2-user/anaconda3/lib/python3.7/site-packages/keras/backend/tensorflow_backend.py:3445: calling dropout (from tensorflow.python.ops.nn_ops) with keep_prob is deprecated and will be removed in a future version.\n",
      "Instructions for updating:\n",
      "Please use `rate` instead of `keep_prob`. Rate should be set to `rate = 1 - keep_prob`.\n",
      "W0802 07:11:11.920971 140676939990720 deprecation_wrapper.py:119] From /home/ec2-user/anaconda3/lib/python3.7/site-packages/keras/optimizers.py:790: The name tf.train.Optimizer is deprecated. Please use tf.compat.v1.train.Optimizer instead.\n",
      "\n",
      "W0802 07:11:11.926191 140676939990720 deprecation_wrapper.py:119] From /home/ec2-user/anaconda3/lib/python3.7/site-packages/keras/backend/tensorflow_backend.py:3376: The name tf.log is deprecated. Please use tf.math.log instead.\n",
      "\n",
      "W0802 07:11:11.930551 140676939990720 deprecation.py:323] From /home/ec2-user/anaconda3/lib/python3.7/site-packages/tensorflow/python/ops/nn_impl.py:180: add_dispatch_support.<locals>.wrapper (from tensorflow.python.ops.array_ops) is deprecated and will be removed in a future version.\n",
      "Instructions for updating:\n",
      "Use tf.where in 2.0, which has the same broadcast rule as np.where\n"
     ]
    },
    {
     "name": "stdout",
     "output_type": "stream",
     "text": [
      "_________________________________________________________________\n",
      "Layer (type)                 Output Shape              Param #   \n",
      "=================================================================\n",
      "dense_1 (Dense)              (None, 256)               96768     \n",
      "_________________________________________________________________\n",
      "batch_normalization_1 (Batch (None, 256)               1024      \n",
      "_________________________________________________________________\n",
      "dropout_1 (Dropout)          (None, 256)               0         \n",
      "_________________________________________________________________\n",
      "dense_2 (Dense)              (None, 128)               32896     \n",
      "_________________________________________________________________\n",
      "batch_normalization_2 (Batch (None, 128)               512       \n",
      "_________________________________________________________________\n",
      "dropout_2 (Dropout)          (None, 128)               0         \n",
      "_________________________________________________________________\n",
      "dense_3 (Dense)              (None, 64)                8256      \n",
      "_________________________________________________________________\n",
      "batch_normalization_3 (Batch (None, 64)                256       \n",
      "_________________________________________________________________\n",
      "dropout_3 (Dropout)          (None, 64)                0         \n",
      "_________________________________________________________________\n",
      "dense_4 (Dense)              (None, 32)                2080      \n",
      "_________________________________________________________________\n",
      "batch_normalization_4 (Batch (None, 32)                128       \n",
      "_________________________________________________________________\n",
      "dropout_4 (Dropout)          (None, 32)                0         \n",
      "_________________________________________________________________\n",
      "dense_5 (Dense)              (None, 16)                528       \n",
      "_________________________________________________________________\n",
      "batch_normalization_5 (Batch (None, 16)                64        \n",
      "_________________________________________________________________\n",
      "dropout_5 (Dropout)          (None, 16)                0         \n",
      "_________________________________________________________________\n",
      "dense_6 (Dense)              (None, 8)                 136       \n",
      "_________________________________________________________________\n",
      "batch_normalization_6 (Batch (None, 8)                 32        \n",
      "_________________________________________________________________\n",
      "dropout_6 (Dropout)          (None, 8)                 0         \n",
      "_________________________________________________________________\n",
      "dense_7 (Dense)              (None, 1)                 9         \n",
      "=================================================================\n",
      "Total params: 142,689\n",
      "Trainable params: 141,681\n",
      "Non-trainable params: 1,008\n",
      "_________________________________________________________________\n"
     ]
    }
   ],
   "source": [
    "def get_model(input_dim, lr=1e-3):\n",
    "    \n",
    "#     inputs = keras.layers.Input(shape=[input_dim,])\n",
    "    \n",
    "#     x = keras.layers.Dense(256, activation='relu')(inputs)\n",
    "#     x = keras.layers.Dense(128, activation='relu')(x)\n",
    "#     x = keras.layers.Dense(64, activation='relu')(x)\n",
    "#     x = keras.layers.Dense(16, activation='relu')(x)\n",
    "#     outputs = keras.layers.Dense(1, activation='sigmoid')(x)\n",
    "    \n",
    "#     model = keras.models.Model(inputs=inputs,\n",
    "#                               outputs=outputs)\n",
    "    \n",
    "\n",
    "    model = keras.models.Sequential()\n",
    "    model.add(Dense(256, activation='relu', kernel_initializer = 'uniform', input_dim=input_dim))\n",
    "    model.add(BatchNormalization())\n",
    "    model.add(Dropout(0.2))\n",
    "    model.add(Dense(128, activation='relu', kernel_initializer = 'uniform'))\n",
    "    model.add(BatchNormalization())\n",
    "    model.add(Dropout(0.2))\n",
    "    model.add(Dense(64, activation='relu', kernel_initializer = 'uniform'))\n",
    "    model.add(BatchNormalization())\n",
    "    model.add(Dropout(0.2))\n",
    "    model.add(Dense(32, activation='relu', kernel_initializer = 'uniform'))\n",
    "    model.add(BatchNormalization())\n",
    "    model.add(Dropout(0.2))\n",
    "    model.add(Dense(16, activation='relu', kernel_initializer = 'uniform'))\n",
    "    model.add(BatchNormalization())\n",
    "    model.add(Dropout(0.2))\n",
    "    model.add(Dense(8, activation='relu', kernel_initializer = 'uniform'))\n",
    "    model.add(BatchNormalization())\n",
    "    model.add(Dropout(0.2))\n",
    "    model.add(Dense(1, activation='sigmoid', kernel_initializer = 'uniform'))\n",
    "    \n",
    "    optimizer = keras.optimizers.Adam(lr=lr)\n",
    "\n",
    "    model.compile(loss='binary_crossentropy',\n",
    "                  optimizer=optimizer,\n",
    "                 metrics=['accuracy'])\n",
    "    \n",
    "    \n",
    "    return model\n",
    "\n",
    "\n",
    "model = get_model(X.shape[1], lr=1e-3)\n",
    "\n",
    "model.summary()"
   ]
  },
  {
   "cell_type": "markdown",
   "metadata": {},
   "source": [
    "# Train"
   ]
  },
  {
   "cell_type": "code",
   "execution_count": 15,
   "metadata": {},
   "outputs": [
    {
     "name": "stdout",
     "output_type": "stream",
     "text": [
      "Epoch 1/50\n",
      "4880/4880 [==============================] - 2s 403us/step - loss: 0.6917 - acc: 0.5277\n",
      "Epoch 2/50\n",
      "4880/4880 [==============================] - 0s 50us/step - loss: 0.6870 - acc: 0.5570\n",
      "Epoch 3/50\n",
      "4880/4880 [==============================] - 0s 48us/step - loss: 0.6792 - acc: 0.5701\n",
      "Epoch 4/50\n",
      "4880/4880 [==============================] - 0s 49us/step - loss: 0.6740 - acc: 0.5691\n",
      "Epoch 5/50\n",
      "4880/4880 [==============================] - 0s 48us/step - loss: 0.6630 - acc: 0.6018\n",
      "Epoch 6/50\n",
      "4880/4880 [==============================] - 0s 49us/step - loss: 0.6614 - acc: 0.6018\n",
      "Epoch 7/50\n",
      "4880/4880 [==============================] - 0s 48us/step - loss: 0.6536 - acc: 0.6180\n",
      "Epoch 8/50\n",
      "4880/4880 [==============================] - 0s 48us/step - loss: 0.6471 - acc: 0.6244\n",
      "Epoch 9/50\n",
      "4880/4880 [==============================] - 0s 49us/step - loss: 0.6444 - acc: 0.6254\n",
      "Epoch 10/50\n",
      "4880/4880 [==============================] - 0s 49us/step - loss: 0.6431 - acc: 0.6344\n",
      "Epoch 11/50\n",
      "4880/4880 [==============================] - 0s 50us/step - loss: 0.6421 - acc: 0.6309\n",
      "Epoch 12/50\n",
      "4880/4880 [==============================] - 0s 50us/step - loss: 0.6459 - acc: 0.6338\n",
      "Epoch 13/50\n",
      "4880/4880 [==============================] - 0s 49us/step - loss: 0.6365 - acc: 0.6441\n",
      "Epoch 14/50\n",
      "4880/4880 [==============================] - 0s 49us/step - loss: 0.6294 - acc: 0.6488\n",
      "Epoch 15/50\n",
      "4880/4880 [==============================] - 0s 50us/step - loss: 0.6280 - acc: 0.6486\n",
      "Epoch 16/50\n",
      "4880/4880 [==============================] - 0s 49us/step - loss: 0.6375 - acc: 0.6371\n",
      "Epoch 17/50\n",
      "4880/4880 [==============================] - 0s 50us/step - loss: 0.6403 - acc: 0.6352\n",
      "Epoch 18/50\n",
      "4880/4880 [==============================] - 0s 48us/step - loss: 0.6435 - acc: 0.6346\n",
      "Epoch 19/50\n",
      "4880/4880 [==============================] - 0s 51us/step - loss: 0.6351 - acc: 0.6404\n",
      "Epoch 20/50\n",
      "4880/4880 [==============================] - 0s 51us/step - loss: 0.6287 - acc: 0.6488\n",
      "Epoch 21/50\n",
      "4880/4880 [==============================] - 0s 52us/step - loss: 0.6228 - acc: 0.6559\n",
      "Epoch 22/50\n",
      "4880/4880 [==============================] - 0s 52us/step - loss: 0.6274 - acc: 0.6557\n",
      "Epoch 23/50\n",
      "4880/4880 [==============================] - 0s 51us/step - loss: 0.6192 - acc: 0.6633\n",
      "Epoch 24/50\n",
      "4880/4880 [==============================] - 0s 49us/step - loss: 0.6245 - acc: 0.6576\n",
      "Epoch 25/50\n",
      "4880/4880 [==============================] - 0s 49us/step - loss: 0.6248 - acc: 0.6553\n",
      "Epoch 26/50\n",
      "4880/4880 [==============================] - 0s 48us/step - loss: 0.6229 - acc: 0.6637\n",
      "Epoch 27/50\n",
      "4880/4880 [==============================] - 0s 50us/step - loss: 0.6240 - acc: 0.6533\n",
      "Epoch 28/50\n",
      "4880/4880 [==============================] - 0s 50us/step - loss: 0.6210 - acc: 0.6602\n",
      "Epoch 29/50\n",
      "4880/4880 [==============================] - 0s 49us/step - loss: 0.6177 - acc: 0.6656\n",
      "Epoch 30/50\n",
      "4880/4880 [==============================] - 0s 50us/step - loss: 0.6150 - acc: 0.6654\n",
      "Epoch 31/50\n",
      "4880/4880 [==============================] - 0s 51us/step - loss: 0.6186 - acc: 0.6711\n",
      "Epoch 32/50\n",
      "4880/4880 [==============================] - 0s 49us/step - loss: 0.6158 - acc: 0.6631\n",
      "Epoch 33/50\n",
      "4880/4880 [==============================] - 0s 50us/step - loss: 0.6077 - acc: 0.6795\n",
      "Epoch 34/50\n",
      "4880/4880 [==============================] - 0s 49us/step - loss: 0.6043 - acc: 0.6865\n",
      "Epoch 35/50\n",
      "4880/4880 [==============================] - 0s 51us/step - loss: 0.6049 - acc: 0.6820\n",
      "Epoch 36/50\n",
      "4880/4880 [==============================] - 0s 50us/step - loss: 0.6061 - acc: 0.6746\n",
      "Epoch 37/50\n",
      "4880/4880 [==============================] - 0s 50us/step - loss: 0.6097 - acc: 0.6721\n",
      "Epoch 38/50\n",
      "4880/4880 [==============================] - 0s 49us/step - loss: 0.6031 - acc: 0.6783\n",
      "Epoch 39/50\n",
      "4880/4880 [==============================] - 0s 49us/step - loss: 0.6241 - acc: 0.6605\n",
      "Epoch 40/50\n",
      "4880/4880 [==============================] - 0s 50us/step - loss: 0.6171 - acc: 0.6607\n",
      "Epoch 41/50\n",
      "4880/4880 [==============================] - 0s 51us/step - loss: 0.6047 - acc: 0.6783\n",
      "Epoch 42/50\n",
      "4880/4880 [==============================] - 0s 51us/step - loss: 0.6067 - acc: 0.6787\n",
      "Epoch 43/50\n",
      "4880/4880 [==============================] - 0s 51us/step - loss: 0.6070 - acc: 0.6734\n",
      "Epoch 44/50\n",
      "4880/4880 [==============================] - 0s 50us/step - loss: 0.6032 - acc: 0.6805\n",
      "Epoch 45/50\n",
      "4880/4880 [==============================] - 0s 49us/step - loss: 0.6113 - acc: 0.6652\n",
      "Epoch 46/50\n",
      "4880/4880 [==============================] - 0s 49us/step - loss: 0.6110 - acc: 0.6676\n",
      "Epoch 47/50\n",
      "4880/4880 [==============================] - 0s 50us/step - loss: 0.6033 - acc: 0.6824\n",
      "Epoch 48/50\n",
      "4880/4880 [==============================] - 0s 49us/step - loss: 0.6018 - acc: 0.6756\n",
      "Epoch 49/50\n",
      "4880/4880 [==============================] - 0s 49us/step - loss: 0.6022 - acc: 0.6820\n",
      "Epoch 50/50\n",
      "4880/4880 [==============================] - 0s 49us/step - loss: 0.5941 - acc: 0.6898\n"
     ]
    },
    {
     "data": {
      "text/plain": [
       "<keras.callbacks.History at 0x7ff18563d588>"
      ]
     },
     "execution_count": 15,
     "metadata": {},
     "output_type": "execute_result"
    }
   ],
   "source": [
    "epochs = 50\n",
    "batch_size = 256\n",
    "\n",
    "model.fit(X, y,\n",
    "         epochs=epochs,\n",
    "         batch_size=batch_size)"
   ]
  },
  {
   "cell_type": "code",
   "execution_count": 16,
   "metadata": {},
   "outputs": [
    {
     "name": "stdout",
     "output_type": "stream",
     "text": [
      "roc-auc score=0.7673652076054824\n"
     ]
    }
   ],
   "source": [
    "pred_prob = model.predict_proba(X,\n",
    "                               batch_size=batch_size)\n",
    "\n",
    "score = roc_auc_score(y, pred_prob)\n",
    "\n",
    "print('roc-auc score={}'.format(score))\n"
   ]
  },
  {
   "cell_type": "markdown",
   "metadata": {},
   "source": [
    "# Train using XGB"
   ]
  },
  {
   "cell_type": "code",
   "execution_count": 17,
   "metadata": {},
   "outputs": [
    {
     "name": "stdout",
     "output_type": "stream",
     "text": [
      "CPU times: user 3.44 s, sys: 7.5 ms, total: 3.45 s\n",
      "Wall time: 3.48 s\n"
     ]
    },
    {
     "data": {
      "text/plain": [
       "XGBClassifier(base_score=0.5, booster='gbtree', colsample_bylevel=1,\n",
       "              colsample_bynode=1, colsample_bytree=1, gamma=0,\n",
       "              learning_rate=0.1, max_delta_step=0, max_depth=3,\n",
       "              min_child_weight=1, missing=None, n_estimators=100, n_jobs=1,\n",
       "              n_thread=2, nthread=None, objective='binary:logistic',\n",
       "              random_state=0, reg_alpha=0, reg_lambda=1, scale_pos_weight=1,\n",
       "              seed=27, silent=None, subsample=1, verbosity=1)"
      ]
     },
     "execution_count": 17,
     "metadata": {},
     "output_type": "execute_result"
    }
   ],
   "source": [
    "seed = 27\n",
    "model = xgb.XGBClassifier(objective='binary:logistic',\n",
    "                            n_thread=cpu_count(),\n",
    "                            seed=seed)\n",
    "\n",
    "%time model.fit(X, y, verbose=True)"
   ]
  },
  {
   "cell_type": "code",
   "execution_count": 18,
   "metadata": {},
   "outputs": [
    {
     "name": "stdout",
     "output_type": "stream",
     "text": [
      "roc-auc score=0.8989602089492073\n"
     ]
    }
   ],
   "source": [
    "pred_prob = model.predict_proba(X)\n",
    "\n",
    "score = roc_auc_score(y, pred_prob[:, 1])\n",
    "\n",
    "print('roc-auc score={}'.format(score))"
   ]
  },
  {
   "cell_type": "code",
   "execution_count": null,
   "metadata": {},
   "outputs": [],
   "source": []
  }
 ],
 "metadata": {
  "kernelspec": {
   "display_name": "Python 3",
   "language": "python",
   "name": "python3"
  },
  "language_info": {
   "codemirror_mode": {
    "name": "ipython",
    "version": 3
   },
   "file_extension": ".py",
   "mimetype": "text/x-python",
   "name": "python",
   "nbconvert_exporter": "python",
   "pygments_lexer": "ipython3",
   "version": "3.7.3"
  }
 },
 "nbformat": 4,
 "nbformat_minor": 2
}
