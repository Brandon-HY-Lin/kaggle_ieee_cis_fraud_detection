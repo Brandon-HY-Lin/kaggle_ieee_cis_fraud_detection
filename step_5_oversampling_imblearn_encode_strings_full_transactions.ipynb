{
 "cells": [
  {
   "cell_type": "markdown",
   "metadata": {},
   "source": [
    "# Resample Fruad=1 Class\n",
    "- Train using Keras DNN"
   ]
  },
  {
   "cell_type": "code",
   "execution_count": 1,
   "metadata": {},
   "outputs": [
    {
     "name": "stderr",
     "output_type": "stream",
     "text": [
      "Using TensorFlow backend.\n"
     ]
    },
    {
     "name": "stdout",
     "output_type": "stream",
     "text": [
      "<module 'tensorflow._api.v1.version' from '/home/ec2-user/anaconda3/lib/python3.7/site-packages/tensorflow/_api/v1/version/__init__.py'>\n",
      "4\n"
     ]
    }
   ],
   "source": [
    "import pandas as pd\n",
    "import numpy as np\n",
    "import keras\n",
    "\n",
    "from collections import Counter\n",
    "\n",
    "from sklearn.utils import resample, shuffle\n",
    "\n",
    "from keras.layers import Dense, Dropout, BatchNormalization\n",
    "\n",
    "from sklearn.metrics import roc_auc_score\n",
    "\n",
    "from multiprocessing import cpu_count\n",
    "\n",
    "from imblearn.under_sampling import NearMiss\n",
    "from imblearn.over_sampling import SMOTE\n",
    "\n",
    "import xgboost as xgb\n",
    "\n",
    "!python -c 'import tensorflow as tf; print(tf.version)'\n",
    "print(cpu_count())"
   ]
  },
  {
   "cell_type": "markdown",
   "metadata": {},
   "source": [
    "# Read Dataset"
   ]
  },
  {
   "cell_type": "code",
   "execution_count": 2,
   "metadata": {},
   "outputs": [],
   "source": [
    "def get_string_features(df):\n",
    "    string_features = []\n",
    "    for col in df.columns:\n",
    "        if df[col].dtype == np.dtype('object'):\n",
    "            string_features.append(col)\n",
    "\n",
    "    return string_features\n",
    "\n",
    "\n",
    "def read_data(filename='./datasets/kfold/transaction_fold_0_0_0.csv',\n",
    "              filename_identity=None,\n",
    "              drop_string_features=True):\n",
    "    \n",
    "    df = pd.read_csv(filename)\n",
    "    \n",
    "    if filename_identity is not None:\n",
    "        df_identity = pd.read_csv(filename_identity)\n",
    "        \n",
    "        df = pd.merge(df, df_identity, on='TransactionID', how='left')\n",
    "        \n",
    "        del df_identity\n",
    "    \n",
    "    \n",
    "    if drop_string_features:\n",
    "        string_features = get_string_features(df)\n",
    "        df = df.drop(columns=string_features)\n",
    "    \n",
    "    return df"
   ]
  },
  {
   "cell_type": "code",
   "execution_count": 10,
   "metadata": {
    "scrolled": true
   },
   "outputs": [
    {
     "name": "stdout",
     "output_type": "stream",
     "text": [
      "CPU times: user 21.3 s, sys: 1.66 s, total: 23 s\n",
      "Wall time: 22.3 s\n"
     ]
    }
   ],
   "source": [
    "filename = './datasets/train_transaction.csv'\n",
    "# filename_identity = './datasets/train_identity.csv'\n",
    "\n",
    "# %time train = read_data(filename, filename_identity, drop_string_features=True)\n",
    "\n",
    "%time train = read_data(filename, drop_string_features=False)"
   ]
  },
  {
   "cell_type": "code",
   "execution_count": 4,
   "metadata": {},
   "outputs": [
    {
     "data": {
      "text/plain": [
       "(590540, 394)"
      ]
     },
     "execution_count": 4,
     "metadata": {},
     "output_type": "execute_result"
    }
   ],
   "source": [
    "train.shape"
   ]
  },
  {
   "cell_type": "code",
   "execution_count": 5,
   "metadata": {},
   "outputs": [
    {
     "data": {
      "text/plain": [
       "0    569877\n",
       "1     20663\n",
       "Name: isFraud, dtype: int64"
      ]
     },
     "execution_count": 5,
     "metadata": {},
     "output_type": "execute_result"
    }
   ],
   "source": [
    "train.isFraud.value_counts()"
   ]
  },
  {
   "cell_type": "markdown",
   "metadata": {},
   "source": [
    "# Encode Labels"
   ]
  },
  {
   "cell_type": "code",
   "execution_count": 40,
   "metadata": {},
   "outputs": [],
   "source": [
    "def encode(df, mappings=None):\n",
    "    if mappings is None:\n",
    "        create_mappings = True\n",
    "        mappings= {}\n",
    "    else:\n",
    "        create_mappings = False\n",
    "        \n",
    "    \n",
    "    \n",
    "    string_features = get_string_features(df)\n",
    "    \n",
    "    for feature in string_features:\n",
    "        if create_mappings:\n",
    "            uniques = df[feature].unique()\n",
    "            m = dict(zip(uniques, range(len(uniques))))\n",
    "            mappings[feature] = m\n",
    "        else:\n",
    "            m = mappings[feature]\n",
    "        \n",
    "        df[feature] = df[feature].map(m)\n",
    "        \n",
    "    return mappings\n"
   ]
  },
  {
   "cell_type": "code",
   "execution_count": null,
   "metadata": {},
   "outputs": [],
   "source": [
    "%time mappings = encode(train)"
   ]
  },
  {
   "cell_type": "code",
   "execution_count": 13,
   "metadata": {},
   "outputs": [
    {
     "data": {
      "text/plain": [
       "{'ProductCD': {'W': 0, 'H': 1, 'C': 2, 'S': 3, 'R': 4},\n",
       " 'card4': {'discover': 0,\n",
       "  'mastercard': 1,\n",
       "  'visa': 2,\n",
       "  'american express': 3,\n",
       "  nan: 4},\n",
       " 'card6': {'credit': 0,\n",
       "  'debit': 1,\n",
       "  nan: 2,\n",
       "  'debit or credit': 3,\n",
       "  'charge card': 4},\n",
       " 'P_emaildomain': {nan: 0,\n",
       "  'gmail.com': 1,\n",
       "  'outlook.com': 2,\n",
       "  'yahoo.com': 3,\n",
       "  'mail.com': 4,\n",
       "  'anonymous.com': 5,\n",
       "  'hotmail.com': 6,\n",
       "  'verizon.net': 7,\n",
       "  'aol.com': 8,\n",
       "  'me.com': 9,\n",
       "  'comcast.net': 10,\n",
       "  'optonline.net': 11,\n",
       "  'cox.net': 12,\n",
       "  'charter.net': 13,\n",
       "  'rocketmail.com': 14,\n",
       "  'prodigy.net.mx': 15,\n",
       "  'embarqmail.com': 16,\n",
       "  'icloud.com': 17,\n",
       "  'live.com.mx': 18,\n",
       "  'gmail': 19,\n",
       "  'live.com': 20,\n",
       "  'att.net': 21,\n",
       "  'juno.com': 22,\n",
       "  'ymail.com': 23,\n",
       "  'sbcglobal.net': 24,\n",
       "  'bellsouth.net': 25,\n",
       "  'msn.com': 26,\n",
       "  'q.com': 27,\n",
       "  'yahoo.com.mx': 28,\n",
       "  'centurylink.net': 29,\n",
       "  'servicios-ta.com': 30,\n",
       "  'earthlink.net': 31,\n",
       "  'hotmail.es': 32,\n",
       "  'cfl.rr.com': 33,\n",
       "  'roadrunner.com': 34,\n",
       "  'netzero.net': 35,\n",
       "  'gmx.de': 36,\n",
       "  'suddenlink.net': 37,\n",
       "  'frontiernet.net': 38,\n",
       "  'windstream.net': 39,\n",
       "  'frontier.com': 40,\n",
       "  'outlook.es': 41,\n",
       "  'mac.com': 42,\n",
       "  'netzero.com': 43,\n",
       "  'aim.com': 44,\n",
       "  'web.de': 45,\n",
       "  'twc.com': 46,\n",
       "  'cableone.net': 47,\n",
       "  'yahoo.fr': 48,\n",
       "  'yahoo.de': 49,\n",
       "  'yahoo.es': 50,\n",
       "  'sc.rr.com': 51,\n",
       "  'ptd.net': 52,\n",
       "  'live.fr': 53,\n",
       "  'yahoo.co.uk': 54,\n",
       "  'hotmail.fr': 55,\n",
       "  'hotmail.de': 56,\n",
       "  'hotmail.co.uk': 57,\n",
       "  'protonmail.com': 58,\n",
       "  'yahoo.co.jp': 59},\n",
       " 'R_emaildomain': {nan: 0,\n",
       "  'gmail.com': 1,\n",
       "  'hotmail.com': 2,\n",
       "  'outlook.com': 3,\n",
       "  'anonymous.com': 4,\n",
       "  'charter.net': 5,\n",
       "  'prodigy.net.mx': 6,\n",
       "  'comcast.net': 7,\n",
       "  'live.com.mx': 8,\n",
       "  'icloud.com': 9,\n",
       "  'yahoo.com': 10,\n",
       "  'aol.com': 11,\n",
       "  'juno.com': 12,\n",
       "  'att.net': 13,\n",
       "  'verizon.net': 14,\n",
       "  'yahoo.com.mx': 15,\n",
       "  'bellsouth.net': 16,\n",
       "  'servicios-ta.com': 17,\n",
       "  'ymail.com': 18,\n",
       "  'hotmail.es': 19,\n",
       "  'msn.com': 20,\n",
       "  'optonline.net': 21,\n",
       "  'live.com': 22,\n",
       "  'gmx.de': 23,\n",
       "  'aim.com': 24,\n",
       "  'mail.com': 25,\n",
       "  'me.com': 26,\n",
       "  'outlook.es': 27,\n",
       "  'cox.net': 28,\n",
       "  'earthlink.net': 29,\n",
       "  'embarqmail.com': 30,\n",
       "  'web.de': 31,\n",
       "  'sbcglobal.net': 32,\n",
       "  'scranton.edu': 33,\n",
       "  'mac.com': 34,\n",
       "  'twc.com': 35,\n",
       "  'roadrunner.com': 36,\n",
       "  'yahoo.fr': 37,\n",
       "  'yahoo.de': 38,\n",
       "  'yahoo.es': 39,\n",
       "  'frontiernet.net': 40,\n",
       "  'gmail': 41,\n",
       "  'live.fr': 42,\n",
       "  'q.com': 43,\n",
       "  'yahoo.co.uk': 44,\n",
       "  'windstream.net': 45,\n",
       "  'suddenlink.net': 46,\n",
       "  'hotmail.fr': 47,\n",
       "  'ptd.net': 48,\n",
       "  'hotmail.de': 49,\n",
       "  'frontier.com': 50,\n",
       "  'cfl.rr.com': 51,\n",
       "  'hotmail.co.uk': 52,\n",
       "  'netzero.com': 53,\n",
       "  'netzero.net': 54,\n",
       "  'yahoo.co.jp': 55,\n",
       "  'rocketmail.com': 56,\n",
       "  'centurylink.net': 57,\n",
       "  'protonmail.com': 58,\n",
       "  'cableone.net': 59,\n",
       "  'sc.rr.com': 60},\n",
       " 'M1': {'T': 0, nan: 1, 'F': 2},\n",
       " 'M2': {'T': 0, nan: 1, 'F': 2},\n",
       " 'M3': {'T': 0, nan: 1, 'F': 2},\n",
       " 'M4': {'M2': 0, 'M0': 1, nan: 2, 'M1': 3},\n",
       " 'M5': {'F': 0, 'T': 1, nan: 2},\n",
       " 'M6': {'T': 0, 'F': 1, nan: 2},\n",
       " 'M7': {nan: 0, 'F': 1, 'T': 2},\n",
       " 'M8': {nan: 0, 'F': 1, 'T': 2},\n",
       " 'M9': {nan: 0, 'F': 1, 'T': 2}}"
      ]
     },
     "execution_count": 13,
     "metadata": {},
     "output_type": "execute_result"
    }
   ],
   "source": [
    "mappings"
   ]
  },
  {
   "cell_type": "code",
   "execution_count": 14,
   "metadata": {},
   "outputs": [
    {
     "data": {
      "text/plain": [
       "[]"
      ]
     },
     "execution_count": 14,
     "metadata": {},
     "output_type": "execute_result"
    }
   ],
   "source": [
    "get_string_features(train)"
   ]
  },
  {
   "cell_type": "code",
   "execution_count": null,
   "metadata": {},
   "outputs": [],
   "source": []
  },
  {
   "cell_type": "markdown",
   "metadata": {},
   "source": [
    "# Undersample majority class"
   ]
  },
  {
   "cell_type": "code",
   "execution_count": 15,
   "metadata": {},
   "outputs": [],
   "source": [
    "def preprocess(df):\n",
    "    df = df.fillna(-999)\n",
    "    \n",
    "    return df.drop(columns=['TransactionID', 'TransactionDT'])\n",
    "\n",
    "\n",
    "train = preprocess(train)"
   ]
  },
  {
   "cell_type": "code",
   "execution_count": 16,
   "metadata": {},
   "outputs": [
    {
     "data": {
      "text/plain": [
       "(590540, 392)"
      ]
     },
     "execution_count": 16,
     "metadata": {},
     "output_type": "execute_result"
    }
   ],
   "source": [
    "train.shape"
   ]
  },
  {
   "cell_type": "code",
   "execution_count": 17,
   "metadata": {},
   "outputs": [],
   "source": [
    "def split_features_labels(df):\n",
    "    return df.drop(columns=['isFraud']), df['isFraud']"
   ]
  },
  {
   "cell_type": "code",
   "execution_count": 18,
   "metadata": {},
   "outputs": [],
   "source": [
    "# def undersample_then_oversample(df, random_state=27):\n",
    "#     \"\"\"\n",
    "#     Upsample minority class (isFraud=1), combine with majority class, and then shuffle them.\n",
    "#     \"\"\"\n",
    "#     sampling_strategy = 0.5\n",
    "# #     X = df.drop(columns=['isFraud'])\n",
    "# #     y = df['isFraud']\n",
    "#     X, y = split_features_labels(df)\n",
    "    \n",
    "#     # Declare Random Under Sampler\n",
    "#     rus = NearMiss(version=3, \n",
    "#                    sampling_strategy=sampling_strategy,\n",
    "#                    n_jobs=cpu_count(),\n",
    "#                    random_state=random_state)\n",
    "    \n",
    "#     ros = SMOTE(n_jobs=cpu_count(),\n",
    "#                random_state=random_state)\n",
    "    \n",
    "#     X, y = rus.fit_resample(X, y)\n",
    "#     X, y = ros.fit_resample(X, y)\n",
    "    \n",
    "#     return X, y.astype('int32')\n",
    "\n",
    "\n",
    "# %time X, y = undersample_then_oversample(train)"
   ]
  },
  {
   "cell_type": "code",
   "execution_count": 19,
   "metadata": {},
   "outputs": [
    {
     "name": "stdout",
     "output_type": "stream",
     "text": [
      "CPU times: user 1min, sys: 4.26 s, total: 1min 4s\n",
      "Wall time: 22.2 s\n"
     ]
    }
   ],
   "source": [
    "def oversample(df, random_state=27):\n",
    "    \"\"\"\n",
    "    Upsample minority class (isFraud=1), combine with majority class, and then shuffle them.\n",
    "    \"\"\"\n",
    "    sampling_strategy = 0.15\n",
    "#     X = df.drop(columns=['isFraud'])\n",
    "#     y = df['isFraud']\n",
    "    X, y = split_features_labels(df)\n",
    "    \n",
    "    ros = SMOTE(sampling_strategy=sampling_strategy,\n",
    "                n_jobs=cpu_count(),\n",
    "               random_state=random_state)\n",
    "    \n",
    "    X, y = ros.fit_resample(X, y)\n",
    "    \n",
    "    return X, y.astype('int32')\n",
    "\n",
    "\n",
    "%time X, y = oversample(train)"
   ]
  },
  {
   "cell_type": "code",
   "execution_count": 20,
   "metadata": {
    "scrolled": true
   },
   "outputs": [
    {
     "name": "stdout",
     "output_type": "stream",
     "text": [
      "(655358, 391)\n",
      "(655358,)\n"
     ]
    }
   ],
   "source": [
    "print(X.shape)\n",
    "print(y.shape)"
   ]
  },
  {
   "cell_type": "code",
   "execution_count": 21,
   "metadata": {},
   "outputs": [
    {
     "data": {
      "text/plain": [
       "Counter({0: 569877, 1: 85481})"
      ]
     },
     "execution_count": 21,
     "metadata": {},
     "output_type": "execute_result"
    }
   ],
   "source": [
    "Counter(y)"
   ]
  },
  {
   "cell_type": "markdown",
   "metadata": {},
   "source": [
    "# Train using XGB"
   ]
  },
  {
   "cell_type": "code",
   "execution_count": 22,
   "metadata": {},
   "outputs": [
    {
     "name": "stdout",
     "output_type": "stream",
     "text": [
      "<class 'pandas.core.frame.DataFrame'>\n",
      "RangeIndex: 590540 entries, 0 to 590539\n",
      "Columns: 392 entries, isFraud to V339\n",
      "dtypes: float64(376), int64(16)\n",
      "memory usage: 1.7 GB\n"
     ]
    }
   ],
   "source": [
    "train.info()"
   ]
  },
  {
   "cell_type": "code",
   "execution_count": 23,
   "metadata": {},
   "outputs": [
    {
     "data": {
      "text/plain": [
       "54"
      ]
     },
     "execution_count": 23,
     "metadata": {},
     "output_type": "execute_result"
    }
   ],
   "source": [
    "del train\n",
    "\n",
    "import gc\n",
    "gc.collect()"
   ]
  },
  {
   "cell_type": "code",
   "execution_count": 24,
   "metadata": {},
   "outputs": [
    {
     "name": "stdout",
     "output_type": "stream",
     "text": [
      "CPU times: user 12min 58s, sys: 4.27 s, total: 13min 2s\n",
      "Wall time: 3min 19s\n"
     ]
    },
    {
     "data": {
      "text/plain": [
       "XGBClassifier(base_score=0.5, booster='gbtree', colsample_bylevel=1,\n",
       "              colsample_bynode=1, colsample_bytree=1, gamma=0,\n",
       "              learning_rate=0.1, max_delta_step=0, max_depth=3,\n",
       "              min_child_weight=1, missing=None, n_estimators=100, n_jobs=4,\n",
       "              nthread=None, objective='binary:logistic', random_state=0,\n",
       "              reg_alpha=0, reg_lambda=1, scale_pos_weight=1, seed=27,\n",
       "              silent=None, subsample=1, verbosity=1)"
      ]
     },
     "execution_count": 24,
     "metadata": {},
     "output_type": "execute_result"
    }
   ],
   "source": [
    "seed = 27\n",
    "model = xgb.XGBClassifier(objective='binary:logistic',\n",
    "                            n_jobs=cpu_count(),\n",
    "                            seed=seed)\n",
    "\n",
    "%time model.fit(X, y, verbose=True)"
   ]
  },
  {
   "cell_type": "code",
   "execution_count": 25,
   "metadata": {},
   "outputs": [
    {
     "name": "stdout",
     "output_type": "stream",
     "text": [
      "roc-auc score=0.9359134334539352\n"
     ]
    }
   ],
   "source": [
    "pred_prob = model.predict_proba(X)\n",
    "\n",
    "score = roc_auc_score(y, pred_prob[:, 1])\n",
    "\n",
    "print('roc-auc score={}'.format(score))"
   ]
  },
  {
   "cell_type": "markdown",
   "metadata": {},
   "source": [
    "# Save Model"
   ]
  },
  {
   "cell_type": "code",
   "execution_count": 26,
   "metadata": {},
   "outputs": [],
   "source": [
    "import pickle\n",
    "\n",
    "filename_model = './models/xgboost/encoded_transaction_oversampling.pkl'\n",
    "\n",
    "with open(filename_model, 'wb') as f:\n",
    "    pickle.dump(model, f)"
   ]
  },
  {
   "cell_type": "code",
   "execution_count": null,
   "metadata": {},
   "outputs": [],
   "source": []
  },
  {
   "cell_type": "markdown",
   "metadata": {},
   "source": [
    "# Predict Test Data And Write to File"
   ]
  },
  {
   "cell_type": "code",
   "execution_count": 28,
   "metadata": {},
   "outputs": [
    {
     "name": "stdout",
     "output_type": "stream",
     "text": [
      "CPU times: user 18.6 s, sys: 1.48 s, total: 20.1 s\n",
      "Wall time: 21.2 s\n"
     ]
    }
   ],
   "source": [
    "filename = './datasets/test_transaction.csv'\n",
    "# filename_identity = './datasets/test_identity.csv'\n",
    "filename_identity = None\n",
    "%time test = read_data(filename, filename_identity, drop_string_features=False)"
   ]
  },
  {
   "cell_type": "code",
   "execution_count": 33,
   "metadata": {},
   "outputs": [
    {
     "data": {
      "text/html": [
       "<div>\n",
       "<style scoped>\n",
       "    .dataframe tbody tr th:only-of-type {\n",
       "        vertical-align: middle;\n",
       "    }\n",
       "\n",
       "    .dataframe tbody tr th {\n",
       "        vertical-align: top;\n",
       "    }\n",
       "\n",
       "    .dataframe thead th {\n",
       "        text-align: right;\n",
       "    }\n",
       "</style>\n",
       "<table border=\"1\" class=\"dataframe\">\n",
       "  <thead>\n",
       "    <tr style=\"text-align: right;\">\n",
       "      <th></th>\n",
       "      <th>TransactionID</th>\n",
       "      <th>TransactionDT</th>\n",
       "      <th>TransactionAmt</th>\n",
       "      <th>ProductCD</th>\n",
       "      <th>card1</th>\n",
       "      <th>card2</th>\n",
       "      <th>card3</th>\n",
       "      <th>card4</th>\n",
       "      <th>card5</th>\n",
       "      <th>card6</th>\n",
       "      <th>...</th>\n",
       "      <th>V330</th>\n",
       "      <th>V331</th>\n",
       "      <th>V332</th>\n",
       "      <th>V333</th>\n",
       "      <th>V334</th>\n",
       "      <th>V335</th>\n",
       "      <th>V336</th>\n",
       "      <th>V337</th>\n",
       "      <th>V338</th>\n",
       "      <th>V339</th>\n",
       "    </tr>\n",
       "  </thead>\n",
       "  <tbody>\n",
       "    <tr>\n",
       "      <th>0</th>\n",
       "      <td>3663549</td>\n",
       "      <td>18403224</td>\n",
       "      <td>31.95</td>\n",
       "      <td>W</td>\n",
       "      <td>10409</td>\n",
       "      <td>111.0</td>\n",
       "      <td>150.0</td>\n",
       "      <td>visa</td>\n",
       "      <td>226.0</td>\n",
       "      <td>debit</td>\n",
       "      <td>...</td>\n",
       "      <td>NaN</td>\n",
       "      <td>NaN</td>\n",
       "      <td>NaN</td>\n",
       "      <td>NaN</td>\n",
       "      <td>NaN</td>\n",
       "      <td>NaN</td>\n",
       "      <td>NaN</td>\n",
       "      <td>NaN</td>\n",
       "      <td>NaN</td>\n",
       "      <td>NaN</td>\n",
       "    </tr>\n",
       "    <tr>\n",
       "      <th>1</th>\n",
       "      <td>3663550</td>\n",
       "      <td>18403263</td>\n",
       "      <td>49.00</td>\n",
       "      <td>W</td>\n",
       "      <td>4272</td>\n",
       "      <td>111.0</td>\n",
       "      <td>150.0</td>\n",
       "      <td>visa</td>\n",
       "      <td>226.0</td>\n",
       "      <td>debit</td>\n",
       "      <td>...</td>\n",
       "      <td>NaN</td>\n",
       "      <td>NaN</td>\n",
       "      <td>NaN</td>\n",
       "      <td>NaN</td>\n",
       "      <td>NaN</td>\n",
       "      <td>NaN</td>\n",
       "      <td>NaN</td>\n",
       "      <td>NaN</td>\n",
       "      <td>NaN</td>\n",
       "      <td>NaN</td>\n",
       "    </tr>\n",
       "    <tr>\n",
       "      <th>2</th>\n",
       "      <td>3663551</td>\n",
       "      <td>18403310</td>\n",
       "      <td>171.00</td>\n",
       "      <td>W</td>\n",
       "      <td>4476</td>\n",
       "      <td>574.0</td>\n",
       "      <td>150.0</td>\n",
       "      <td>visa</td>\n",
       "      <td>226.0</td>\n",
       "      <td>debit</td>\n",
       "      <td>...</td>\n",
       "      <td>NaN</td>\n",
       "      <td>NaN</td>\n",
       "      <td>NaN</td>\n",
       "      <td>NaN</td>\n",
       "      <td>NaN</td>\n",
       "      <td>NaN</td>\n",
       "      <td>NaN</td>\n",
       "      <td>NaN</td>\n",
       "      <td>NaN</td>\n",
       "      <td>NaN</td>\n",
       "    </tr>\n",
       "    <tr>\n",
       "      <th>3</th>\n",
       "      <td>3663552</td>\n",
       "      <td>18403310</td>\n",
       "      <td>284.95</td>\n",
       "      <td>W</td>\n",
       "      <td>10989</td>\n",
       "      <td>360.0</td>\n",
       "      <td>150.0</td>\n",
       "      <td>visa</td>\n",
       "      <td>166.0</td>\n",
       "      <td>debit</td>\n",
       "      <td>...</td>\n",
       "      <td>NaN</td>\n",
       "      <td>NaN</td>\n",
       "      <td>NaN</td>\n",
       "      <td>NaN</td>\n",
       "      <td>NaN</td>\n",
       "      <td>NaN</td>\n",
       "      <td>NaN</td>\n",
       "      <td>NaN</td>\n",
       "      <td>NaN</td>\n",
       "      <td>NaN</td>\n",
       "    </tr>\n",
       "    <tr>\n",
       "      <th>4</th>\n",
       "      <td>3663553</td>\n",
       "      <td>18403317</td>\n",
       "      <td>67.95</td>\n",
       "      <td>W</td>\n",
       "      <td>18018</td>\n",
       "      <td>452.0</td>\n",
       "      <td>150.0</td>\n",
       "      <td>mastercard</td>\n",
       "      <td>117.0</td>\n",
       "      <td>debit</td>\n",
       "      <td>...</td>\n",
       "      <td>NaN</td>\n",
       "      <td>NaN</td>\n",
       "      <td>NaN</td>\n",
       "      <td>NaN</td>\n",
       "      <td>NaN</td>\n",
       "      <td>NaN</td>\n",
       "      <td>NaN</td>\n",
       "      <td>NaN</td>\n",
       "      <td>NaN</td>\n",
       "      <td>NaN</td>\n",
       "    </tr>\n",
       "  </tbody>\n",
       "</table>\n",
       "<p>5 rows × 393 columns</p>\n",
       "</div>"
      ],
      "text/plain": [
       "   TransactionID  TransactionDT  TransactionAmt ProductCD  card1  card2  \\\n",
       "0        3663549       18403224           31.95         W  10409  111.0   \n",
       "1        3663550       18403263           49.00         W   4272  111.0   \n",
       "2        3663551       18403310          171.00         W   4476  574.0   \n",
       "3        3663552       18403310          284.95         W  10989  360.0   \n",
       "4        3663553       18403317           67.95         W  18018  452.0   \n",
       "\n",
       "   card3       card4  card5  card6  ...  V330  V331  V332  V333 V334 V335  \\\n",
       "0  150.0        visa  226.0  debit  ...   NaN   NaN   NaN   NaN  NaN  NaN   \n",
       "1  150.0        visa  226.0  debit  ...   NaN   NaN   NaN   NaN  NaN  NaN   \n",
       "2  150.0        visa  226.0  debit  ...   NaN   NaN   NaN   NaN  NaN  NaN   \n",
       "3  150.0        visa  166.0  debit  ...   NaN   NaN   NaN   NaN  NaN  NaN   \n",
       "4  150.0  mastercard  117.0  debit  ...   NaN   NaN   NaN   NaN  NaN  NaN   \n",
       "\n",
       "   V336  V337  V338  V339  \n",
       "0   NaN   NaN   NaN   NaN  \n",
       "1   NaN   NaN   NaN   NaN  \n",
       "2   NaN   NaN   NaN   NaN  \n",
       "3   NaN   NaN   NaN   NaN  \n",
       "4   NaN   NaN   NaN   NaN  \n",
       "\n",
       "[5 rows x 393 columns]"
      ]
     },
     "execution_count": 33,
     "metadata": {},
     "output_type": "execute_result"
    }
   ],
   "source": [
    "test.head()"
   ]
  },
  {
   "cell_type": "code",
   "execution_count": null,
   "metadata": {},
   "outputs": [],
   "source": []
  },
  {
   "cell_type": "code",
   "execution_count": 41,
   "metadata": {},
   "outputs": [
    {
     "data": {
      "text/plain": [
       "{'ProductCD': {'W': 0, 'H': 1, 'C': 2, 'S': 3, 'R': 4},\n",
       " 'card4': {'discover': 0,\n",
       "  'mastercard': 1,\n",
       "  'visa': 2,\n",
       "  'american express': 3,\n",
       "  nan: 4},\n",
       " 'card6': {'credit': 0,\n",
       "  'debit': 1,\n",
       "  nan: 2,\n",
       "  'debit or credit': 3,\n",
       "  'charge card': 4},\n",
       " 'P_emaildomain': {nan: 0,\n",
       "  'gmail.com': 1,\n",
       "  'outlook.com': 2,\n",
       "  'yahoo.com': 3,\n",
       "  'mail.com': 4,\n",
       "  'anonymous.com': 5,\n",
       "  'hotmail.com': 6,\n",
       "  'verizon.net': 7,\n",
       "  'aol.com': 8,\n",
       "  'me.com': 9,\n",
       "  'comcast.net': 10,\n",
       "  'optonline.net': 11,\n",
       "  'cox.net': 12,\n",
       "  'charter.net': 13,\n",
       "  'rocketmail.com': 14,\n",
       "  'prodigy.net.mx': 15,\n",
       "  'embarqmail.com': 16,\n",
       "  'icloud.com': 17,\n",
       "  'live.com.mx': 18,\n",
       "  'gmail': 19,\n",
       "  'live.com': 20,\n",
       "  'att.net': 21,\n",
       "  'juno.com': 22,\n",
       "  'ymail.com': 23,\n",
       "  'sbcglobal.net': 24,\n",
       "  'bellsouth.net': 25,\n",
       "  'msn.com': 26,\n",
       "  'q.com': 27,\n",
       "  'yahoo.com.mx': 28,\n",
       "  'centurylink.net': 29,\n",
       "  'servicios-ta.com': 30,\n",
       "  'earthlink.net': 31,\n",
       "  'hotmail.es': 32,\n",
       "  'cfl.rr.com': 33,\n",
       "  'roadrunner.com': 34,\n",
       "  'netzero.net': 35,\n",
       "  'gmx.de': 36,\n",
       "  'suddenlink.net': 37,\n",
       "  'frontiernet.net': 38,\n",
       "  'windstream.net': 39,\n",
       "  'frontier.com': 40,\n",
       "  'outlook.es': 41,\n",
       "  'mac.com': 42,\n",
       "  'netzero.com': 43,\n",
       "  'aim.com': 44,\n",
       "  'web.de': 45,\n",
       "  'twc.com': 46,\n",
       "  'cableone.net': 47,\n",
       "  'yahoo.fr': 48,\n",
       "  'yahoo.de': 49,\n",
       "  'yahoo.es': 50,\n",
       "  'sc.rr.com': 51,\n",
       "  'ptd.net': 52,\n",
       "  'live.fr': 53,\n",
       "  'yahoo.co.uk': 54,\n",
       "  'hotmail.fr': 55,\n",
       "  'hotmail.de': 56,\n",
       "  'hotmail.co.uk': 57,\n",
       "  'protonmail.com': 58,\n",
       "  'yahoo.co.jp': 59},\n",
       " 'R_emaildomain': {nan: 0,\n",
       "  'gmail.com': 1,\n",
       "  'hotmail.com': 2,\n",
       "  'outlook.com': 3,\n",
       "  'anonymous.com': 4,\n",
       "  'charter.net': 5,\n",
       "  'prodigy.net.mx': 6,\n",
       "  'comcast.net': 7,\n",
       "  'live.com.mx': 8,\n",
       "  'icloud.com': 9,\n",
       "  'yahoo.com': 10,\n",
       "  'aol.com': 11,\n",
       "  'juno.com': 12,\n",
       "  'att.net': 13,\n",
       "  'verizon.net': 14,\n",
       "  'yahoo.com.mx': 15,\n",
       "  'bellsouth.net': 16,\n",
       "  'servicios-ta.com': 17,\n",
       "  'ymail.com': 18,\n",
       "  'hotmail.es': 19,\n",
       "  'msn.com': 20,\n",
       "  'optonline.net': 21,\n",
       "  'live.com': 22,\n",
       "  'gmx.de': 23,\n",
       "  'aim.com': 24,\n",
       "  'mail.com': 25,\n",
       "  'me.com': 26,\n",
       "  'outlook.es': 27,\n",
       "  'cox.net': 28,\n",
       "  'earthlink.net': 29,\n",
       "  'embarqmail.com': 30,\n",
       "  'web.de': 31,\n",
       "  'sbcglobal.net': 32,\n",
       "  'scranton.edu': 33,\n",
       "  'mac.com': 34,\n",
       "  'twc.com': 35,\n",
       "  'roadrunner.com': 36,\n",
       "  'yahoo.fr': 37,\n",
       "  'yahoo.de': 38,\n",
       "  'yahoo.es': 39,\n",
       "  'frontiernet.net': 40,\n",
       "  'gmail': 41,\n",
       "  'live.fr': 42,\n",
       "  'q.com': 43,\n",
       "  'yahoo.co.uk': 44,\n",
       "  'windstream.net': 45,\n",
       "  'suddenlink.net': 46,\n",
       "  'hotmail.fr': 47,\n",
       "  'ptd.net': 48,\n",
       "  'hotmail.de': 49,\n",
       "  'frontier.com': 50,\n",
       "  'cfl.rr.com': 51,\n",
       "  'hotmail.co.uk': 52,\n",
       "  'netzero.com': 53,\n",
       "  'netzero.net': 54,\n",
       "  'yahoo.co.jp': 55,\n",
       "  'rocketmail.com': 56,\n",
       "  'centurylink.net': 57,\n",
       "  'protonmail.com': 58,\n",
       "  'cableone.net': 59,\n",
       "  'sc.rr.com': 60},\n",
       " 'M1': {'T': 0, nan: 1, 'F': 2},\n",
       " 'M2': {'T': 0, nan: 1, 'F': 2},\n",
       " 'M3': {'T': 0, nan: 1, 'F': 2},\n",
       " 'M4': {'M2': 0, 'M0': 1, nan: 2, 'M1': 3},\n",
       " 'M5': {'F': 0, 'T': 1, nan: 2},\n",
       " 'M6': {'T': 0, 'F': 1, nan: 2},\n",
       " 'M7': {nan: 0, 'F': 1, 'T': 2},\n",
       " 'M8': {nan: 0, 'F': 1, 'T': 2},\n",
       " 'M9': {nan: 0, 'F': 1, 'T': 2}}"
      ]
     },
     "execution_count": 41,
     "metadata": {},
     "output_type": "execute_result"
    }
   ],
   "source": [
    "encode(test, mappings)"
   ]
  },
  {
   "cell_type": "code",
   "execution_count": 42,
   "metadata": {},
   "outputs": [],
   "source": [
    "test_id = test['TransactionID']"
   ]
  },
  {
   "cell_type": "code",
   "execution_count": 43,
   "metadata": {},
   "outputs": [
    {
     "data": {
      "text/plain": [
       "(506691, 393)"
      ]
     },
     "execution_count": 43,
     "metadata": {},
     "output_type": "execute_result"
    }
   ],
   "source": [
    "test.shape"
   ]
  },
  {
   "cell_type": "code",
   "execution_count": 46,
   "metadata": {},
   "outputs": [],
   "source": [
    "%time test = preprocess(test)"
   ]
  },
  {
   "cell_type": "code",
   "execution_count": 47,
   "metadata": {},
   "outputs": [
    {
     "data": {
      "text/html": [
       "<div>\n",
       "<style scoped>\n",
       "    .dataframe tbody tr th:only-of-type {\n",
       "        vertical-align: middle;\n",
       "    }\n",
       "\n",
       "    .dataframe tbody tr th {\n",
       "        vertical-align: top;\n",
       "    }\n",
       "\n",
       "    .dataframe thead th {\n",
       "        text-align: right;\n",
       "    }\n",
       "</style>\n",
       "<table border=\"1\" class=\"dataframe\">\n",
       "  <thead>\n",
       "    <tr style=\"text-align: right;\">\n",
       "      <th></th>\n",
       "      <th>TransactionAmt</th>\n",
       "      <th>ProductCD</th>\n",
       "      <th>card1</th>\n",
       "      <th>card2</th>\n",
       "      <th>card3</th>\n",
       "      <th>card4</th>\n",
       "      <th>card5</th>\n",
       "      <th>card6</th>\n",
       "      <th>addr1</th>\n",
       "      <th>addr2</th>\n",
       "      <th>...</th>\n",
       "      <th>V330</th>\n",
       "      <th>V331</th>\n",
       "      <th>V332</th>\n",
       "      <th>V333</th>\n",
       "      <th>V334</th>\n",
       "      <th>V335</th>\n",
       "      <th>V336</th>\n",
       "      <th>V337</th>\n",
       "      <th>V338</th>\n",
       "      <th>V339</th>\n",
       "    </tr>\n",
       "  </thead>\n",
       "  <tbody>\n",
       "    <tr>\n",
       "      <th>0</th>\n",
       "      <td>31.95</td>\n",
       "      <td>0</td>\n",
       "      <td>10409</td>\n",
       "      <td>111.0</td>\n",
       "      <td>150.0</td>\n",
       "      <td>2</td>\n",
       "      <td>226.0</td>\n",
       "      <td>1</td>\n",
       "      <td>170.0</td>\n",
       "      <td>87.0</td>\n",
       "      <td>...</td>\n",
       "      <td>-999.0</td>\n",
       "      <td>-999.0</td>\n",
       "      <td>-999.0</td>\n",
       "      <td>-999.0</td>\n",
       "      <td>-999.0</td>\n",
       "      <td>-999.0</td>\n",
       "      <td>-999.0</td>\n",
       "      <td>-999.0</td>\n",
       "      <td>-999.0</td>\n",
       "      <td>-999.0</td>\n",
       "    </tr>\n",
       "    <tr>\n",
       "      <th>1</th>\n",
       "      <td>49.00</td>\n",
       "      <td>0</td>\n",
       "      <td>4272</td>\n",
       "      <td>111.0</td>\n",
       "      <td>150.0</td>\n",
       "      <td>2</td>\n",
       "      <td>226.0</td>\n",
       "      <td>1</td>\n",
       "      <td>299.0</td>\n",
       "      <td>87.0</td>\n",
       "      <td>...</td>\n",
       "      <td>-999.0</td>\n",
       "      <td>-999.0</td>\n",
       "      <td>-999.0</td>\n",
       "      <td>-999.0</td>\n",
       "      <td>-999.0</td>\n",
       "      <td>-999.0</td>\n",
       "      <td>-999.0</td>\n",
       "      <td>-999.0</td>\n",
       "      <td>-999.0</td>\n",
       "      <td>-999.0</td>\n",
       "    </tr>\n",
       "    <tr>\n",
       "      <th>2</th>\n",
       "      <td>171.00</td>\n",
       "      <td>0</td>\n",
       "      <td>4476</td>\n",
       "      <td>574.0</td>\n",
       "      <td>150.0</td>\n",
       "      <td>2</td>\n",
       "      <td>226.0</td>\n",
       "      <td>1</td>\n",
       "      <td>472.0</td>\n",
       "      <td>87.0</td>\n",
       "      <td>...</td>\n",
       "      <td>-999.0</td>\n",
       "      <td>-999.0</td>\n",
       "      <td>-999.0</td>\n",
       "      <td>-999.0</td>\n",
       "      <td>-999.0</td>\n",
       "      <td>-999.0</td>\n",
       "      <td>-999.0</td>\n",
       "      <td>-999.0</td>\n",
       "      <td>-999.0</td>\n",
       "      <td>-999.0</td>\n",
       "    </tr>\n",
       "    <tr>\n",
       "      <th>3</th>\n",
       "      <td>284.95</td>\n",
       "      <td>0</td>\n",
       "      <td>10989</td>\n",
       "      <td>360.0</td>\n",
       "      <td>150.0</td>\n",
       "      <td>2</td>\n",
       "      <td>166.0</td>\n",
       "      <td>1</td>\n",
       "      <td>205.0</td>\n",
       "      <td>87.0</td>\n",
       "      <td>...</td>\n",
       "      <td>-999.0</td>\n",
       "      <td>-999.0</td>\n",
       "      <td>-999.0</td>\n",
       "      <td>-999.0</td>\n",
       "      <td>-999.0</td>\n",
       "      <td>-999.0</td>\n",
       "      <td>-999.0</td>\n",
       "      <td>-999.0</td>\n",
       "      <td>-999.0</td>\n",
       "      <td>-999.0</td>\n",
       "    </tr>\n",
       "    <tr>\n",
       "      <th>4</th>\n",
       "      <td>67.95</td>\n",
       "      <td>0</td>\n",
       "      <td>18018</td>\n",
       "      <td>452.0</td>\n",
       "      <td>150.0</td>\n",
       "      <td>1</td>\n",
       "      <td>117.0</td>\n",
       "      <td>1</td>\n",
       "      <td>264.0</td>\n",
       "      <td>87.0</td>\n",
       "      <td>...</td>\n",
       "      <td>-999.0</td>\n",
       "      <td>-999.0</td>\n",
       "      <td>-999.0</td>\n",
       "      <td>-999.0</td>\n",
       "      <td>-999.0</td>\n",
       "      <td>-999.0</td>\n",
       "      <td>-999.0</td>\n",
       "      <td>-999.0</td>\n",
       "      <td>-999.0</td>\n",
       "      <td>-999.0</td>\n",
       "    </tr>\n",
       "  </tbody>\n",
       "</table>\n",
       "<p>5 rows × 391 columns</p>\n",
       "</div>"
      ],
      "text/plain": [
       "   TransactionAmt  ProductCD  card1  card2  card3  card4  card5  card6  addr1  \\\n",
       "0           31.95          0  10409  111.0  150.0      2  226.0      1  170.0   \n",
       "1           49.00          0   4272  111.0  150.0      2  226.0      1  299.0   \n",
       "2          171.00          0   4476  574.0  150.0      2  226.0      1  472.0   \n",
       "3          284.95          0  10989  360.0  150.0      2  166.0      1  205.0   \n",
       "4           67.95          0  18018  452.0  150.0      1  117.0      1  264.0   \n",
       "\n",
       "   addr2  ...   V330   V331   V332   V333   V334   V335   V336   V337   V338  \\\n",
       "0   87.0  ... -999.0 -999.0 -999.0 -999.0 -999.0 -999.0 -999.0 -999.0 -999.0   \n",
       "1   87.0  ... -999.0 -999.0 -999.0 -999.0 -999.0 -999.0 -999.0 -999.0 -999.0   \n",
       "2   87.0  ... -999.0 -999.0 -999.0 -999.0 -999.0 -999.0 -999.0 -999.0 -999.0   \n",
       "3   87.0  ... -999.0 -999.0 -999.0 -999.0 -999.0 -999.0 -999.0 -999.0 -999.0   \n",
       "4   87.0  ... -999.0 -999.0 -999.0 -999.0 -999.0 -999.0 -999.0 -999.0 -999.0   \n",
       "\n",
       "    V339  \n",
       "0 -999.0  \n",
       "1 -999.0  \n",
       "2 -999.0  \n",
       "3 -999.0  \n",
       "4 -999.0  \n",
       "\n",
       "[5 rows x 391 columns]"
      ]
     },
     "execution_count": 47,
     "metadata": {},
     "output_type": "execute_result"
    }
   ],
   "source": [
    "test.head()"
   ]
  },
  {
   "cell_type": "code",
   "execution_count": 48,
   "metadata": {},
   "outputs": [
    {
     "data": {
      "text/plain": [
       "760"
      ]
     },
     "execution_count": 48,
     "metadata": {},
     "output_type": "execute_result"
    }
   ],
   "source": [
    "del X\n",
    "import gc\n",
    "gc.collect()"
   ]
  },
  {
   "cell_type": "code",
   "execution_count": 49,
   "metadata": {},
   "outputs": [
    {
     "name": "stdout",
     "output_type": "stream",
     "text": [
      "CPU times: user 5.75 s, sys: 2.48 s, total: 8.23 s\n",
      "Wall time: 4.26 s\n"
     ]
    }
   ],
   "source": [
    "%time pred_prob = model.predict_proba(test.values)"
   ]
  },
  {
   "cell_type": "code",
   "execution_count": null,
   "metadata": {},
   "outputs": [],
   "source": []
  },
  {
   "cell_type": "code",
   "execution_count": 51,
   "metadata": {},
   "outputs": [
    {
     "name": "stdout",
     "output_type": "stream",
     "text": [
      "CPU times: user 2.15 s, sys: 18.2 ms, total: 2.17 s\n",
      "Wall time: 2.04 s\n"
     ]
    }
   ],
   "source": [
    "test_result_df = pd.DataFrame(test_id, columns=['TransactionID'])\n",
    "test_result_df['isFraud'] = pred_prob[:, 1]\n",
    "\n",
    "filename_prediction = './prediction_test_oversampling_encoded_transaction_2019_0805.csv'\n",
    "%time test_result_df.to_csv(filename_prediction, index=False)"
   ]
  },
  {
   "cell_type": "code",
   "execution_count": null,
   "metadata": {},
   "outputs": [],
   "source": []
  }
 ],
 "metadata": {
  "kernelspec": {
   "display_name": "Python 3",
   "language": "python",
   "name": "python3"
  },
  "language_info": {
   "codemirror_mode": {
    "name": "ipython",
    "version": 3
   },
   "file_extension": ".py",
   "mimetype": "text/x-python",
   "name": "python",
   "nbconvert_exporter": "python",
   "pygments_lexer": "ipython3",
   "version": "3.7.3"
  }
 },
 "nbformat": 4,
 "nbformat_minor": 2
}
