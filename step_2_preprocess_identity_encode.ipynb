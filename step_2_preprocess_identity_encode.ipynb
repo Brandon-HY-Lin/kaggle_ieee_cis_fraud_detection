{
 "cells": [
  {
   "cell_type": "markdown",
   "metadata": {},
   "source": [
    "# Preprocess Identity file and encode it\n",
    "This note book rewrite the notebook \"step_2_preprocess_identity\" and add encodding."
   ]
  },
  {
   "cell_type": "code",
   "execution_count": 1,
   "metadata": {},
   "outputs": [],
   "source": [
    "import pandas as pd\n",
    "import numpy as np\n",
    "import seaborn as sns\n",
    "\n",
    "from sklearn import preprocessing\n",
    "from tqdm import tqdm"
   ]
  },
  {
   "cell_type": "markdown",
   "metadata": {},
   "source": [
    "#  Read Dataset"
   ]
  },
  {
   "cell_type": "code",
   "execution_count": 2,
   "metadata": {},
   "outputs": [],
   "source": [
    "train_identity = pd.read_csv('./datasets/train_identity.csv')"
   ]
  },
  {
   "cell_type": "markdown",
   "metadata": {},
   "source": [
    "# Substute Label Features\n",
    "1. Split/Extract Features\n",
    "- Drop original features"
   ]
  },
  {
   "cell_type": "code",
   "execution_count": 3,
   "metadata": {},
   "outputs": [
    {
     "name": "stdout",
     "output_type": "stream",
     "text": [
      "Extract features: id_30\n",
      "CPU times: user 365 ms, sys: 0 ns, total: 365 ms\n",
      "Wall time: 364 ms\n",
      "Extract features: id_30\n",
      "CPU times: user 310 ms, sys: 0 ns, total: 310 ms\n",
      "Wall time: 309 ms\n",
      "Extract features: id_31\n",
      "CPU times: user 17 s, sys: 19.8 ms, total: 17.1 s\n",
      "Wall time: 17 s\n",
      "Extract features: id_31\n",
      "CPU times: user 17 s, sys: 12 ms, total: 17 s\n",
      "Wall time: 17 s\n",
      "Extract features: id_31\n",
      "CPU times: user 17 s, sys: 20 ms, total: 17 s\n",
      "Wall time: 17 s\n",
      "Extract features: id_33\n",
      "CPU times: user 57.5 ms, sys: 3.99 ms, total: 61.5 ms\n",
      "Wall time: 61.5 ms\n",
      "Extract features: id_33\n",
      "CPU times: user 62.1 ms, sys: 0 ns, total: 62.1 ms\n",
      "Wall time: 62.1 ms\n",
      "Extract features: DeviceInfo\n",
      "CPU times: user 3.23 s, sys: 0 ns, total: 3.23 s\n",
      "Wall time: 3.23 s\n"
     ]
    }
   ],
   "source": [
    "import re\n",
    "\n",
    "def get_os(info):\n",
    "    version = get_os_version(info)\n",
    "    \n",
    "    if version is np.nan or version is None:\n",
    "        return info\n",
    "    \n",
    "    return info.strip(version).strip()\n",
    "\n",
    "\n",
    "def get_os_version(info):\n",
    "    \n",
    "    results = re.findall('\\d+\\.\\d\\.*\\d*', info)\n",
    "    if len(results) > 0:\n",
    "        return results[0]\n",
    "    \n",
    "    results = re.findall('\\d+\\_\\d+\\_*\\d*', info)\n",
    "    if len(results) > 0:\n",
    "        return results[0]\n",
    "    \n",
    "    results = re.findall('\\d+', info)\n",
    "    if len(results) > 0:\n",
    "        return results[0]\n",
    "    \n",
    "    return np.nan\n",
    "\n",
    "\n",
    "def split_browser_info(info):\n",
    "    \n",
    "    if info is np.nan:\n",
    "        return pd.Series([np.nan, np.nan, np.nan])\n",
    "    \n",
    "    known_developers = ['android browser',\n",
    "                       'chrome',\n",
    "                       'edge',\n",
    "                        'firefox',\n",
    "                        'google search application',\n",
    "                        'google',\n",
    "                        'Generic/Android',\n",
    "                       'ie',\n",
    "                        'line',\n",
    "                        'Microsoft',\n",
    "                        'opera',\n",
    "                        'samsung',\n",
    "                       'safari',\n",
    "                        'ZTE/Blade',\n",
    "                       'other']\n",
    "    \n",
    "    developer = np.nan\n",
    "    version = np.nan\n",
    "    \n",
    "    # Grep version\n",
    "    results = re.findall('\\d+\\.\\d+', info)\n",
    "    if len(results) > 0:\n",
    "        str_version = results[0]\n",
    "        version = float(str_version)\n",
    "        info = info.replace(str_version, '')\n",
    "        \n",
    "    # Grep Developer\n",
    "    for d in known_developers:\n",
    "        if d in info:\n",
    "            developer = d\n",
    "            info = info.replace(d, '')\n",
    "    \n",
    "    # Remove 'for'\n",
    "    if 'for' in info:\n",
    "        info = info.replace('for', '')\n",
    "    \n",
    "    # remove consecutive whitespaces and keep only 1 whitespace.\n",
    "    info = ' '.join(info.split())\n",
    "    if len(info.strip()) == 0:\n",
    "        info = np.nan\n",
    "    \n",
    "    if developer is np.nan:\n",
    "        developer = info\n",
    "        info = np.nan\n",
    "        \n",
    "    return pd.Series([developer, version, info])\n",
    "\n",
    "\n",
    "def get_manufacture(device_info, return_nan=True):\n",
    "    \n",
    "    if device_info is None:\n",
    "        return device_info\n",
    "    \n",
    "    starts_dict = {'0P': 'HTC',\n",
    "                   '2P': 'HTC',\n",
    "                   '40': 'ALCATEL',\n",
    "                   '50': 'ALCATEL',\n",
    "                   '60': 'ALCATEL',\n",
    "                   '70': 'ALCATEL',\n",
    "                   '80': 'ALCATEL',\n",
    "                   '90': 'ALCATEL',\n",
    "                   'Android': 'os-Android', #############\n",
    "                   'ASUS': 'ASUS',\n",
    "                   'Aquaris': 'Aquaris',\n",
    "                   'ALCATEL': 'ALCATEL',\n",
    "                   'AX': 'Bmobile', # Mexico\n",
    "                   'B1-': 'Acer',\n",
    "                   'B3-': 'Acer',\n",
    "                   'BB': 'BlackBerry',\n",
    "                   'BLADE': 'ZTE',\n",
    "                   'BLN': 'HUAWEI',\n",
    "                   'BLU': 'BLU', # American\n",
    "                   'BND': 'HUAWEI',\n",
    "                   'Build/': 'factory-image', ###############\n",
    "                   'BV': 'Blackview',\n",
    "                   'C1': 'sony',\n",
    "                   'C2': 'sony',\n",
    "                   'C6': 'sony',\n",
    "                   'D2': 'sony',\n",
    "                   'D5': 'sony',\n",
    "                   'D6': 'sony',\n",
    "                   'E2': 'sony',\n",
    "                   'E501': 'Hyundai',\n",
    "                   'E53': 'sony',\n",
    "                   'E55': 'sony',\n",
    "                   'E56': 'sony',\n",
    "                   'E58': 'sony',\n",
    "                   'E6': 'sony',\n",
    "                   'E8': 'sony',\n",
    "                   'en-': 'encoding',  ####################\n",
    "                   'es-': 'encoding',  ####################\n",
    "                   'F3': 'sony',\n",
    "                   'F5': 'sony',\n",
    "                   'F80': 'F2-mobile',\n",
    "                   'F81': 'sony',\n",
    "                   'F83': 'sony',\n",
    "                   'H1': 'sony',\n",
    "                   'H3': 'sony',\n",
    "                   'H5': 'sony',\n",
    "                   'IdeaTab': 'Lenovo',\n",
    "                   'G255': 'Hyundai',\n",
    "                   'G527': 'HUAWEI',\n",
    "                   'G620': 'HUAWEI',\n",
    "                   'G630': 'HUAWEI',\n",
    "                   'G814': 'sony',\n",
    "                   'G8341': 'sony',\n",
    "                   'G3': 'sony',\n",
    "                   'GT-': 'samsung',\n",
    "                   'HTC': 'HTC',\n",
    "                   'HUAWEI': 'HUAWEI',\n",
    "                   'Hisense': 'Hisense',\n",
    "                   'Ilium': 'Lanix', # Italian Company\n",
    "                   'iOS': 'os-ios', ###################\n",
    "                   'iPhone': 'iPhone', #######################\n",
    "                   'iris': 'Lava',\n",
    "                   'K1': 'koobee',\n",
    "                   'K8': 'koobee',\n",
    "                   'K9': 'koobee',\n",
    "                   'Linux': 'os-linux', ######################\n",
    "                   'KF': 'Amazon',  # Kindle Fire\n",
    "                   'Lenovo': 'Lenovo',\n",
    "                   'LG': 'LG',\n",
    "                   'M431': 'Morphe',\n",
    "                   'M4': 'M4',\n",
    "                   'MacOS': 'MacOS',\n",
    "                   'Mi ': 'xiaomi',\n",
    "                   'Microsoft': 'Microsoft',  #############\n",
    "                   'Moto': 'Moto',\n",
    "                   'Nexus': 'google',\n",
    "                   'ONE': 'ONEPLUS',\n",
    "                   'P0': 'Asus',\n",
    "                   'P4': 'Polaroid',\n",
    "                   'P5': 'Polaroid',\n",
    "                   'Pixel': 'google',\n",
    "                   'Q': 'verizon',\n",
    "                   'Redmi': 'xiaomi',\n",
    "                   'RCT': 'RCA',\n",
    "                   'rv:': 'firefox user-agent', ######################\n",
    "                   'SAMSUNG': 'samsung',\n",
    "                   'SCH-': 'samsung',\n",
    "                   'SGH-': 'samsung',\n",
    "                   'SGP': 'sony',\n",
    "                   'SLA': 'HUAWEI',\n",
    "                   'SPH-': 'samsung',\n",
    "                   'SM-': 'samsung',\n",
    "                   'STV100': 'BlackBerry',\n",
    "                   'TA-': 'karbonn',\n",
    "                   'verykool': 'verykool',\n",
    "                   'VK': 'LG',\n",
    "                   'VS': 'LG',\n",
    "                   'Win': 'Windows',\n",
    "                   'XT1': 'Motorola',\n",
    "                   'Z410': 'Acer',\n",
    "                   'Z5': 'ZTE',\n",
    "                   'Z7': 'ZTE',\n",
    "                   'Z8': 'ZTE',\n",
    "                   'Z9 PLUS': 'QMobile',\n",
    "                   'Z95': 'ZTE',\n",
    "                   'Z96': 'ZTE',\n",
    "                   'Z97': 'ZTE',\n",
    "                   'Z98': 'ZTE',\n",
    "                   'ZA': 'Zonda',\n",
    "                   'ZTE': 'ZTE'}\n",
    "    \n",
    "    substring_dict = {'HUAWEI': 'HUAWEI',\n",
    "                     'Build': 'substring-build'\n",
    "                     }\n",
    "    \n",
    "    for prefix, manufacture in starts_dict.items():\n",
    "        if device_info.lower().startswith(prefix.lower()):\n",
    "            return manufacture\n",
    "        \n",
    "        \n",
    "    for substring, manufacture in substring_dict.items():\n",
    "        if substring.lower() in device_info.lower():\n",
    "            return manufacture\n",
    "\n",
    "    if return_nan:\n",
    "        return\n",
    "    else:\n",
    "        return device_info\n",
    "    \n",
    "    \n",
    "def insert_feature(feature_org, feature_new, extractor, df):\n",
    "    \"\"\"\n",
    "    Args:\n",
    "        feature_new (string):\n",
    "        feature_org (string):\n",
    "        df (pandas.DataFrame):\n",
    "    \"\"\"\n",
    "    \n",
    "    \n",
    "\n",
    "\n",
    "extractors = [\n",
    "              ['id_30', 'id_30_os', get_os],\n",
    "              ['id_30', 'id_30_os_version', get_os_version],\n",
    "              ['id_31', 'id_31_developer', lambda x: split_browser_info(x)[0]],\n",
    "              ['id_31', 'id_31_version', lambda x: split_browser_info(x)[1]],\n",
    "              ['id_31', 'id_31_annotation', lambda x: split_browser_info(x)[2]],\n",
    "              ['id_33', 'id_33_width', lambda s: float(s.split('x')[0])],\n",
    "              ['id_33', 'id_33_height', lambda s: float(s.split('x')[1])],\n",
    "              ['DeviceInfo', 'DeviceInfo_map', lambda x: get_manufacture(x, return_nan=False)]\n",
    "             ]\n",
    "\n",
    "def insert_features(extractors, df):\n",
    "    \"\"\"\n",
    "    Extract features of id_30, id_31, id_33, id_34.\n",
    "    \"\"\"\n",
    "    feature_list = []\n",
    "    \n",
    "    for feature_org, feature_new, extractor in extractors:\n",
    "        print('Extract features: {}'.format(feature_org))\n",
    "        \n",
    "        feature_list.append(feature_org)\n",
    "        \n",
    "        # get index of original feature\n",
    "        index_feature_org = df.columns.get_loc(feature_org)\n",
    "\n",
    "        # insert feature\n",
    "        %time df.insert(index_feature_org+1, \\\n",
    "                    feature_new, \\\n",
    "                     df[feature_org].map(extractor, na_action='ignore'))\n",
    "    \n",
    "    \n",
    "    return feature_list\n",
    "\n",
    "\n",
    "feature_list = insert_features(extractors, train_identity)"
   ]
  },
  {
   "cell_type": "code",
   "execution_count": 4,
   "metadata": {},
   "outputs": [
    {
     "name": "stdout",
     "output_type": "stream",
     "text": [
      "DeviceInfo        object\n",
      "DeviceInfo_map    object\n",
      "dtype: object\n"
     ]
    },
    {
     "data": {
      "text/html": [
       "<div>\n",
       "<style scoped>\n",
       "    .dataframe tbody tr th:only-of-type {\n",
       "        vertical-align: middle;\n",
       "    }\n",
       "\n",
       "    .dataframe tbody tr th {\n",
       "        vertical-align: top;\n",
       "    }\n",
       "\n",
       "    .dataframe thead th {\n",
       "        text-align: right;\n",
       "    }\n",
       "</style>\n",
       "<table border=\"1\" class=\"dataframe\">\n",
       "  <thead>\n",
       "    <tr style=\"text-align: right;\">\n",
       "      <th></th>\n",
       "      <th>DeviceInfo</th>\n",
       "      <th>DeviceInfo_map</th>\n",
       "    </tr>\n",
       "  </thead>\n",
       "  <tbody>\n",
       "    <tr>\n",
       "      <th>0</th>\n",
       "      <td>SAMSUNG SM-G892A Build/NRD90M</td>\n",
       "      <td>samsung</td>\n",
       "    </tr>\n",
       "    <tr>\n",
       "      <th>1</th>\n",
       "      <td>iOS Device</td>\n",
       "      <td>os-ios</td>\n",
       "    </tr>\n",
       "    <tr>\n",
       "      <th>2</th>\n",
       "      <td>Windows</td>\n",
       "      <td>Windows</td>\n",
       "    </tr>\n",
       "    <tr>\n",
       "      <th>3</th>\n",
       "      <td>NaN</td>\n",
       "      <td>NaN</td>\n",
       "    </tr>\n",
       "    <tr>\n",
       "      <th>4</th>\n",
       "      <td>MacOS</td>\n",
       "      <td>MacOS</td>\n",
       "    </tr>\n",
       "  </tbody>\n",
       "</table>\n",
       "</div>"
      ],
      "text/plain": [
       "                      DeviceInfo DeviceInfo_map\n",
       "0  SAMSUNG SM-G892A Build/NRD90M        samsung\n",
       "1                     iOS Device         os-ios\n",
       "2                        Windows        Windows\n",
       "3                            NaN            NaN\n",
       "4                          MacOS          MacOS"
      ]
     },
     "execution_count": 4,
     "metadata": {},
     "output_type": "execute_result"
    }
   ],
   "source": [
    "feature = 'DeviceInfo'\n",
    "index_col = train_identity.columns.get_loc(feature)\n",
    "print(train_identity.dtypes[index_col: index_col+4])\n",
    "train_identity.iloc[:5, index_col: index_col+4]"
   ]
  },
  {
   "cell_type": "markdown",
   "metadata": {},
   "source": [
    "# Drop Original Features"
   ]
  },
  {
   "cell_type": "code",
   "execution_count": 5,
   "metadata": {},
   "outputs": [
    {
     "data": {
      "text/plain": [
       "['id_30', 'id_30', 'id_31', 'id_31', 'id_31', 'id_33', 'id_33', 'DeviceInfo']"
      ]
     },
     "execution_count": 5,
     "metadata": {},
     "output_type": "execute_result"
    }
   ],
   "source": [
    "feature_list"
   ]
  },
  {
   "cell_type": "code",
   "execution_count": 6,
   "metadata": {},
   "outputs": [],
   "source": [
    "\n",
    "# def drop_features(feature_list, df):\n",
    "#     df = df.drop(columns=feature_list)\n",
    "    \n",
    "    \n",
    "# drop_features(feature_list, train_identity)\n",
    "\n",
    "train_identity = train_identity.drop(columns=feature_list)"
   ]
  },
  {
   "cell_type": "code",
   "execution_count": 7,
   "metadata": {},
   "outputs": [
    {
     "data": {
      "text/plain": [
       "Index(['TransactionID', 'id_01', 'id_02', 'id_03', 'id_04', 'id_05', 'id_06',\n",
       "       'id_07', 'id_08', 'id_09', 'id_10', 'id_11', 'id_12', 'id_13', 'id_14',\n",
       "       'id_15', 'id_16', 'id_17', 'id_18', 'id_19', 'id_20', 'id_21', 'id_22',\n",
       "       'id_23', 'id_24', 'id_25', 'id_26', 'id_27', 'id_28', 'id_29',\n",
       "       'id_30_os_version', 'id_30_os', 'id_31_annotation', 'id_31_version',\n",
       "       'id_31_developer', 'id_32', 'id_33_height', 'id_33_width', 'id_34',\n",
       "       'id_35', 'id_36', 'id_37', 'id_38', 'DeviceType', 'DeviceInfo_map'],\n",
       "      dtype='object')"
      ]
     },
     "execution_count": 7,
     "metadata": {},
     "output_type": "execute_result"
    }
   ],
   "source": [
    "train_identity.columns"
   ]
  },
  {
   "cell_type": "markdown",
   "metadata": {},
   "source": [
    "# Encode Labels\n",
    "- Encode All Features with Object Type"
   ]
  },
  {
   "cell_type": "code",
   "execution_count": 8,
   "metadata": {},
   "outputs": [
    {
     "name": "stdout",
     "output_type": "stream",
     "text": [
      "['id_12', 'id_15', 'id_16', 'id_23', 'id_27', 'id_28', 'id_29', 'id_30_os_version', 'id_30_os', 'id_31_annotation', 'id_31_developer', 'id_34', 'id_35', 'id_36', 'id_37', 'id_38', 'DeviceType', 'DeviceInfo_map']\n"
     ]
    }
   ],
   "source": [
    "def get_string_features(df):\n",
    "    \"\"\"\n",
    "    Get features with numpy.dtype of 'object'\n",
    "    \"\"\"\n",
    "    string_features = []\n",
    "    for feature in df.columns:\n",
    "        if df[feature].dtype == np.dtype('object'):\n",
    "            string_features.append(feature)\n",
    "            \n",
    "    return string_features\n",
    "\n",
    "    \n",
    "string_features = get_string_features(train_identity)\n",
    "\n",
    "print(string_features)\n"
   ]
  },
  {
   "cell_type": "code",
   "execution_count": 9,
   "metadata": {},
   "outputs": [
    {
     "name": "stderr",
     "output_type": "stream",
     "text": [
      "\r",
      "  0%|          | 0/18 [00:00<?, ?it/s]"
     ]
    },
    {
     "name": "stdout",
     "output_type": "stream",
     "text": [
      "Encode id_12\n"
     ]
    },
    {
     "name": "stderr",
     "output_type": "stream",
     "text": [
      "\r",
      "  6%|▌         | 1/18 [00:08<02:23,  8.42s/it]"
     ]
    },
    {
     "name": "stdout",
     "output_type": "stream",
     "text": [
      "Encode id_15\n"
     ]
    },
    {
     "name": "stderr",
     "output_type": "stream",
     "text": [
      "\r",
      " 11%|█         | 2/18 [00:17<02:16,  8.52s/it]"
     ]
    },
    {
     "name": "stdout",
     "output_type": "stream",
     "text": [
      "Encode id_16\n"
     ]
    },
    {
     "name": "stderr",
     "output_type": "stream",
     "text": [
      "\r",
      " 17%|█▋        | 3/18 [00:24<02:03,  8.24s/it]"
     ]
    },
    {
     "name": "stdout",
     "output_type": "stream",
     "text": [
      "Encode id_23\n"
     ]
    },
    {
     "name": "stderr",
     "output_type": "stream",
     "text": [
      "\r",
      " 22%|██▏       | 4/18 [00:25<01:22,  5.87s/it]"
     ]
    },
    {
     "name": "stdout",
     "output_type": "stream",
     "text": [
      "Encode id_27\n"
     ]
    },
    {
     "name": "stderr",
     "output_type": "stream",
     "text": [
      "\r",
      " 28%|██▊       | 5/18 [00:25<00:54,  4.21s/it]"
     ]
    },
    {
     "name": "stdout",
     "output_type": "stream",
     "text": [
      "Encode id_28\n"
     ]
    },
    {
     "name": "stderr",
     "output_type": "stream",
     "text": [
      "\r",
      " 33%|███▎      | 6/18 [00:33<01:05,  5.44s/it]"
     ]
    },
    {
     "name": "stdout",
     "output_type": "stream",
     "text": [
      "Encode id_29\n"
     ]
    },
    {
     "name": "stderr",
     "output_type": "stream",
     "text": [
      "\r",
      " 39%|███▉      | 7/18 [00:42<01:09,  6.30s/it]"
     ]
    },
    {
     "name": "stdout",
     "output_type": "stream",
     "text": [
      "Encode id_30_os_version\n"
     ]
    },
    {
     "name": "stderr",
     "output_type": "stream",
     "text": [
      "\r",
      " 44%|████▍     | 8/18 [01:01<01:43, 10.32s/it]"
     ]
    },
    {
     "name": "stdout",
     "output_type": "stream",
     "text": [
      "Encode id_30_os\n"
     ]
    },
    {
     "name": "stderr",
     "output_type": "stream",
     "text": [
      "\r",
      " 50%|█████     | 9/18 [01:08<01:23,  9.23s/it]"
     ]
    },
    {
     "name": "stdout",
     "output_type": "stream",
     "text": [
      "Encode id_31_annotation\n"
     ]
    },
    {
     "name": "stderr",
     "output_type": "stream",
     "text": [
      "\r",
      " 56%|█████▌    | 10/18 [01:15<01:08,  8.62s/it]"
     ]
    },
    {
     "name": "stdout",
     "output_type": "stream",
     "text": [
      "Encode id_31_developer\n"
     ]
    },
    {
     "name": "stderr",
     "output_type": "stream",
     "text": [
      "\r",
      " 61%|██████    | 11/18 [01:41<01:36, 13.78s/it]"
     ]
    },
    {
     "name": "stdout",
     "output_type": "stream",
     "text": [
      "Encode id_34\n"
     ]
    },
    {
     "name": "stderr",
     "output_type": "stream",
     "text": [
      "\r",
      " 67%|██████▋   | 12/18 [01:46<01:07, 11.18s/it]"
     ]
    },
    {
     "name": "stdout",
     "output_type": "stream",
     "text": [
      "Encode id_35\n"
     ]
    },
    {
     "name": "stderr",
     "output_type": "stream",
     "text": [
      "\r",
      " 72%|███████▏  | 13/18 [01:54<00:51, 10.27s/it]"
     ]
    },
    {
     "name": "stdout",
     "output_type": "stream",
     "text": [
      "Encode id_36\n"
     ]
    },
    {
     "name": "stderr",
     "output_type": "stream",
     "text": [
      "\r",
      " 78%|███████▊  | 14/18 [02:02<00:38,  9.64s/it]"
     ]
    },
    {
     "name": "stdout",
     "output_type": "stream",
     "text": [
      "Encode id_37\n"
     ]
    },
    {
     "name": "stderr",
     "output_type": "stream",
     "text": [
      "\r",
      " 83%|████████▎ | 15/18 [02:10<00:27,  9.18s/it]"
     ]
    },
    {
     "name": "stdout",
     "output_type": "stream",
     "text": [
      "Encode id_38\n"
     ]
    },
    {
     "name": "stderr",
     "output_type": "stream",
     "text": [
      "\r",
      " 89%|████████▉ | 16/18 [02:19<00:17,  8.86s/it]"
     ]
    },
    {
     "name": "stdout",
     "output_type": "stream",
     "text": [
      "Encode DeviceType\n"
     ]
    },
    {
     "name": "stderr",
     "output_type": "stream",
     "text": [
      "\r",
      " 94%|█████████▍| 17/18 [02:27<00:08,  8.67s/it]"
     ]
    },
    {
     "name": "stdout",
     "output_type": "stream",
     "text": [
      "Encode DeviceInfo_map\n"
     ]
    },
    {
     "name": "stderr",
     "output_type": "stream",
     "text": [
      "\r",
      "100%|██████████| 18/18 [04:02<00:00, 34.68s/it]"
     ]
    },
    {
     "name": "stdout",
     "output_type": "stream",
     "text": [
      "CPU times: user 4min 2s, sys: 75.9 ms, total: 4min 2s\n",
      "Wall time: 4min 2s\n"
     ]
    },
    {
     "name": "stderr",
     "output_type": "stream",
     "text": [
      "\n"
     ]
    }
   ],
   "source": [
    "def transform_label(label, encoder):\n",
    "    if label in encoder.classes_:\n",
    "        return encoder.transform([label])[0]\n",
    "    else:\n",
    "        return -1\n",
    "    \n",
    "\n",
    "def encode_features(string_features, df, encoder_dict=None):\n",
    "    \"\"\"\n",
    "    Encode features and insert back to datafame.\n",
    "    \"\"\"\n",
    "    if encoder_dict is None:\n",
    "        encoder_dict = {}\n",
    "        create_encoders = True\n",
    "    else:\n",
    "        create_encoders = False\n",
    "        \n",
    "    \n",
    "    for feature in tqdm(string_features):\n",
    "        print('Encode {}'.format(feature))\n",
    "        # Get index for inserting encoded feature\n",
    "        index_col = df.columns.get_loc(feature)\n",
    "           \n",
    "        if create_encoders:\n",
    "            # Encode Feature and insert\n",
    "            encoder = preprocessing.LabelEncoder()\n",
    "            encoder.fit(df[feature].dropna().unique())\n",
    "            \n",
    "            # add encoder to dictionary\n",
    "            encoder_dict[feature] = encoder\n",
    "        else:\n",
    "            encoder = encoder_dict[feature]\n",
    "            \n",
    "        \n",
    "        # Transform\n",
    "        df.insert(index_col+1,\n",
    "                 '{}_encoded'.format(feature),\n",
    "                  df[feature].map(lambda x: transform_label(x, encoder),\n",
    "                                                  na_action='ignore'))\n",
    "        \n",
    "        \n",
    "    return encoder_dict\n",
    "        \n",
    "\n",
    "%time encoder_dict = encode_features(string_features, train_identity)\n",
    "# encoder_dict = encode_features(['id_15'], train_identity)"
   ]
  },
  {
   "cell_type": "code",
   "execution_count": 10,
   "metadata": {},
   "outputs": [
    {
     "data": {
      "text/html": [
       "<div>\n",
       "<style scoped>\n",
       "    .dataframe tbody tr th:only-of-type {\n",
       "        vertical-align: middle;\n",
       "    }\n",
       "\n",
       "    .dataframe tbody tr th {\n",
       "        vertical-align: top;\n",
       "    }\n",
       "\n",
       "    .dataframe thead th {\n",
       "        text-align: right;\n",
       "    }\n",
       "</style>\n",
       "<table border=\"1\" class=\"dataframe\">\n",
       "  <thead>\n",
       "    <tr style=\"text-align: right;\">\n",
       "      <th></th>\n",
       "      <th>id_15</th>\n",
       "      <th>id_15_encoded</th>\n",
       "      <th>id_16</th>\n",
       "      <th>id_16_encoded</th>\n",
       "    </tr>\n",
       "  </thead>\n",
       "  <tbody>\n",
       "    <tr>\n",
       "      <th>0</th>\n",
       "      <td>New</td>\n",
       "      <td>1.0</td>\n",
       "      <td>NotFound</td>\n",
       "      <td>1.0</td>\n",
       "    </tr>\n",
       "    <tr>\n",
       "      <th>1</th>\n",
       "      <td>New</td>\n",
       "      <td>1.0</td>\n",
       "      <td>NotFound</td>\n",
       "      <td>1.0</td>\n",
       "    </tr>\n",
       "    <tr>\n",
       "      <th>2</th>\n",
       "      <td>Found</td>\n",
       "      <td>0.0</td>\n",
       "      <td>Found</td>\n",
       "      <td>0.0</td>\n",
       "    </tr>\n",
       "    <tr>\n",
       "      <th>3</th>\n",
       "      <td>New</td>\n",
       "      <td>1.0</td>\n",
       "      <td>NotFound</td>\n",
       "      <td>1.0</td>\n",
       "    </tr>\n",
       "    <tr>\n",
       "      <th>4</th>\n",
       "      <td>Found</td>\n",
       "      <td>0.0</td>\n",
       "      <td>Found</td>\n",
       "      <td>0.0</td>\n",
       "    </tr>\n",
       "    <tr>\n",
       "      <th>5</th>\n",
       "      <td>Found</td>\n",
       "      <td>0.0</td>\n",
       "      <td>Found</td>\n",
       "      <td>0.0</td>\n",
       "    </tr>\n",
       "    <tr>\n",
       "      <th>6</th>\n",
       "      <td>NaN</td>\n",
       "      <td>NaN</td>\n",
       "      <td>NaN</td>\n",
       "      <td>NaN</td>\n",
       "    </tr>\n",
       "    <tr>\n",
       "      <th>7</th>\n",
       "      <td>Found</td>\n",
       "      <td>0.0</td>\n",
       "      <td>Found</td>\n",
       "      <td>0.0</td>\n",
       "    </tr>\n",
       "    <tr>\n",
       "      <th>8</th>\n",
       "      <td>Found</td>\n",
       "      <td>0.0</td>\n",
       "      <td>Found</td>\n",
       "      <td>0.0</td>\n",
       "    </tr>\n",
       "    <tr>\n",
       "      <th>9</th>\n",
       "      <td>New</td>\n",
       "      <td>1.0</td>\n",
       "      <td>NotFound</td>\n",
       "      <td>1.0</td>\n",
       "    </tr>\n",
       "  </tbody>\n",
       "</table>\n",
       "</div>"
      ],
      "text/plain": [
       "   id_15  id_15_encoded     id_16  id_16_encoded\n",
       "0    New            1.0  NotFound            1.0\n",
       "1    New            1.0  NotFound            1.0\n",
       "2  Found            0.0     Found            0.0\n",
       "3    New            1.0  NotFound            1.0\n",
       "4  Found            0.0     Found            0.0\n",
       "5  Found            0.0     Found            0.0\n",
       "6    NaN            NaN       NaN            NaN\n",
       "7  Found            0.0     Found            0.0\n",
       "8  Found            0.0     Found            0.0\n",
       "9    New            1.0  NotFound            1.0"
      ]
     },
     "execution_count": 10,
     "metadata": {},
     "output_type": "execute_result"
    }
   ],
   "source": [
    "feature = 'id_15'\n",
    "index = train_identity.columns.get_loc(feature)\n",
    "train_identity.iloc[:10, index: index+4]"
   ]
  },
  {
   "cell_type": "code",
   "execution_count": null,
   "metadata": {},
   "outputs": [],
   "source": []
  },
  {
   "cell_type": "markdown",
   "metadata": {},
   "source": [
    "# Drop Original Features"
   ]
  },
  {
   "cell_type": "code",
   "execution_count": 11,
   "metadata": {},
   "outputs": [
    {
     "data": {
      "text/plain": [
       "['id_12',\n",
       " 'id_15',\n",
       " 'id_16',\n",
       " 'id_23',\n",
       " 'id_27',\n",
       " 'id_28',\n",
       " 'id_29',\n",
       " 'id_30_os_version',\n",
       " 'id_30_os',\n",
       " 'id_31_annotation',\n",
       " 'id_31_developer',\n",
       " 'id_34',\n",
       " 'id_35',\n",
       " 'id_36',\n",
       " 'id_37',\n",
       " 'id_38',\n",
       " 'DeviceType',\n",
       " 'DeviceInfo_map']"
      ]
     },
     "execution_count": 11,
     "metadata": {},
     "output_type": "execute_result"
    }
   ],
   "source": [
    "string_features"
   ]
  },
  {
   "cell_type": "code",
   "execution_count": 12,
   "metadata": {},
   "outputs": [],
   "source": [
    "train_identity = train_identity.drop(columns=string_features)"
   ]
  },
  {
   "cell_type": "code",
   "execution_count": 13,
   "metadata": {},
   "outputs": [
    {
     "data": {
      "text/plain": [
       "Index(['TransactionID', 'id_01', 'id_02', 'id_03', 'id_04', 'id_05', 'id_06',\n",
       "       'id_07', 'id_08', 'id_09', 'id_10', 'id_11', 'id_12_encoded', 'id_13',\n",
       "       'id_14', 'id_15_encoded', 'id_16_encoded', 'id_17', 'id_18', 'id_19',\n",
       "       'id_20', 'id_21', 'id_22', 'id_23_encoded', 'id_24', 'id_25', 'id_26',\n",
       "       'id_27_encoded', 'id_28_encoded', 'id_29_encoded',\n",
       "       'id_30_os_version_encoded', 'id_30_os_encoded',\n",
       "       'id_31_annotation_encoded', 'id_31_version', 'id_31_developer_encoded',\n",
       "       'id_32', 'id_33_height', 'id_33_width', 'id_34_encoded',\n",
       "       'id_35_encoded', 'id_36_encoded', 'id_37_encoded', 'id_38_encoded',\n",
       "       'DeviceType_encoded', 'DeviceInfo_map_encoded'],\n",
       "      dtype='object')"
      ]
     },
     "execution_count": 13,
     "metadata": {},
     "output_type": "execute_result"
    }
   ],
   "source": [
    "train_identity.columns"
   ]
  },
  {
   "cell_type": "markdown",
   "metadata": {},
   "source": [
    "# Save Encoder"
   ]
  },
  {
   "cell_type": "code",
   "execution_count": 14,
   "metadata": {},
   "outputs": [],
   "source": [
    "import pickle"
   ]
  },
  {
   "cell_type": "code",
   "execution_count": 15,
   "metadata": {},
   "outputs": [],
   "source": [
    "filename_encoder = './models/encoder_identity.pkl'\n",
    "\n",
    "with open(filename_encoder, 'wb') as f:\n",
    "    pickle.dump(encoder_dict, f)"
   ]
  },
  {
   "cell_type": "markdown",
   "metadata": {},
   "source": [
    "# Load Encoder"
   ]
  },
  {
   "cell_type": "code",
   "execution_count": 18,
   "metadata": {},
   "outputs": [],
   "source": [
    "with open(filename_encoder, 'rb') as f:\n",
    "    encoder_dict = pickle.load(f)"
   ]
  },
  {
   "cell_type": "markdown",
   "metadata": {},
   "source": [
    "# Read Dataset: test_identity.csv"
   ]
  },
  {
   "cell_type": "code",
   "execution_count": 19,
   "metadata": {},
   "outputs": [],
   "source": [
    "test_identity = pd.read_csv('./datasets/test_identity.csv')"
   ]
  },
  {
   "cell_type": "markdown",
   "metadata": {},
   "source": [
    "### Extract Features and Insert Back"
   ]
  },
  {
   "cell_type": "code",
   "execution_count": 20,
   "metadata": {},
   "outputs": [
    {
     "name": "stdout",
     "output_type": "stream",
     "text": [
      "Extract features: id_30\n",
      "CPU times: user 332 ms, sys: 4 ms, total: 336 ms\n",
      "Wall time: 338 ms\n",
      "Extract features: id_30\n",
      "CPU times: user 282 ms, sys: 0 ns, total: 282 ms\n",
      "Wall time: 281 ms\n",
      "Extract features: id_31\n",
      "CPU times: user 16.7 s, sys: 12 ms, total: 16.7 s\n",
      "Wall time: 16.7 s\n",
      "Extract features: id_31\n",
      "CPU times: user 16.7 s, sys: 22.7 ms, total: 16.7 s\n",
      "Wall time: 16.7 s\n",
      "Extract features: id_31\n",
      "CPU times: user 16.6 s, sys: 16 ms, total: 16.6 s\n",
      "Wall time: 16.6 s\n",
      "Extract features: id_33\n",
      "CPU times: user 60 ms, sys: 0 ns, total: 60 ms\n",
      "Wall time: 60 ms\n",
      "Extract features: id_33\n",
      "CPU times: user 59.7 ms, sys: 0 ns, total: 59.7 ms\n",
      "Wall time: 59.7 ms\n",
      "Extract features: DeviceInfo\n",
      "CPU times: user 3.12 s, sys: 0 ns, total: 3.12 s\n",
      "Wall time: 3.12 s\n"
     ]
    }
   ],
   "source": [
    "feature_list = insert_features(extractors, test_identity)"
   ]
  },
  {
   "cell_type": "markdown",
   "metadata": {},
   "source": [
    "### Drop Features"
   ]
  },
  {
   "cell_type": "code",
   "execution_count": 21,
   "metadata": {},
   "outputs": [],
   "source": [
    "test_identity = test_identity.drop(columns=feature_list)"
   ]
  },
  {
   "cell_type": "markdown",
   "metadata": {},
   "source": [
    "### Encode Identity Features"
   ]
  },
  {
   "cell_type": "code",
   "execution_count": 22,
   "metadata": {},
   "outputs": [
    {
     "name": "stderr",
     "output_type": "stream",
     "text": [
      "\r",
      "  0%|          | 0/18 [00:00<?, ?it/s]"
     ]
    },
    {
     "name": "stdout",
     "output_type": "stream",
     "text": [
      "Encode id_12\n"
     ]
    },
    {
     "name": "stderr",
     "output_type": "stream",
     "text": [
      "\r",
      "  6%|▌         | 1/18 [00:08<02:20,  8.28s/it]"
     ]
    },
    {
     "name": "stdout",
     "output_type": "stream",
     "text": [
      "Encode id_15\n"
     ]
    },
    {
     "name": "stderr",
     "output_type": "stream",
     "text": [
      "\r",
      " 11%|█         | 2/18 [00:16<02:13,  8.32s/it]"
     ]
    },
    {
     "name": "stdout",
     "output_type": "stream",
     "text": [
      "Encode id_16\n"
     ]
    },
    {
     "name": "stderr",
     "output_type": "stream",
     "text": [
      "\r",
      " 17%|█▋        | 3/18 [00:24<02:00,  8.03s/it]"
     ]
    },
    {
     "name": "stdout",
     "output_type": "stream",
     "text": [
      "Encode id_23\n"
     ]
    },
    {
     "name": "stderr",
     "output_type": "stream",
     "text": [
      "\r",
      " 22%|██▏       | 4/18 [00:24<01:20,  5.72s/it]"
     ]
    },
    {
     "name": "stdout",
     "output_type": "stream",
     "text": [
      "Encode id_27\n"
     ]
    },
    {
     "name": "stderr",
     "output_type": "stream",
     "text": [
      "\r",
      " 28%|██▊       | 5/18 [00:24<00:53,  4.10s/it]"
     ]
    },
    {
     "name": "stdout",
     "output_type": "stream",
     "text": [
      "Encode id_28\n"
     ]
    },
    {
     "name": "stderr",
     "output_type": "stream",
     "text": [
      "\r",
      " 33%|███▎      | 6/18 [00:32<01:03,  5.26s/it]"
     ]
    },
    {
     "name": "stdout",
     "output_type": "stream",
     "text": [
      "Encode id_29\n"
     ]
    },
    {
     "name": "stderr",
     "output_type": "stream",
     "text": [
      "\r",
      " 39%|███▉      | 7/18 [00:40<01:06,  6.07s/it]"
     ]
    },
    {
     "name": "stdout",
     "output_type": "stream",
     "text": [
      "Encode id_30_os_version\n"
     ]
    },
    {
     "name": "stderr",
     "output_type": "stream",
     "text": [
      "\r",
      " 44%|████▍     | 8/18 [00:54<01:23,  8.36s/it]"
     ]
    },
    {
     "name": "stdout",
     "output_type": "stream",
     "text": [
      "Encode id_30_os\n"
     ]
    },
    {
     "name": "stderr",
     "output_type": "stream",
     "text": [
      "\r",
      " 50%|█████     | 9/18 [01:00<01:08,  7.67s/it]"
     ]
    },
    {
     "name": "stdout",
     "output_type": "stream",
     "text": [
      "Encode id_31_annotation\n"
     ]
    },
    {
     "name": "stderr",
     "output_type": "stream",
     "text": [
      "\r",
      " 56%|█████▌    | 10/18 [01:06<00:57,  7.21s/it]"
     ]
    },
    {
     "name": "stdout",
     "output_type": "stream",
     "text": [
      "Encode id_31_developer\n"
     ]
    },
    {
     "name": "stderr",
     "output_type": "stream",
     "text": [
      "\r",
      " 61%|██████    | 11/18 [01:31<01:28, 12.65s/it]"
     ]
    },
    {
     "name": "stdout",
     "output_type": "stream",
     "text": [
      "Encode id_34\n"
     ]
    },
    {
     "name": "stderr",
     "output_type": "stream",
     "text": [
      "\r",
      " 67%|██████▋   | 12/18 [01:36<01:01, 10.27s/it]"
     ]
    },
    {
     "name": "stdout",
     "output_type": "stream",
     "text": [
      "Encode id_35\n"
     ]
    },
    {
     "name": "stderr",
     "output_type": "stream",
     "text": [
      "\r",
      " 72%|███████▏  | 13/18 [01:44<00:47,  9.55s/it]"
     ]
    },
    {
     "name": "stdout",
     "output_type": "stream",
     "text": [
      "Encode id_36\n"
     ]
    },
    {
     "name": "stderr",
     "output_type": "stream",
     "text": [
      "\r",
      " 78%|███████▊  | 14/18 [01:52<00:36,  9.04s/it]"
     ]
    },
    {
     "name": "stdout",
     "output_type": "stream",
     "text": [
      "Encode id_37\n"
     ]
    },
    {
     "name": "stderr",
     "output_type": "stream",
     "text": [
      "\r",
      " 83%|████████▎ | 15/18 [02:00<00:26,  8.69s/it]"
     ]
    },
    {
     "name": "stdout",
     "output_type": "stream",
     "text": [
      "Encode id_38\n"
     ]
    },
    {
     "name": "stderr",
     "output_type": "stream",
     "text": [
      "\r",
      " 89%|████████▉ | 16/18 [02:08<00:16,  8.44s/it]"
     ]
    },
    {
     "name": "stdout",
     "output_type": "stream",
     "text": [
      "Encode DeviceType\n"
     ]
    },
    {
     "name": "stderr",
     "output_type": "stream",
     "text": [
      "\r",
      " 94%|█████████▍| 17/18 [02:16<00:08,  8.32s/it]"
     ]
    },
    {
     "name": "stdout",
     "output_type": "stream",
     "text": [
      "Encode DeviceInfo_map\n"
     ]
    },
    {
     "name": "stderr",
     "output_type": "stream",
     "text": [
      "\r",
      "100%|██████████| 18/18 [03:46<00:00, 33.04s/it]"
     ]
    },
    {
     "name": "stdout",
     "output_type": "stream",
     "text": [
      "CPU times: user 3min 46s, sys: 136 ms, total: 3min 46s\n",
      "Wall time: 3min 46s\n"
     ]
    },
    {
     "name": "stderr",
     "output_type": "stream",
     "text": [
      "\n"
     ]
    }
   ],
   "source": [
    "string_features_identity = get_string_features(test_identity)\n",
    "%time encoders = encode_features(string_features_identity, test_identity, encoder_dict)"
   ]
  },
  {
   "cell_type": "code",
   "execution_count": 24,
   "metadata": {},
   "outputs": [
    {
     "data": {
      "text/plain": [
       "True"
      ]
     },
     "execution_count": 24,
     "metadata": {},
     "output_type": "execute_result"
    }
   ],
   "source": [
    "encoders == encoder_dict"
   ]
  },
  {
   "cell_type": "code",
   "execution_count": null,
   "metadata": {},
   "outputs": [],
   "source": []
  }
 ],
 "metadata": {
  "kernelspec": {
   "display_name": "Python 3",
   "language": "python",
   "name": "python3"
  }
 },
 "nbformat": 4,
 "nbformat_minor": 2
}
