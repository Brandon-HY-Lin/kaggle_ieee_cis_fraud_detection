{
 "cells": [
  {
   "cell_type": "markdown",
   "metadata": {},
   "source": [
    "# Resample Fruad=1 Class\n",
    "- Train using Keras DNN"
   ]
  },
  {
   "cell_type": "code",
   "execution_count": 1,
   "metadata": {},
   "outputs": [
    {
     "name": "stderr",
     "output_type": "stream",
     "text": [
      "Using TensorFlow backend.\n"
     ]
    },
    {
     "name": "stdout",
     "output_type": "stream",
     "text": [
      "<module 'tensorflow._api.v1.version' from '/home/ec2-user/anaconda3/lib/python3.7/site-packages/tensorflow/_api/v1/version/__init__.py'>\n",
      "2\n"
     ]
    }
   ],
   "source": [
    "import pandas as pd\n",
    "import numpy as np\n",
    "import keras\n",
    "\n",
    "from collections import Counter\n",
    "\n",
    "from sklearn.utils import resample, shuffle\n",
    "\n",
    "from keras.layers import Dense, Dropout, BatchNormalization\n",
    "\n",
    "from sklearn.metrics import roc_auc_score\n",
    "\n",
    "from multiprocessing import cpu_count\n",
    "\n",
    "from imblearn.under_sampling import NearMiss\n",
    "from imblearn.over_sampling import SMOTE\n",
    "\n",
    "import xgboost as xgb\n",
    "\n",
    "!python -c 'import tensorflow as tf; print(tf.version)'\n",
    "print(cpu_count())"
   ]
  },
  {
   "cell_type": "markdown",
   "metadata": {},
   "source": [
    "# Read Dataset"
   ]
  },
  {
   "cell_type": "code",
   "execution_count": 2,
   "metadata": {},
   "outputs": [],
   "source": [
    "def get_string_features(df):\n",
    "    string_features = []\n",
    "    for col in df.columns:\n",
    "        if df[col].dtype == np.dtype('object'):\n",
    "            string_features.append(col)\n",
    "\n",
    "    return string_features\n",
    "\n",
    "\n",
    "def read_data(filename='./datasets/kfold/transaction_fold_0_0_0.csv', drop_string_features=True):\n",
    "    \n",
    "    df = pd.read_csv(filename)\n",
    "    \n",
    "    if drop_string_features:\n",
    "        string_features = get_string_features(df)\n",
    "        df = df.drop(columns=string_features)\n",
    "    \n",
    "    return df"
   ]
  },
  {
   "cell_type": "code",
   "execution_count": 3,
   "metadata": {},
   "outputs": [],
   "source": [
    "train = read_data(drop_string_features=True)"
   ]
  },
  {
   "cell_type": "code",
   "execution_count": 4,
   "metadata": {},
   "outputs": [
    {
     "data": {
      "text/plain": [
       "(73816, 380)"
      ]
     },
     "execution_count": 4,
     "metadata": {},
     "output_type": "execute_result"
    }
   ],
   "source": [
    "train.shape"
   ]
  },
  {
   "cell_type": "code",
   "execution_count": 5,
   "metadata": {},
   "outputs": [
    {
     "data": {
      "text/plain": [
       "0    71376\n",
       "1     2440\n",
       "Name: isFraud, dtype: int64"
      ]
     },
     "execution_count": 5,
     "metadata": {},
     "output_type": "execute_result"
    }
   ],
   "source": [
    "train.isFraud.value_counts()"
   ]
  },
  {
   "cell_type": "markdown",
   "metadata": {},
   "source": [
    "# Undersample majority class"
   ]
  },
  {
   "cell_type": "code",
   "execution_count": 6,
   "metadata": {},
   "outputs": [],
   "source": [
    "def preprocess(df):\n",
    "    df = df.fillna(-999)\n",
    "    \n",
    "    return df.drop(columns=['TransactionID', 'TransactionDT'])\n",
    "\n",
    "\n",
    "train = preprocess(train)"
   ]
  },
  {
   "cell_type": "code",
   "execution_count": 7,
   "metadata": {},
   "outputs": [
    {
     "data": {
      "text/plain": [
       "(73816, 378)"
      ]
     },
     "execution_count": 7,
     "metadata": {},
     "output_type": "execute_result"
    }
   ],
   "source": [
    "train.shape"
   ]
  },
  {
   "cell_type": "code",
   "execution_count": 8,
   "metadata": {},
   "outputs": [],
   "source": [
    "def split_features_labels(df):\n",
    "    return df.drop(columns=['isFraud']), df['isFraud']"
   ]
  },
  {
   "cell_type": "code",
   "execution_count": 11,
   "metadata": {},
   "outputs": [
    {
     "name": "stdout",
     "output_type": "stream",
     "text": [
      "CPU times: user 37.7 s, sys: 756 ms, total: 38.5 s\n",
      "Wall time: 26.2 s\n"
     ]
    }
   ],
   "source": [
    "def undersample_then_oversample(df, random_state=27):\n",
    "    \"\"\"\n",
    "    Upsample minority class (isFraud=1), combine with majority class, and then shuffle them.\n",
    "    \"\"\"\n",
    "    sampling_strategy = 0.5\n",
    "#     X = df.drop(columns=['isFraud'])\n",
    "#     y = df['isFraud']\n",
    "    X, y = split_features_labels(df)\n",
    "    \n",
    "    # Declare Random Under Sampler\n",
    "    rus = NearMiss(version=3, \n",
    "                   sampling_strategy=sampling_strategy,\n",
    "                   n_jobs=cpu_count(),\n",
    "                   random_state=random_state)\n",
    "    \n",
    "    ros = SMOTE(n_jobs=cpu_count(),\n",
    "               random_state=random_state)\n",
    "    \n",
    "    X, y = rus.fit_resample(X, y)\n",
    "    X, y = ros.fit_resample(X, y)\n",
    "    \n",
    "    return X, y.astype('int32')\n",
    "\n",
    "\n",
    "%time X, y = undersample_then_oversample(train)"
   ]
  },
  {
   "cell_type": "code",
   "execution_count": 12,
   "metadata": {},
   "outputs": [
    {
     "name": "stdout",
     "output_type": "stream",
     "text": [
      "(9760, 377)\n",
      "(9760,)\n"
     ]
    }
   ],
   "source": [
    "print(X.shape)\n",
    "print(y.shape)"
   ]
  },
  {
   "cell_type": "code",
   "execution_count": 13,
   "metadata": {},
   "outputs": [
    {
     "data": {
      "text/plain": [
       "Counter({0: 4880, 1: 4880})"
      ]
     },
     "execution_count": 13,
     "metadata": {},
     "output_type": "execute_result"
    }
   ],
   "source": [
    "Counter(y)"
   ]
  },
  {
   "cell_type": "markdown",
   "metadata": {},
   "source": [
    "# Build Model"
   ]
  },
  {
   "cell_type": "code",
   "execution_count": 21,
   "metadata": {},
   "outputs": [
    {
     "name": "stdout",
     "output_type": "stream",
     "text": [
      "_________________________________________________________________\n",
      "Layer (type)                 Output Shape              Param #   \n",
      "=================================================================\n",
      "dense_8 (Dense)              (None, 256)               96768     \n",
      "_________________________________________________________________\n",
      "batch_normalization_7 (Batch (None, 256)               1024      \n",
      "_________________________________________________________________\n",
      "dropout_7 (Dropout)          (None, 256)               0         \n",
      "_________________________________________________________________\n",
      "dense_9 (Dense)              (None, 128)               32896     \n",
      "_________________________________________________________________\n",
      "batch_normalization_8 (Batch (None, 128)               512       \n",
      "_________________________________________________________________\n",
      "dropout_8 (Dropout)          (None, 128)               0         \n",
      "_________________________________________________________________\n",
      "dense_10 (Dense)             (None, 64)                8256      \n",
      "_________________________________________________________________\n",
      "batch_normalization_9 (Batch (None, 64)                256       \n",
      "_________________________________________________________________\n",
      "dropout_9 (Dropout)          (None, 64)                0         \n",
      "_________________________________________________________________\n",
      "dense_11 (Dense)             (None, 32)                2080      \n",
      "_________________________________________________________________\n",
      "batch_normalization_10 (Batc (None, 32)                128       \n",
      "_________________________________________________________________\n",
      "dropout_10 (Dropout)         (None, 32)                0         \n",
      "_________________________________________________________________\n",
      "dense_12 (Dense)             (None, 16)                528       \n",
      "_________________________________________________________________\n",
      "batch_normalization_11 (Batc (None, 16)                64        \n",
      "_________________________________________________________________\n",
      "dropout_11 (Dropout)         (None, 16)                0         \n",
      "_________________________________________________________________\n",
      "dense_13 (Dense)             (None, 8)                 136       \n",
      "_________________________________________________________________\n",
      "batch_normalization_12 (Batc (None, 8)                 32        \n",
      "_________________________________________________________________\n",
      "dropout_12 (Dropout)         (None, 8)                 0         \n",
      "_________________________________________________________________\n",
      "dense_14 (Dense)             (None, 1)                 9         \n",
      "=================================================================\n",
      "Total params: 142,689\n",
      "Trainable params: 141,681\n",
      "Non-trainable params: 1,008\n",
      "_________________________________________________________________\n"
     ]
    }
   ],
   "source": [
    "def get_model(input_dim, lr=1e-3):\n",
    "    \n",
    "#     inputs = keras.layers.Input(shape=[input_dim,])\n",
    "    \n",
    "#     x = keras.layers.Dense(256, activation='relu')(inputs)\n",
    "#     x = keras.layers.Dense(128, activation='relu')(x)\n",
    "#     x = keras.layers.Dense(64, activation='relu')(x)\n",
    "#     x = keras.layers.Dense(16, activation='relu')(x)\n",
    "#     outputs = keras.layers.Dense(1, activation='sigmoid')(x)\n",
    "    \n",
    "#     model = keras.models.Model(inputs=inputs,\n",
    "#                               outputs=outputs)\n",
    "    \n",
    "\n",
    "    model = keras.models.Sequential()\n",
    "    model.add(Dense(256, activation='relu', kernel_initializer = 'uniform', input_dim=input_dim))\n",
    "    model.add(BatchNormalization())\n",
    "    model.add(Dropout(0.2))\n",
    "    model.add(Dense(128, activation='relu', kernel_initializer = 'uniform'))\n",
    "    model.add(BatchNormalization())\n",
    "    model.add(Dropout(0.2))\n",
    "    model.add(Dense(64, activation='relu', kernel_initializer = 'uniform'))\n",
    "    model.add(BatchNormalization())\n",
    "    model.add(Dropout(0.2))\n",
    "    model.add(Dense(32, activation='relu', kernel_initializer = 'uniform'))\n",
    "    model.add(BatchNormalization())\n",
    "    model.add(Dropout(0.2))\n",
    "    model.add(Dense(16, activation='relu', kernel_initializer = 'uniform'))\n",
    "    model.add(BatchNormalization())\n",
    "    model.add(Dropout(0.2))\n",
    "    model.add(Dense(8, activation='relu', kernel_initializer = 'uniform'))\n",
    "    model.add(BatchNormalization())\n",
    "    model.add(Dropout(0.2))\n",
    "    model.add(Dense(1, activation='sigmoid', kernel_initializer = 'uniform'))\n",
    "    \n",
    "    optimizer = keras.optimizers.Adam(lr=lr)\n",
    "\n",
    "    model.compile(loss='binary_crossentropy',\n",
    "                  optimizer=optimizer,\n",
    "                 metrics=['accuracy'])\n",
    "    \n",
    "    \n",
    "    return model\n",
    "\n",
    "\n",
    "model = get_model(X.shape[1], lr=1e-3)\n",
    "\n",
    "model.summary()"
   ]
  },
  {
   "cell_type": "markdown",
   "metadata": {},
   "source": [
    "# Train"
   ]
  },
  {
   "cell_type": "code",
   "execution_count": 22,
   "metadata": {},
   "outputs": [
    {
     "name": "stdout",
     "output_type": "stream",
     "text": [
      "Epoch 1/50\n",
      "9760/9760 [==============================] - 2s 232us/step - loss: 0.6909 - acc: 0.5267\n",
      "Epoch 2/50\n",
      "9760/9760 [==============================] - 0s 51us/step - loss: 0.6871 - acc: 0.5458\n",
      "Epoch 3/50\n",
      "9760/9760 [==============================] - 0s 50us/step - loss: 0.6803 - acc: 0.5602\n",
      "Epoch 4/50\n",
      "9760/9760 [==============================] - 0s 50us/step - loss: 0.6735 - acc: 0.5739\n",
      "Epoch 5/50\n",
      "9760/9760 [==============================] - 0s 50us/step - loss: 0.6703 - acc: 0.5697\n",
      "Epoch 6/50\n",
      "9760/9760 [==============================] - 0s 50us/step - loss: 0.6666 - acc: 0.5788\n",
      "Epoch 7/50\n",
      "9760/9760 [==============================] - 1s 51us/step - loss: 0.6626 - acc: 0.5868\n",
      "Epoch 8/50\n",
      "9760/9760 [==============================] - 0s 50us/step - loss: 0.6602 - acc: 0.5942\n",
      "Epoch 9/50\n",
      "9760/9760 [==============================] - 0s 50us/step - loss: 0.6607 - acc: 0.5899\n",
      "Epoch 10/50\n",
      "9760/9760 [==============================] - 0s 49us/step - loss: 0.6570 - acc: 0.5972\n",
      "Epoch 11/50\n",
      "9760/9760 [==============================] - 0s 50us/step - loss: 0.6532 - acc: 0.6003\n",
      "Epoch 12/50\n",
      "9760/9760 [==============================] - 0s 51us/step - loss: 0.6645 - acc: 0.5869\n",
      "Epoch 13/50\n",
      "9760/9760 [==============================] - 0s 51us/step - loss: 0.6516 - acc: 0.6022\n",
      "Epoch 14/50\n",
      "9760/9760 [==============================] - 1s 51us/step - loss: 0.6522 - acc: 0.5994\n",
      "Epoch 15/50\n",
      "9760/9760 [==============================] - 1s 53us/step - loss: 0.6489 - acc: 0.6030\n",
      "Epoch 16/50\n",
      "9760/9760 [==============================] - 1s 52us/step - loss: 0.6460 - acc: 0.6135\n",
      "Epoch 17/50\n",
      "9760/9760 [==============================] - 0s 50us/step - loss: 0.6471 - acc: 0.6084\n",
      "Epoch 18/50\n",
      "9760/9760 [==============================] - 0s 50us/step - loss: 0.6454 - acc: 0.6121\n",
      "Epoch 19/50\n",
      "9760/9760 [==============================] - 0s 51us/step - loss: 0.6401 - acc: 0.6208\n",
      "Epoch 20/50\n",
      "9760/9760 [==============================] - 0s 50us/step - loss: 0.6438 - acc: 0.6140\n",
      "Epoch 21/50\n",
      "9760/9760 [==============================] - 1s 51us/step - loss: 0.6407 - acc: 0.6151\n",
      "Epoch 22/50\n",
      "9760/9760 [==============================] - 0s 51us/step - loss: 0.6396 - acc: 0.6200\n",
      "Epoch 23/50\n",
      "9760/9760 [==============================] - 0s 50us/step - loss: 0.6397 - acc: 0.6176\n",
      "Epoch 24/50\n",
      "9760/9760 [==============================] - 0s 50us/step - loss: 0.6415 - acc: 0.6126\n",
      "Epoch 25/50\n",
      "9760/9760 [==============================] - 0s 51us/step - loss: 0.6357 - acc: 0.6207\n",
      "Epoch 26/50\n",
      "9760/9760 [==============================] - 0s 48us/step - loss: 0.6392 - acc: 0.6178\n",
      "Epoch 27/50\n",
      "9760/9760 [==============================] - 0s 50us/step - loss: 0.6362 - acc: 0.6201\n",
      "Epoch 28/50\n",
      "9760/9760 [==============================] - 0s 50us/step - loss: 0.6377 - acc: 0.6215\n",
      "Epoch 29/50\n",
      "9760/9760 [==============================] - 0s 50us/step - loss: 0.6377 - acc: 0.6169\n",
      "Epoch 30/50\n",
      "9760/9760 [==============================] - 0s 51us/step - loss: 0.6366 - acc: 0.6270\n",
      "Epoch 31/50\n",
      "9760/9760 [==============================] - 1s 52us/step - loss: 0.6336 - acc: 0.6244\n",
      "Epoch 32/50\n",
      "9760/9760 [==============================] - 0s 51us/step - loss: 0.6334 - acc: 0.6235\n",
      "Epoch 33/50\n",
      "9760/9760 [==============================] - 0s 51us/step - loss: 0.6339 - acc: 0.6237\n",
      "Epoch 34/50\n",
      "9760/9760 [==============================] - 0s 50us/step - loss: 0.6317 - acc: 0.6281\n",
      "Epoch 35/50\n",
      "9760/9760 [==============================] - 0s 50us/step - loss: 0.6393 - acc: 0.6150\n",
      "Epoch 36/50\n",
      "9760/9760 [==============================] - 0s 50us/step - loss: 0.6346 - acc: 0.6211\n",
      "Epoch 37/50\n",
      "9760/9760 [==============================] - 0s 50us/step - loss: 0.6282 - acc: 0.6296\n",
      "Epoch 38/50\n",
      "9760/9760 [==============================] - 0s 50us/step - loss: 0.6355 - acc: 0.6243\n",
      "Epoch 39/50\n",
      "9760/9760 [==============================] - 0s 50us/step - loss: 0.6328 - acc: 0.6241\n",
      "Epoch 40/50\n",
      "9760/9760 [==============================] - 0s 51us/step - loss: 0.6365 - acc: 0.6196\n",
      "Epoch 41/50\n",
      "9760/9760 [==============================] - 1s 54us/step - loss: 0.6347 - acc: 0.6243\n",
      "Epoch 42/50\n",
      "9760/9760 [==============================] - 0s 50us/step - loss: 0.6305 - acc: 0.6237\n",
      "Epoch 43/50\n",
      "9760/9760 [==============================] - 0s 49us/step - loss: 0.6309 - acc: 0.6268\n",
      "Epoch 44/50\n",
      "9760/9760 [==============================] - 0s 50us/step - loss: 0.6335 - acc: 0.6245\n",
      "Epoch 45/50\n",
      "9760/9760 [==============================] - 0s 51us/step - loss: 0.6287 - acc: 0.6224\n",
      "Epoch 46/50\n",
      "9760/9760 [==============================] - 0s 50us/step - loss: 0.6266 - acc: 0.6303\n",
      "Epoch 47/50\n",
      "9760/9760 [==============================] - 0s 50us/step - loss: 0.6329 - acc: 0.6215\n",
      "Epoch 48/50\n",
      "9760/9760 [==============================] - 0s 51us/step - loss: 0.6306 - acc: 0.6280\n",
      "Epoch 49/50\n",
      "9760/9760 [==============================] - 0s 50us/step - loss: 0.6252 - acc: 0.6320\n",
      "Epoch 50/50\n",
      "9760/9760 [==============================] - 0s 51us/step - loss: 0.6218 - acc: 0.6371\n"
     ]
    },
    {
     "data": {
      "text/plain": [
       "<keras.callbacks.History at 0x7f5cdcd6bc88>"
      ]
     },
     "execution_count": 22,
     "metadata": {},
     "output_type": "execute_result"
    }
   ],
   "source": [
    "epochs = 50\n",
    "batch_size = 256\n",
    "\n",
    "model.fit(X, y,\n",
    "         epochs=epochs,\n",
    "         batch_size=batch_size)"
   ]
  },
  {
   "cell_type": "code",
   "execution_count": 23,
   "metadata": {},
   "outputs": [
    {
     "name": "stdout",
     "output_type": "stream",
     "text": [
      "roc-auc score=0.6664095883163128\n"
     ]
    }
   ],
   "source": [
    "pred_prob = model.predict_proba(X,\n",
    "                               batch_size=batch_size)\n",
    "\n",
    "score = roc_auc_score(y, pred_prob)\n",
    "\n",
    "print('roc-auc score={}'.format(score))\n"
   ]
  },
  {
   "cell_type": "markdown",
   "metadata": {},
   "source": [
    "# Train using XGB"
   ]
  },
  {
   "cell_type": "code",
   "execution_count": 12,
   "metadata": {},
   "outputs": [
    {
     "name": "stdout",
     "output_type": "stream",
     "text": [
      "CPU times: user 7.07 s, sys: 7.03 ms, total: 7.08 s\n",
      "Wall time: 7.1 s\n"
     ]
    },
    {
     "data": {
      "text/plain": [
       "XGBClassifier(base_score=0.5, booster='gbtree', colsample_bylevel=1,\n",
       "              colsample_bynode=1, colsample_bytree=1, gamma=0,\n",
       "              learning_rate=0.1, max_delta_step=0, max_depth=3,\n",
       "              min_child_weight=1, missing=None, n_estimators=100, n_jobs=1,\n",
       "              n_thread=2, nthread=None, objective='binary:logistic',\n",
       "              random_state=0, reg_alpha=0, reg_lambda=1, scale_pos_weight=1,\n",
       "              seed=27, silent=None, subsample=1, verbosity=1)"
      ]
     },
     "execution_count": 12,
     "metadata": {},
     "output_type": "execute_result"
    }
   ],
   "source": [
    "seed = 27\n",
    "model = xgb.XGBClassifier(objective='binary:logistic',\n",
    "                            n_thread=cpu_count(),\n",
    "                            seed=seed)\n",
    "\n",
    "%time model.fit(X, y, verbose=True)"
   ]
  },
  {
   "cell_type": "markdown",
   "metadata": {},
   "source": [
    "# Read Test Data"
   ]
  },
  {
   "cell_type": "code",
   "execution_count": 13,
   "metadata": {},
   "outputs": [
    {
     "data": {
      "text/plain": [
       "151"
      ]
     },
     "execution_count": 13,
     "metadata": {},
     "output_type": "execute_result"
    }
   ],
   "source": [
    "del train\n",
    "\n",
    "import gc\n",
    "gc.collect()"
   ]
  },
  {
   "cell_type": "code",
   "execution_count": 14,
   "metadata": {},
   "outputs": [],
   "source": [
    "test = read_data('./datasets/kfold/transaction_fold_0_0_1.csv')\n",
    "\n",
    "test = preprocess(test)"
   ]
  },
  {
   "cell_type": "code",
   "execution_count": 15,
   "metadata": {},
   "outputs": [],
   "source": [
    "X, y = split_features_labels(test)"
   ]
  },
  {
   "cell_type": "code",
   "execution_count": 17,
   "metadata": {},
   "outputs": [
    {
     "data": {
      "text/plain": [
       "pandas.core.frame.DataFrame"
      ]
     },
     "execution_count": 17,
     "metadata": {},
     "output_type": "execute_result"
    }
   ],
   "source": [
    "type(X)"
   ]
  },
  {
   "cell_type": "code",
   "execution_count": 18,
   "metadata": {},
   "outputs": [],
   "source": [
    "X = X.values"
   ]
  },
  {
   "cell_type": "code",
   "execution_count": 19,
   "metadata": {},
   "outputs": [
    {
     "data": {
      "text/plain": [
       "numpy.ndarray"
      ]
     },
     "execution_count": 19,
     "metadata": {},
     "output_type": "execute_result"
    }
   ],
   "source": [
    "type(X)"
   ]
  },
  {
   "cell_type": "code",
   "execution_count": 20,
   "metadata": {},
   "outputs": [
    {
     "name": "stdout",
     "output_type": "stream",
     "text": [
      "roc-auc score=0.8543205875032993\n"
     ]
    }
   ],
   "source": [
    "pred_prob = model.predict_proba(X)\n",
    "\n",
    "score = roc_auc_score(y, pred_prob[:, 1])\n",
    "\n",
    "print('roc-auc score={}'.format(score))"
   ]
  },
  {
   "cell_type": "code",
   "execution_count": null,
   "metadata": {},
   "outputs": [],
   "source": []
  }
 ],
 "metadata": {
  "kernelspec": {
   "display_name": "Python 3",
   "language": "python",
   "name": "python3"
  },
  "language_info": {
   "codemirror_mode": {
    "name": "ipython",
    "version": 3
   },
   "file_extension": ".py",
   "mimetype": "text/x-python",
   "name": "python",
   "nbconvert_exporter": "python",
   "pygments_lexer": "ipython3",
   "version": "3.7.3"
  }
 },
 "nbformat": 4,
 "nbformat_minor": 2
}
