{
 "cells": [
  {
   "cell_type": "markdown",
   "metadata": {},
   "source": [
    "# Resample Fruad=1 Class\n",
    "- Train using Keras DNN"
   ]
  },
  {
   "cell_type": "code",
   "execution_count": 1,
   "metadata": {},
   "outputs": [
    {
     "name": "stderr",
     "output_type": "stream",
     "text": [
      "Using TensorFlow backend.\n"
     ]
    },
    {
     "name": "stdout",
     "output_type": "stream",
     "text": [
      "<module 'tensorflow._api.v1.version' from '/home/ec2-user/anaconda3/lib/python3.7/site-packages/tensorflow/_api/v1/version/__init__.py'>\n",
      "4\n"
     ]
    }
   ],
   "source": [
    "import pandas as pd\n",
    "import numpy as np\n",
    "import keras\n",
    "\n",
    "from collections import Counter\n",
    "\n",
    "from sklearn.utils import resample, shuffle\n",
    "\n",
    "from keras.layers import Dense, Dropout, BatchNormalization\n",
    "\n",
    "from sklearn.metrics import roc_auc_score\n",
    "\n",
    "from multiprocessing import cpu_count\n",
    "\n",
    "from imblearn.under_sampling import NearMiss\n",
    "from imblearn.over_sampling import SMOTE\n",
    "\n",
    "import xgboost as xgb\n",
    "\n",
    "!python -c 'import tensorflow as tf; print(tf.version)'\n",
    "print(cpu_count())"
   ]
  },
  {
   "cell_type": "markdown",
   "metadata": {},
   "source": [
    "# Read Dataset"
   ]
  },
  {
   "cell_type": "code",
   "execution_count": 2,
   "metadata": {},
   "outputs": [],
   "source": [
    "def get_string_features(df):\n",
    "    string_features = []\n",
    "    for col in df.columns:\n",
    "        if df[col].dtype == np.dtype('object'):\n",
    "            string_features.append(col)\n",
    "\n",
    "    return string_features\n",
    "\n",
    "\n",
    "def read_data(filename='./datasets/kfold/transaction_fold_0_0_0.csv',\n",
    "              filename_identity=None,\n",
    "              drop_string_features=True):\n",
    "    \n",
    "    df = pd.read_csv(filename)\n",
    "    \n",
    "    if filename_identity is not None:\n",
    "        df_identity = pd.read_csv(filename_identity)\n",
    "        \n",
    "        df = pd.merge(df, df_identity, on='TransactionID', how='left')\n",
    "        \n",
    "        del df_identity\n",
    "    \n",
    "    \n",
    "    if drop_string_features:\n",
    "        string_features = get_string_features(df)\n",
    "        df = df.drop(columns=string_features)\n",
    "    \n",
    "    return df"
   ]
  },
  {
   "cell_type": "code",
   "execution_count": 59,
   "metadata": {
    "scrolled": true
   },
   "outputs": [
    {
     "name": "stdout",
     "output_type": "stream",
     "text": [
      "CPU times: user 2.49 s, sys: 132 ms, total: 2.62 s\n",
      "Wall time: 2.62 s\n"
     ]
    }
   ],
   "source": [
    "# filename = './datasets/train_transaction.csv'\n",
    "# filename_identity = './datasets/train_identity.csv'\n",
    "\n",
    "# %time train = read_data(filename, filename_identity, drop_string_features=True)\n",
    "\n",
    "%time train = read_data(drop_string_features=False)"
   ]
  },
  {
   "cell_type": "code",
   "execution_count": 60,
   "metadata": {},
   "outputs": [
    {
     "data": {
      "text/plain": [
       "(73816, 394)"
      ]
     },
     "execution_count": 60,
     "metadata": {},
     "output_type": "execute_result"
    }
   ],
   "source": [
    "train.shape"
   ]
  },
  {
   "cell_type": "code",
   "execution_count": 61,
   "metadata": {},
   "outputs": [
    {
     "data": {
      "text/plain": [
       "0    71376\n",
       "1     2440\n",
       "Name: isFraud, dtype: int64"
      ]
     },
     "execution_count": 61,
     "metadata": {},
     "output_type": "execute_result"
    }
   ],
   "source": [
    "train.isFraud.value_counts()"
   ]
  },
  {
   "cell_type": "code",
   "execution_count": 62,
   "metadata": {},
   "outputs": [
    {
     "data": {
      "text/plain": [
       "['ProductCD',\n",
       " 'card4',\n",
       " 'card6',\n",
       " 'P_emaildomain',\n",
       " 'R_emaildomain',\n",
       " 'M1',\n",
       " 'M2',\n",
       " 'M3',\n",
       " 'M4',\n",
       " 'M5',\n",
       " 'M6',\n",
       " 'M7',\n",
       " 'M8',\n",
       " 'M9']"
      ]
     },
     "execution_count": 62,
     "metadata": {},
     "output_type": "execute_result"
    }
   ],
   "source": [
    "get_string_features(train)"
   ]
  },
  {
   "cell_type": "markdown",
   "metadata": {},
   "source": [
    "# Encode Labels"
   ]
  },
  {
   "cell_type": "code",
   "execution_count": 50,
   "metadata": {},
   "outputs": [
    {
     "name": "stdout",
     "output_type": "stream",
     "text": [
      "{'mastercard': 0, 'visa': 1, 'american express': 2, 'discover': 3, nan: 4}\n"
     ]
    }
   ],
   "source": [
    "uniques = train['card4'].unique()\n",
    "mapping = dict(zip(uniques, range(len(uniques))))\n",
    "print(mapping)"
   ]
  },
  {
   "cell_type": "code",
   "execution_count": 75,
   "metadata": {},
   "outputs": [
    {
     "name": "stdout",
     "output_type": "stream",
     "text": [
      "CPU times: user 2 ms, sys: 0 ns, total: 2 ms\n",
      "Wall time: 2.01 ms\n"
     ]
    }
   ],
   "source": [
    "def encode(df, mappings=None):\n",
    "    mappings= {}\n",
    "    \n",
    "    string_features = get_string_features(df)\n",
    "    \n",
    "    for feature in string_features:\n",
    "        \n",
    "        if mappings is None:\n",
    "            uniques = df[feature].unique()\n",
    "            m = dict(zip(uniques, range(len(uniques))))\n",
    "            mappings[feature] = m\n",
    "        else:\n",
    "            m = mappings[feature]\n",
    "        \n",
    "        df[feature] = df[feature].map(m)\n",
    "        \n",
    "        \n",
    "        \n",
    "        \n",
    "    return mappings\n",
    "\n",
    "\n",
    "%time mappings = encode(train)"
   ]
  },
  {
   "cell_type": "code",
   "execution_count": 64,
   "metadata": {},
   "outputs": [
    {
     "data": {
      "text/plain": [
       "{'ProductCD': {'W': 0, 'C': 1, 'H': 2, 'R': 3, 'S': 4},\n",
       " 'card4': {'mastercard': 0,\n",
       "  'visa': 1,\n",
       "  'american express': 2,\n",
       "  'discover': 3,\n",
       "  nan: 4},\n",
       " 'card6': {'credit': 0,\n",
       "  'debit': 1,\n",
       "  'debit or credit': 2,\n",
       "  nan: 3,\n",
       "  'charge card': 4},\n",
       " 'P_emaildomain': {'gmail.com': 0,\n",
       "  'mail.com': 1,\n",
       "  'yahoo.com': 2,\n",
       "  'me.com': 3,\n",
       "  'hotmail.com': 4,\n",
       "  'anonymous.com': 5,\n",
       "  'comcast.net': 6,\n",
       "  'prodigy.net.mx': 7,\n",
       "  nan: 8,\n",
       "  'aol.com': 9,\n",
       "  'live.com': 10,\n",
       "  'icloud.com': 11,\n",
       "  'outlook.com': 12,\n",
       "  'juno.com': 13,\n",
       "  'msn.com': 14,\n",
       "  'yahoo.com.mx': 15,\n",
       "  'q.com': 16,\n",
       "  'earthlink.net': 17,\n",
       "  'hotmail.es': 18,\n",
       "  'live.com.mx': 19,\n",
       "  'roadrunner.com': 20,\n",
       "  'charter.net': 21,\n",
       "  'verizon.net': 22,\n",
       "  'optonline.net': 23,\n",
       "  'ymail.com': 24,\n",
       "  'sbcglobal.net': 25,\n",
       "  'bellsouth.net': 26,\n",
       "  'att.net': 27,\n",
       "  'rocketmail.com': 28,\n",
       "  'cox.net': 29,\n",
       "  'centurylink.net': 30,\n",
       "  'suddenlink.net': 31,\n",
       "  'gmail': 32,\n",
       "  'outlook.es': 33,\n",
       "  'aim.com': 34,\n",
       "  'frontier.com': 35,\n",
       "  'twc.com': 36,\n",
       "  'windstream.net': 37,\n",
       "  'yahoo.es': 38,\n",
       "  'mac.com': 39,\n",
       "  'frontiernet.net': 40,\n",
       "  'web.de': 41,\n",
       "  'ptd.net': 42,\n",
       "  'embarqmail.com': 43,\n",
       "  'hotmail.fr': 44,\n",
       "  'hotmail.de': 45,\n",
       "  'cableone.net': 46,\n",
       "  'protonmail.com': 47,\n",
       "  'yahoo.fr': 48,\n",
       "  'hotmail.co.uk': 49,\n",
       "  'sc.rr.com': 50,\n",
       "  'yahoo.co.uk': 51,\n",
       "  'netzero.com': 52,\n",
       "  'cfl.rr.com': 53,\n",
       "  'netzero.net': 54,\n",
       "  'servicios-ta.com': 55,\n",
       "  'yahoo.de': 56,\n",
       "  'gmx.de': 57,\n",
       "  'yahoo.co.jp': 58,\n",
       "  'live.fr': 59},\n",
       " 'R_emaildomain': {nan: 0,\n",
       "  'gmail.com': 1,\n",
       "  'hotmail.com': 2,\n",
       "  'anonymous.com': 3,\n",
       "  'prodigy.net.mx': 4,\n",
       "  'icloud.com': 5,\n",
       "  'outlook.com': 6,\n",
       "  'yahoo.com': 7,\n",
       "  'ymail.com': 8,\n",
       "  'yahoo.com.mx': 9,\n",
       "  'hotmail.es': 10,\n",
       "  'live.com.mx': 11,\n",
       "  'live.com': 12,\n",
       "  'aol.com': 13,\n",
       "  'comcast.net': 14,\n",
       "  'juno.com': 15,\n",
       "  'verizon.net': 16,\n",
       "  'optonline.net': 17,\n",
       "  'aim.com': 18,\n",
       "  'msn.com': 19,\n",
       "  'mail.com': 20,\n",
       "  'bellsouth.net': 21,\n",
       "  'outlook.es': 22,\n",
       "  'cox.net': 23,\n",
       "  'earthlink.net': 24,\n",
       "  'me.com': 25,\n",
       "  'sbcglobal.net': 26,\n",
       "  'mac.com': 27,\n",
       "  'att.net': 28,\n",
       "  'yahoo.es': 29,\n",
       "  'web.de': 30,\n",
       "  'windstream.net': 31,\n",
       "  'embarqmail.com': 32,\n",
       "  'roadrunner.com': 33,\n",
       "  'suddenlink.net': 34,\n",
       "  'hotmail.fr': 35,\n",
       "  'hotmail.de': 36,\n",
       "  'frontier.com': 37,\n",
       "  'twc.com': 38,\n",
       "  'ptd.net': 39,\n",
       "  'yahoo.fr': 40,\n",
       "  'hotmail.co.uk': 41,\n",
       "  'yahoo.co.uk': 42,\n",
       "  'servicios-ta.com': 43,\n",
       "  'charter.net': 44,\n",
       "  'yahoo.de': 45,\n",
       "  'gmx.de': 46,\n",
       "  'q.com': 47,\n",
       "  'netzero.net': 48,\n",
       "  'rocketmail.com': 49,\n",
       "  'cableone.net': 50,\n",
       "  'centurylink.net': 51,\n",
       "  'sc.rr.com': 52,\n",
       "  'cfl.rr.com': 53,\n",
       "  'protonmail.com': 54,\n",
       "  'frontiernet.net': 55,\n",
       "  'yahoo.co.jp': 56,\n",
       "  'netzero.com': 57,\n",
       "  'live.fr': 58,\n",
       "  'gmail': 59,\n",
       "  'scranton.edu': 60},\n",
       " 'M1': {nan: 0, 'T': 1, 'F': 2},\n",
       " 'M2': {nan: 0, 'T': 1, 'F': 2},\n",
       " 'M3': {nan: 0, 'T': 1, 'F': 2},\n",
       " 'M4': {'M0': 0, 'M1': 1, nan: 2, 'M2': 3},\n",
       " 'M5': {'T': 0, 'F': 1, nan: 2},\n",
       " 'M6': {'T': 0, 'F': 1, nan: 2},\n",
       " 'M7': {nan: 0, 'F': 1, 'T': 2},\n",
       " 'M8': {nan: 0, 'T': 1, 'F': 2},\n",
       " 'M9': {nan: 0, 'T': 1, 'F': 2}}"
      ]
     },
     "execution_count": 64,
     "metadata": {},
     "output_type": "execute_result"
    }
   ],
   "source": [
    "mappings"
   ]
  },
  {
   "cell_type": "code",
   "execution_count": 65,
   "metadata": {},
   "outputs": [
    {
     "data": {
      "text/plain": [
       "[]"
      ]
     },
     "execution_count": 65,
     "metadata": {},
     "output_type": "execute_result"
    }
   ],
   "source": [
    "get_string_features(train)"
   ]
  },
  {
   "cell_type": "code",
   "execution_count": null,
   "metadata": {},
   "outputs": [],
   "source": []
  },
  {
   "cell_type": "markdown",
   "metadata": {},
   "source": [
    "# Undersample majority class"
   ]
  },
  {
   "cell_type": "code",
   "execution_count": 66,
   "metadata": {},
   "outputs": [],
   "source": [
    "def preprocess(df):\n",
    "    df = df.fillna(-999)\n",
    "    \n",
    "    return df.drop(columns=['TransactionID', 'TransactionDT'])\n",
    "\n",
    "\n",
    "train = preprocess(train)"
   ]
  },
  {
   "cell_type": "code",
   "execution_count": 67,
   "metadata": {},
   "outputs": [
    {
     "data": {
      "text/plain": [
       "(73816, 392)"
      ]
     },
     "execution_count": 67,
     "metadata": {},
     "output_type": "execute_result"
    }
   ],
   "source": [
    "train.shape"
   ]
  },
  {
   "cell_type": "code",
   "execution_count": 68,
   "metadata": {},
   "outputs": [],
   "source": [
    "def split_features_labels(df):\n",
    "    return df.drop(columns=['isFraud']), df['isFraud']"
   ]
  },
  {
   "cell_type": "code",
   "execution_count": 69,
   "metadata": {},
   "outputs": [
    {
     "name": "stdout",
     "output_type": "stream",
     "text": [
      "CPU times: user 33 s, sys: 695 ms, total: 33.7 s\n",
      "Wall time: 25.2 s\n"
     ]
    }
   ],
   "source": [
    "# def undersample_then_oversample(df, random_state=27):\n",
    "#     \"\"\"\n",
    "#     Upsample minority class (isFraud=1), combine with majority class, and then shuffle them.\n",
    "#     \"\"\"\n",
    "#     sampling_strategy = 0.5\n",
    "# #     X = df.drop(columns=['isFraud'])\n",
    "# #     y = df['isFraud']\n",
    "#     X, y = split_features_labels(df)\n",
    "    \n",
    "#     # Declare Random Under Sampler\n",
    "#     rus = NearMiss(version=3, \n",
    "#                    sampling_strategy=sampling_strategy,\n",
    "#                    n_jobs=cpu_count(),\n",
    "#                    random_state=random_state)\n",
    "    \n",
    "#     ros = SMOTE(n_jobs=cpu_count(),\n",
    "#                random_state=random_state)\n",
    "    \n",
    "#     X, y = rus.fit_resample(X, y)\n",
    "#     X, y = ros.fit_resample(X, y)\n",
    "    \n",
    "#     return X, y.astype('int32')\n",
    "\n",
    "\n",
    "# %time X, y = undersample_then_oversample(train)"
   ]
  },
  {
   "cell_type": "code",
   "execution_count": 14,
   "metadata": {},
   "outputs": [
    {
     "name": "stdout",
     "output_type": "stream",
     "text": [
      "CPU times: user 2.13 s, sys: 492 ms, total: 2.62 s\n",
      "Wall time: 1.8 s\n"
     ]
    }
   ],
   "source": [
    "def oversample(df, random_state=27):\n",
    "    \"\"\"\n",
    "    Upsample minority class (isFraud=1), combine with majority class, and then shuffle them.\n",
    "    \"\"\"\n",
    "    sampling_strategy = 0.15\n",
    "#     X = df.drop(columns=['isFraud'])\n",
    "#     y = df['isFraud']\n",
    "    X, y = split_features_labels(df)\n",
    "    \n",
    "    ros = SMOTE(sampling_strategy=sampling_strategy,\n",
    "                n_jobs=cpu_count(),\n",
    "               random_state=random_state)\n",
    "    \n",
    "    X, y = ros.fit_resample(X, y)\n",
    "    \n",
    "    return X, y.astype('int32')\n",
    "\n",
    "\n",
    "%time X, y = oversample(train)"
   ]
  },
  {
   "cell_type": "code",
   "execution_count": 70,
   "metadata": {
    "scrolled": true
   },
   "outputs": [
    {
     "name": "stdout",
     "output_type": "stream",
     "text": [
      "(9760, 391)\n",
      "(9760,)\n"
     ]
    }
   ],
   "source": [
    "print(X.shape)\n",
    "print(y.shape)"
   ]
  },
  {
   "cell_type": "code",
   "execution_count": 71,
   "metadata": {},
   "outputs": [
    {
     "data": {
      "text/plain": [
       "Counter({0: 4880, 1: 4880})"
      ]
     },
     "execution_count": 71,
     "metadata": {},
     "output_type": "execute_result"
    }
   ],
   "source": [
    "Counter(y)"
   ]
  },
  {
   "cell_type": "markdown",
   "metadata": {},
   "source": [
    "# Train using XGB"
   ]
  },
  {
   "cell_type": "code",
   "execution_count": 72,
   "metadata": {},
   "outputs": [
    {
     "name": "stdout",
     "output_type": "stream",
     "text": [
      "<class 'pandas.core.frame.DataFrame'>\n",
      "RangeIndex: 73816 entries, 0 to 73815\n",
      "Columns: 392 entries, isFraud to V339\n",
      "dtypes: float64(376), int64(16)\n",
      "memory usage: 220.8 MB\n"
     ]
    }
   ],
   "source": [
    "train.info()"
   ]
  },
  {
   "cell_type": "code",
   "execution_count": 21,
   "metadata": {},
   "outputs": [
    {
     "data": {
      "text/plain": [
       "630"
      ]
     },
     "execution_count": 21,
     "metadata": {},
     "output_type": "execute_result"
    }
   ],
   "source": [
    "del train\n",
    "\n",
    "import gc\n",
    "gc.collect()"
   ]
  },
  {
   "cell_type": "code",
   "execution_count": 73,
   "metadata": {},
   "outputs": [
    {
     "name": "stdout",
     "output_type": "stream",
     "text": [
      "CPU times: user 10.9 s, sys: 46.7 ms, total: 11 s\n",
      "Wall time: 5.52 s\n"
     ]
    },
    {
     "data": {
      "text/plain": [
       "XGBClassifier(base_score=0.5, booster='gbtree', colsample_bylevel=1,\n",
       "              colsample_bynode=1, colsample_bytree=1, gamma=0,\n",
       "              learning_rate=0.1, max_delta_step=0, max_depth=3,\n",
       "              min_child_weight=1, missing=None, n_estimators=100, n_jobs=2,\n",
       "              nthread=None, objective='binary:logistic', random_state=0,\n",
       "              reg_alpha=0, reg_lambda=1, scale_pos_weight=1, seed=27,\n",
       "              silent=None, subsample=1, verbosity=1)"
      ]
     },
     "execution_count": 73,
     "metadata": {},
     "output_type": "execute_result"
    }
   ],
   "source": [
    "seed = 27\n",
    "model = xgb.XGBClassifier(objective='binary:logistic',\n",
    "                            n_jobs=cpu_count(),\n",
    "                            seed=seed)\n",
    "\n",
    "%time model.fit(X, y, verbose=True)"
   ]
  },
  {
   "cell_type": "code",
   "execution_count": 74,
   "metadata": {},
   "outputs": [
    {
     "name": "stdout",
     "output_type": "stream",
     "text": [
      "roc-auc score=0.9272683754367105\n"
     ]
    }
   ],
   "source": [
    "pred_prob = model.predict_proba(X)\n",
    "\n",
    "score = roc_auc_score(y, pred_prob[:, 1])\n",
    "\n",
    "print('roc-auc score={}'.format(score))"
   ]
  },
  {
   "cell_type": "code",
   "execution_count": null,
   "metadata": {},
   "outputs": [],
   "source": []
  }
 ],
 "metadata": {
  "kernelspec": {
   "display_name": "Python 3",
   "language": "python",
   "name": "python3"
  },
  "language_info": {
   "codemirror_mode": {
    "name": "ipython",
    "version": 3
   },
   "file_extension": ".py",
   "mimetype": "text/x-python",
   "name": "python",
   "nbconvert_exporter": "python",
   "pygments_lexer": "ipython3",
   "version": "3.7.3"
  }
 },
 "nbformat": 4,
 "nbformat_minor": 2
}
